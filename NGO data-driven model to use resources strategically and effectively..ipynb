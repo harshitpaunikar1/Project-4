{
 "cells": [
  {
   "cell_type": "markdown",
   "metadata": {},
   "source": [
    "# Project Brief\n",
    "\n",
    "### An international humanitarian NGO that is committed to fighting poverty and providing the people of backward countries with basic amenities and relief during the time of disasters and natural calamities. It runs a lot of operational projects from time to time along with advocacy drives to raise awareness as well as for funding purposes.\n",
    "\n",
    "###  As a data analyst my job is to categorise the countries using some socio-economic and health factors that determine the overall development of the country.\n",
    "\n",
    "### Choosing the countries that are in the direst need of aid and decide how to use resources strategically and effectively."
   ]
  },
  {
   "cell_type": "markdown",
   "metadata": {},
   "source": [
    "# Importing libraries"
   ]
  },
  {
   "cell_type": "code",
   "execution_count": 1,
   "metadata": {},
   "outputs": [],
   "source": [
    "\n",
    "import numpy as np\n",
    "import pandas as pd\n",
    "import seaborn as sns\n",
    "import matplotlib.pyplot as plt\n",
    "%matplotlib inline\n",
    "from sklearn import linear_model\n",
    "from sklearn.linear_model import LinearRegression\n",
    "from sklearn.preprocessing import StandardScaler\n",
    "from scipy.cluster.hierarchy import linkage,cut_tree,dendrogram\n",
    "import warnings\n",
    "warnings.filterwarnings('ignore')"
   ]
  },
  {
   "cell_type": "markdown",
   "metadata": {},
   "source": [
    "# Importing \" Country-data.csv\" file \n"
   ]
  },
  {
   "cell_type": "code",
   "execution_count": 2,
   "metadata": {},
   "outputs": [
    {
     "data": {
      "text/html": [
       "<div>\n",
       "<style scoped>\n",
       "    .dataframe tbody tr th:only-of-type {\n",
       "        vertical-align: middle;\n",
       "    }\n",
       "\n",
       "    .dataframe tbody tr th {\n",
       "        vertical-align: top;\n",
       "    }\n",
       "\n",
       "    .dataframe thead th {\n",
       "        text-align: right;\n",
       "    }\n",
       "</style>\n",
       "<table border=\"1\" class=\"dataframe\">\n",
       "  <thead>\n",
       "    <tr style=\"text-align: right;\">\n",
       "      <th></th>\n",
       "      <th>country</th>\n",
       "      <th>child_mort</th>\n",
       "      <th>exports</th>\n",
       "      <th>health</th>\n",
       "      <th>imports</th>\n",
       "      <th>income</th>\n",
       "      <th>inflation</th>\n",
       "      <th>life_expec</th>\n",
       "      <th>total_fer</th>\n",
       "      <th>gdpp</th>\n",
       "    </tr>\n",
       "  </thead>\n",
       "  <tbody>\n",
       "    <tr>\n",
       "      <th>0</th>\n",
       "      <td>Afghanistan</td>\n",
       "      <td>90.2</td>\n",
       "      <td>10.0</td>\n",
       "      <td>7.58</td>\n",
       "      <td>44.9</td>\n",
       "      <td>1610</td>\n",
       "      <td>9.44</td>\n",
       "      <td>56.2</td>\n",
       "      <td>5.82</td>\n",
       "      <td>553</td>\n",
       "    </tr>\n",
       "    <tr>\n",
       "      <th>1</th>\n",
       "      <td>Albania</td>\n",
       "      <td>16.6</td>\n",
       "      <td>28.0</td>\n",
       "      <td>6.55</td>\n",
       "      <td>48.6</td>\n",
       "      <td>9930</td>\n",
       "      <td>4.49</td>\n",
       "      <td>76.3</td>\n",
       "      <td>1.65</td>\n",
       "      <td>4090</td>\n",
       "    </tr>\n",
       "    <tr>\n",
       "      <th>2</th>\n",
       "      <td>Algeria</td>\n",
       "      <td>27.3</td>\n",
       "      <td>38.4</td>\n",
       "      <td>4.17</td>\n",
       "      <td>31.4</td>\n",
       "      <td>12900</td>\n",
       "      <td>16.10</td>\n",
       "      <td>76.5</td>\n",
       "      <td>2.89</td>\n",
       "      <td>4460</td>\n",
       "    </tr>\n",
       "    <tr>\n",
       "      <th>3</th>\n",
       "      <td>Angola</td>\n",
       "      <td>119.0</td>\n",
       "      <td>62.3</td>\n",
       "      <td>2.85</td>\n",
       "      <td>42.9</td>\n",
       "      <td>5900</td>\n",
       "      <td>22.40</td>\n",
       "      <td>60.1</td>\n",
       "      <td>6.16</td>\n",
       "      <td>3530</td>\n",
       "    </tr>\n",
       "    <tr>\n",
       "      <th>4</th>\n",
       "      <td>Antigua and Barbuda</td>\n",
       "      <td>10.3</td>\n",
       "      <td>45.5</td>\n",
       "      <td>6.03</td>\n",
       "      <td>58.9</td>\n",
       "      <td>19100</td>\n",
       "      <td>1.44</td>\n",
       "      <td>76.8</td>\n",
       "      <td>2.13</td>\n",
       "      <td>12200</td>\n",
       "    </tr>\n",
       "  </tbody>\n",
       "</table>\n",
       "</div>"
      ],
      "text/plain": [
       "               country  child_mort  exports  health  imports  income  \\\n",
       "0          Afghanistan        90.2     10.0    7.58     44.9    1610   \n",
       "1              Albania        16.6     28.0    6.55     48.6    9930   \n",
       "2              Algeria        27.3     38.4    4.17     31.4   12900   \n",
       "3               Angola       119.0     62.3    2.85     42.9    5900   \n",
       "4  Antigua and Barbuda        10.3     45.5    6.03     58.9   19100   \n",
       "\n",
       "   inflation  life_expec  total_fer   gdpp  \n",
       "0       9.44        56.2       5.82    553  \n",
       "1       4.49        76.3       1.65   4090  \n",
       "2      16.10        76.5       2.89   4460  \n",
       "3      22.40        60.1       6.16   3530  \n",
       "4       1.44        76.8       2.13  12200  "
      ]
     },
     "execution_count": 2,
     "metadata": {},
     "output_type": "execute_result"
    }
   ],
   "source": [
    "# Importing Country-data.csv file \n",
    "\n",
    "country_data = pd.read_csv(\"C:\\\\Users\\\\Paunikar\\\\Pictures\\\\my project\\\\Country-data.csv\")\n",
    "country_data.head()"
   ]
  },
  {
   "cell_type": "markdown",
   "metadata": {},
   "source": [
    "# Data exploration"
   ]
  },
  {
   "cell_type": "code",
   "execution_count": 3,
   "metadata": {},
   "outputs": [
    {
     "name": "stdout",
     "output_type": "stream",
     "text": [
      "<class 'pandas.core.frame.DataFrame'>\n",
      "RangeIndex: 167 entries, 0 to 166\n",
      "Data columns (total 10 columns):\n",
      "country       167 non-null object\n",
      "child_mort    167 non-null float64\n",
      "exports       167 non-null float64\n",
      "health        167 non-null float64\n",
      "imports       167 non-null float64\n",
      "income        167 non-null int64\n",
      "inflation     167 non-null float64\n",
      "life_expec    167 non-null float64\n",
      "total_fer     167 non-null float64\n",
      "gdpp          167 non-null int64\n",
      "dtypes: float64(7), int64(2), object(1)\n",
      "memory usage: 13.1+ KB\n"
     ]
    }
   ],
   "source": [
    "# Checking the info of the data \n",
    "\n",
    "# Checking the missing values and type of the data \n",
    "\n",
    "country_data.info()"
   ]
  },
  {
   "cell_type": "code",
   "execution_count": 4,
   "metadata": {},
   "outputs": [
    {
     "data": {
      "text/plain": [
       "country       0\n",
       "child_mort    0\n",
       "exports       0\n",
       "health        0\n",
       "imports       0\n",
       "income        0\n",
       "inflation     0\n",
       "life_expec    0\n",
       "total_fer     0\n",
       "gdpp          0\n",
       "dtype: int64"
      ]
     },
     "execution_count": 4,
     "metadata": {},
     "output_type": "execute_result"
    }
   ],
   "source": [
    "# finding number of null values in the dataset.\n",
    "country_data.isna().sum()"
   ]
  },
  {
   "cell_type": "code",
   "execution_count": 5,
   "metadata": {},
   "outputs": [
    {
     "data": {
      "text/html": [
       "<div>\n",
       "<style scoped>\n",
       "    .dataframe tbody tr th:only-of-type {\n",
       "        vertical-align: middle;\n",
       "    }\n",
       "\n",
       "    .dataframe tbody tr th {\n",
       "        vertical-align: top;\n",
       "    }\n",
       "\n",
       "    .dataframe thead th {\n",
       "        text-align: right;\n",
       "    }\n",
       "</style>\n",
       "<table border=\"1\" class=\"dataframe\">\n",
       "  <thead>\n",
       "    <tr style=\"text-align: right;\">\n",
       "      <th></th>\n",
       "      <th>child_mort</th>\n",
       "      <th>exports</th>\n",
       "      <th>health</th>\n",
       "      <th>imports</th>\n",
       "      <th>income</th>\n",
       "      <th>inflation</th>\n",
       "      <th>life_expec</th>\n",
       "      <th>total_fer</th>\n",
       "      <th>gdpp</th>\n",
       "    </tr>\n",
       "  </thead>\n",
       "  <tbody>\n",
       "    <tr>\n",
       "      <th>count</th>\n",
       "      <td>167.000000</td>\n",
       "      <td>167.000000</td>\n",
       "      <td>167.000000</td>\n",
       "      <td>167.000000</td>\n",
       "      <td>167.000000</td>\n",
       "      <td>167.000000</td>\n",
       "      <td>167.000000</td>\n",
       "      <td>167.000000</td>\n",
       "      <td>167.000000</td>\n",
       "    </tr>\n",
       "    <tr>\n",
       "      <th>mean</th>\n",
       "      <td>38.270060</td>\n",
       "      <td>41.108976</td>\n",
       "      <td>6.815689</td>\n",
       "      <td>46.890215</td>\n",
       "      <td>17144.688623</td>\n",
       "      <td>7.781832</td>\n",
       "      <td>70.555689</td>\n",
       "      <td>2.947964</td>\n",
       "      <td>12964.155689</td>\n",
       "    </tr>\n",
       "    <tr>\n",
       "      <th>std</th>\n",
       "      <td>40.328931</td>\n",
       "      <td>27.412010</td>\n",
       "      <td>2.746837</td>\n",
       "      <td>24.209589</td>\n",
       "      <td>19278.067698</td>\n",
       "      <td>10.570704</td>\n",
       "      <td>8.893172</td>\n",
       "      <td>1.513848</td>\n",
       "      <td>18328.704809</td>\n",
       "    </tr>\n",
       "    <tr>\n",
       "      <th>min</th>\n",
       "      <td>2.600000</td>\n",
       "      <td>0.109000</td>\n",
       "      <td>1.810000</td>\n",
       "      <td>0.065900</td>\n",
       "      <td>609.000000</td>\n",
       "      <td>-4.210000</td>\n",
       "      <td>32.100000</td>\n",
       "      <td>1.150000</td>\n",
       "      <td>231.000000</td>\n",
       "    </tr>\n",
       "    <tr>\n",
       "      <th>25%</th>\n",
       "      <td>8.250000</td>\n",
       "      <td>23.800000</td>\n",
       "      <td>4.920000</td>\n",
       "      <td>30.200000</td>\n",
       "      <td>3355.000000</td>\n",
       "      <td>1.810000</td>\n",
       "      <td>65.300000</td>\n",
       "      <td>1.795000</td>\n",
       "      <td>1330.000000</td>\n",
       "    </tr>\n",
       "    <tr>\n",
       "      <th>50%</th>\n",
       "      <td>19.300000</td>\n",
       "      <td>35.000000</td>\n",
       "      <td>6.320000</td>\n",
       "      <td>43.300000</td>\n",
       "      <td>9960.000000</td>\n",
       "      <td>5.390000</td>\n",
       "      <td>73.100000</td>\n",
       "      <td>2.410000</td>\n",
       "      <td>4660.000000</td>\n",
       "    </tr>\n",
       "    <tr>\n",
       "      <th>75%</th>\n",
       "      <td>62.100000</td>\n",
       "      <td>51.350000</td>\n",
       "      <td>8.600000</td>\n",
       "      <td>58.750000</td>\n",
       "      <td>22800.000000</td>\n",
       "      <td>10.750000</td>\n",
       "      <td>76.800000</td>\n",
       "      <td>3.880000</td>\n",
       "      <td>14050.000000</td>\n",
       "    </tr>\n",
       "    <tr>\n",
       "      <th>max</th>\n",
       "      <td>208.000000</td>\n",
       "      <td>200.000000</td>\n",
       "      <td>17.900000</td>\n",
       "      <td>174.000000</td>\n",
       "      <td>125000.000000</td>\n",
       "      <td>104.000000</td>\n",
       "      <td>82.800000</td>\n",
       "      <td>7.490000</td>\n",
       "      <td>105000.000000</td>\n",
       "    </tr>\n",
       "  </tbody>\n",
       "</table>\n",
       "</div>"
      ],
      "text/plain": [
       "       child_mort     exports      health     imports         income  \\\n",
       "count  167.000000  167.000000  167.000000  167.000000     167.000000   \n",
       "mean    38.270060   41.108976    6.815689   46.890215   17144.688623   \n",
       "std     40.328931   27.412010    2.746837   24.209589   19278.067698   \n",
       "min      2.600000    0.109000    1.810000    0.065900     609.000000   \n",
       "25%      8.250000   23.800000    4.920000   30.200000    3355.000000   \n",
       "50%     19.300000   35.000000    6.320000   43.300000    9960.000000   \n",
       "75%     62.100000   51.350000    8.600000   58.750000   22800.000000   \n",
       "max    208.000000  200.000000   17.900000  174.000000  125000.000000   \n",
       "\n",
       "        inflation  life_expec   total_fer           gdpp  \n",
       "count  167.000000  167.000000  167.000000     167.000000  \n",
       "mean     7.781832   70.555689    2.947964   12964.155689  \n",
       "std     10.570704    8.893172    1.513848   18328.704809  \n",
       "min     -4.210000   32.100000    1.150000     231.000000  \n",
       "25%      1.810000   65.300000    1.795000    1330.000000  \n",
       "50%      5.390000   73.100000    2.410000    4660.000000  \n",
       "75%     10.750000   76.800000    3.880000   14050.000000  \n",
       "max    104.000000   82.800000    7.490000  105000.000000  "
      ]
     },
     "execution_count": 5,
     "metadata": {},
     "output_type": "execute_result"
    }
   ],
   "source": [
    "# analyzing mean as well as checking how much variance are there in the columns of the dat set.\n",
    "\n",
    "country_data.describe()"
   ]
  },
  {
   "cell_type": "code",
   "execution_count": 6,
   "metadata": {},
   "outputs": [
    {
     "data": {
      "text/plain": [
       "(167, 10)"
      ]
     },
     "execution_count": 6,
     "metadata": {},
     "output_type": "execute_result"
    }
   ],
   "source": [
    "# Checking the shape of the data\n",
    "country_data.shape"
   ]
  },
  {
   "cell_type": "markdown",
   "metadata": {},
   "source": [
    "## checking correlation between the features."
   ]
  },
  {
   "cell_type": "code",
   "execution_count": 7,
   "metadata": {},
   "outputs": [
    {
     "data": {
      "text/html": [
       "<div>\n",
       "<style scoped>\n",
       "    .dataframe tbody tr th:only-of-type {\n",
       "        vertical-align: middle;\n",
       "    }\n",
       "\n",
       "    .dataframe tbody tr th {\n",
       "        vertical-align: top;\n",
       "    }\n",
       "\n",
       "    .dataframe thead th {\n",
       "        text-align: right;\n",
       "    }\n",
       "</style>\n",
       "<table border=\"1\" class=\"dataframe\">\n",
       "  <thead>\n",
       "    <tr style=\"text-align: right;\">\n",
       "      <th></th>\n",
       "      <th>child_mort</th>\n",
       "      <th>exports</th>\n",
       "      <th>health</th>\n",
       "      <th>imports</th>\n",
       "      <th>income</th>\n",
       "      <th>inflation</th>\n",
       "      <th>life_expec</th>\n",
       "      <th>total_fer</th>\n",
       "      <th>gdpp</th>\n",
       "    </tr>\n",
       "  </thead>\n",
       "  <tbody>\n",
       "    <tr>\n",
       "      <th>child_mort</th>\n",
       "      <td>1.000000</td>\n",
       "      <td>-0.318093</td>\n",
       "      <td>-0.200402</td>\n",
       "      <td>-0.127211</td>\n",
       "      <td>-0.524315</td>\n",
       "      <td>0.288276</td>\n",
       "      <td>-0.886676</td>\n",
       "      <td>0.848478</td>\n",
       "      <td>-0.483032</td>\n",
       "    </tr>\n",
       "    <tr>\n",
       "      <th>exports</th>\n",
       "      <td>-0.318093</td>\n",
       "      <td>1.000000</td>\n",
       "      <td>-0.114408</td>\n",
       "      <td>0.737381</td>\n",
       "      <td>0.516784</td>\n",
       "      <td>-0.107294</td>\n",
       "      <td>0.316313</td>\n",
       "      <td>-0.320011</td>\n",
       "      <td>0.418725</td>\n",
       "    </tr>\n",
       "    <tr>\n",
       "      <th>health</th>\n",
       "      <td>-0.200402</td>\n",
       "      <td>-0.114408</td>\n",
       "      <td>1.000000</td>\n",
       "      <td>0.095717</td>\n",
       "      <td>0.129579</td>\n",
       "      <td>-0.255376</td>\n",
       "      <td>0.210692</td>\n",
       "      <td>-0.196674</td>\n",
       "      <td>0.345966</td>\n",
       "    </tr>\n",
       "    <tr>\n",
       "      <th>imports</th>\n",
       "      <td>-0.127211</td>\n",
       "      <td>0.737381</td>\n",
       "      <td>0.095717</td>\n",
       "      <td>1.000000</td>\n",
       "      <td>0.122406</td>\n",
       "      <td>-0.246994</td>\n",
       "      <td>0.054391</td>\n",
       "      <td>-0.159048</td>\n",
       "      <td>0.115498</td>\n",
       "    </tr>\n",
       "    <tr>\n",
       "      <th>income</th>\n",
       "      <td>-0.524315</td>\n",
       "      <td>0.516784</td>\n",
       "      <td>0.129579</td>\n",
       "      <td>0.122406</td>\n",
       "      <td>1.000000</td>\n",
       "      <td>-0.147756</td>\n",
       "      <td>0.611962</td>\n",
       "      <td>-0.501840</td>\n",
       "      <td>0.895571</td>\n",
       "    </tr>\n",
       "    <tr>\n",
       "      <th>inflation</th>\n",
       "      <td>0.288276</td>\n",
       "      <td>-0.107294</td>\n",
       "      <td>-0.255376</td>\n",
       "      <td>-0.246994</td>\n",
       "      <td>-0.147756</td>\n",
       "      <td>1.000000</td>\n",
       "      <td>-0.239705</td>\n",
       "      <td>0.316921</td>\n",
       "      <td>-0.221631</td>\n",
       "    </tr>\n",
       "    <tr>\n",
       "      <th>life_expec</th>\n",
       "      <td>-0.886676</td>\n",
       "      <td>0.316313</td>\n",
       "      <td>0.210692</td>\n",
       "      <td>0.054391</td>\n",
       "      <td>0.611962</td>\n",
       "      <td>-0.239705</td>\n",
       "      <td>1.000000</td>\n",
       "      <td>-0.760875</td>\n",
       "      <td>0.600089</td>\n",
       "    </tr>\n",
       "    <tr>\n",
       "      <th>total_fer</th>\n",
       "      <td>0.848478</td>\n",
       "      <td>-0.320011</td>\n",
       "      <td>-0.196674</td>\n",
       "      <td>-0.159048</td>\n",
       "      <td>-0.501840</td>\n",
       "      <td>0.316921</td>\n",
       "      <td>-0.760875</td>\n",
       "      <td>1.000000</td>\n",
       "      <td>-0.454910</td>\n",
       "    </tr>\n",
       "    <tr>\n",
       "      <th>gdpp</th>\n",
       "      <td>-0.483032</td>\n",
       "      <td>0.418725</td>\n",
       "      <td>0.345966</td>\n",
       "      <td>0.115498</td>\n",
       "      <td>0.895571</td>\n",
       "      <td>-0.221631</td>\n",
       "      <td>0.600089</td>\n",
       "      <td>-0.454910</td>\n",
       "      <td>1.000000</td>\n",
       "    </tr>\n",
       "  </tbody>\n",
       "</table>\n",
       "</div>"
      ],
      "text/plain": [
       "            child_mort   exports    health   imports    income  inflation  \\\n",
       "child_mort    1.000000 -0.318093 -0.200402 -0.127211 -0.524315   0.288276   \n",
       "exports      -0.318093  1.000000 -0.114408  0.737381  0.516784  -0.107294   \n",
       "health       -0.200402 -0.114408  1.000000  0.095717  0.129579  -0.255376   \n",
       "imports      -0.127211  0.737381  0.095717  1.000000  0.122406  -0.246994   \n",
       "income       -0.524315  0.516784  0.129579  0.122406  1.000000  -0.147756   \n",
       "inflation     0.288276 -0.107294 -0.255376 -0.246994 -0.147756   1.000000   \n",
       "life_expec   -0.886676  0.316313  0.210692  0.054391  0.611962  -0.239705   \n",
       "total_fer     0.848478 -0.320011 -0.196674 -0.159048 -0.501840   0.316921   \n",
       "gdpp         -0.483032  0.418725  0.345966  0.115498  0.895571  -0.221631   \n",
       "\n",
       "            life_expec  total_fer      gdpp  \n",
       "child_mort   -0.886676   0.848478 -0.483032  \n",
       "exports       0.316313  -0.320011  0.418725  \n",
       "health        0.210692  -0.196674  0.345966  \n",
       "imports       0.054391  -0.159048  0.115498  \n",
       "income        0.611962  -0.501840  0.895571  \n",
       "inflation    -0.239705   0.316921 -0.221631  \n",
       "life_expec    1.000000  -0.760875  0.600089  \n",
       "total_fer    -0.760875   1.000000 -0.454910  \n",
       "gdpp          0.600089  -0.454910  1.000000  "
      ]
     },
     "execution_count": 7,
     "metadata": {},
     "output_type": "execute_result"
    }
   ],
   "source": [
    "# Checking the corelation between the features \n",
    "\n",
    "correlation_1 = country_data.corr()\n",
    "correlation_1"
   ]
  },
  {
   "cell_type": "markdown",
   "metadata": {},
   "source": [
    "## Plotting the co-relation heatmap  "
   ]
  },
  {
   "cell_type": "code",
   "execution_count": 8,
   "metadata": {},
   "outputs": [
    {
     "data": {
      "image/png": "[encoded data removed]",
      "text/plain": [
       "<Figure size 864x504 with 2 Axes>"
      ]
     },
     "metadata": {
      "needs_background": "light"
     },
     "output_type": "display_data"
    }
   ],
   "source": [
    "# Plotting the correlation heatmap\n",
    "\n",
    "plt.figure(figsize=(12,7))\n",
    "sns.heatmap(correlation_1, cmap=\"YlGnBu\", annot=True)\n",
    "plt.show()"
   ]
  },
  {
   "cell_type": "code",
   "execution_count": 9,
   "metadata": {},
   "outputs": [
    {
     "data": {
      "text/html": [
       "<div>\n",
       "<style scoped>\n",
       "    .dataframe tbody tr th:only-of-type {\n",
       "        vertical-align: middle;\n",
       "    }\n",
       "\n",
       "    .dataframe tbody tr th {\n",
       "        vertical-align: top;\n",
       "    }\n",
       "\n",
       "    .dataframe thead th {\n",
       "        text-align: right;\n",
       "    }\n",
       "</style>\n",
       "<table border=\"1\" class=\"dataframe\">\n",
       "  <thead>\n",
       "    <tr style=\"text-align: right;\">\n",
       "      <th></th>\n",
       "      <th>child_mort</th>\n",
       "      <th>exports</th>\n",
       "      <th>health</th>\n",
       "      <th>imports</th>\n",
       "      <th>income</th>\n",
       "      <th>inflation</th>\n",
       "      <th>life_expec</th>\n",
       "      <th>total_fer</th>\n",
       "      <th>gdpp</th>\n",
       "    </tr>\n",
       "  </thead>\n",
       "  <tbody>\n",
       "    <tr>\n",
       "      <th>0</th>\n",
       "      <td>90.2</td>\n",
       "      <td>10.0</td>\n",
       "      <td>7.58</td>\n",
       "      <td>44.9</td>\n",
       "      <td>1610</td>\n",
       "      <td>9.44</td>\n",
       "      <td>56.2</td>\n",
       "      <td>5.82</td>\n",
       "      <td>553</td>\n",
       "    </tr>\n",
       "    <tr>\n",
       "      <th>1</th>\n",
       "      <td>16.6</td>\n",
       "      <td>28.0</td>\n",
       "      <td>6.55</td>\n",
       "      <td>48.6</td>\n",
       "      <td>9930</td>\n",
       "      <td>4.49</td>\n",
       "      <td>76.3</td>\n",
       "      <td>1.65</td>\n",
       "      <td>4090</td>\n",
       "    </tr>\n",
       "    <tr>\n",
       "      <th>2</th>\n",
       "      <td>27.3</td>\n",
       "      <td>38.4</td>\n",
       "      <td>4.17</td>\n",
       "      <td>31.4</td>\n",
       "      <td>12900</td>\n",
       "      <td>16.10</td>\n",
       "      <td>76.5</td>\n",
       "      <td>2.89</td>\n",
       "      <td>4460</td>\n",
       "    </tr>\n",
       "    <tr>\n",
       "      <th>3</th>\n",
       "      <td>119.0</td>\n",
       "      <td>62.3</td>\n",
       "      <td>2.85</td>\n",
       "      <td>42.9</td>\n",
       "      <td>5900</td>\n",
       "      <td>22.40</td>\n",
       "      <td>60.1</td>\n",
       "      <td>6.16</td>\n",
       "      <td>3530</td>\n",
       "    </tr>\n",
       "    <tr>\n",
       "      <th>4</th>\n",
       "      <td>10.3</td>\n",
       "      <td>45.5</td>\n",
       "      <td>6.03</td>\n",
       "      <td>58.9</td>\n",
       "      <td>19100</td>\n",
       "      <td>1.44</td>\n",
       "      <td>76.8</td>\n",
       "      <td>2.13</td>\n",
       "      <td>12200</td>\n",
       "    </tr>\n",
       "  </tbody>\n",
       "</table>\n",
       "</div>"
      ],
      "text/plain": [
       "   child_mort  exports  health  imports  income  inflation  life_expec  \\\n",
       "0        90.2     10.0    7.58     44.9    1610       9.44        56.2   \n",
       "1        16.6     28.0    6.55     48.6    9930       4.49        76.3   \n",
       "2        27.3     38.4    4.17     31.4   12900      16.10        76.5   \n",
       "3       119.0     62.3    2.85     42.9    5900      22.40        60.1   \n",
       "4        10.3     45.5    6.03     58.9   19100       1.44        76.8   \n",
       "\n",
       "   total_fer   gdpp  \n",
       "0       5.82    553  \n",
       "1       1.65   4090  \n",
       "2       2.89   4460  \n",
       "3       6.16   3530  \n",
       "4       2.13  12200  "
      ]
     },
     "execution_count": 9,
     "metadata": {},
     "output_type": "execute_result"
    }
   ],
   "source": [
    "# Removing the \"country\" column ( non numeric column )\n",
    "\n",
    "y = country_data.pop(\"country\")\n",
    "country_data.head()"
   ]
  },
  {
   "cell_type": "markdown",
   "metadata": {},
   "source": [
    "\n",
    "# Performing the scaling operations on data"
   ]
  },
  {
   "cell_type": "code",
   "execution_count": 10,
   "metadata": {},
   "outputs": [
    {
     "data": {
      "text/plain": [
       "array([[ 1.29153238, -1.13827979,  0.27908825, ..., -1.61909203,\n",
       "         1.90288227, -0.67917961],\n",
       "       [-0.5389489 , -0.47965843, -0.09701618, ...,  0.64786643,\n",
       "        -0.85997281, -0.48562324],\n",
       "       [-0.27283273, -0.09912164, -0.96607302, ...,  0.67042323,\n",
       "        -0.0384044 , -0.46537561],\n",
       "       ...,\n",
       "       [-0.37231541,  1.13030491,  0.0088773 , ...,  0.28695762,\n",
       "        -0.66120626, -0.63775406],\n",
       "       [ 0.44841668, -0.40647827, -0.59727159, ..., -0.34463279,\n",
       "         1.14094382, -0.63775406],\n",
       "       [ 1.11495062, -0.15034774, -0.33801514, ..., -2.09278484,\n",
       "         1.6246091 , -0.62954556]])"
      ]
     },
     "execution_count": 10,
     "metadata": {},
     "output_type": "execute_result"
    }
   ],
   "source": [
    "# Performing scaling operation on the data\n",
    "\n",
    "scaler = StandardScaler()\n",
    "countydata = country_data.copy()\n",
    "x= scaler.fit_transform(countydata)\n",
    "x"
   ]
  },
  {
   "cell_type": "markdown",
   "metadata": {},
   "source": [
    "# Performing the PCA operation on data"
   ]
  },
  {
   "cell_type": "code",
   "execution_count": 11,
   "metadata": {},
   "outputs": [
    {
     "data": {
      "text/plain": [
       "PCA(copy=True, iterated_power='auto', n_components=None, random_state=42,\n",
       "    svd_solver='auto', tol=0.0, whiten=False)"
      ]
     },
     "execution_count": 11,
     "metadata": {},
     "output_type": "execute_result"
    }
   ],
   "source": [
    "# From sklearn library we are importing the PCA\n",
    "\n",
    "from sklearn.decomposition import PCA\n",
    "pca = PCA(random_state=42)\n",
    "\n",
    "# Applying pca algo\n",
    "pca.fit(x)"
   ]
  },
  {
   "cell_type": "markdown",
   "metadata": {},
   "source": [
    "### Checking the PCA Components\n"
   ]
  },
  {
   "cell_type": "code",
   "execution_count": 12,
   "metadata": {},
   "outputs": [
    {
     "data": {
      "text/plain": [
       "array([[-0.41951945,  0.28389698,  0.15083782,  0.16148244,  0.39844111,\n",
       "        -0.19317293,  0.42583938, -0.40372896,  0.39264482],\n",
       "       [ 0.19288394,  0.61316349, -0.24308678,  0.67182064,  0.02253553,\n",
       "        -0.00840447, -0.22270674,  0.15523311, -0.0460224 ],\n",
       "       [-0.02954353,  0.14476069, -0.59663237, -0.29992674,  0.3015475 ,\n",
       "         0.64251951,  0.11391854,  0.01954925,  0.12297749],\n",
       "       [ 0.37065326,  0.00309102,  0.4618975 , -0.07190746,  0.39215904,\n",
       "         0.15044176, -0.20379723,  0.37830365,  0.53199457],\n",
       "       [-0.16896968,  0.05761584,  0.51800037,  0.25537642, -0.2471496 ,\n",
       "         0.7148691 ,  0.1082198 , -0.13526221, -0.18016662],\n",
       "       [ 0.20062815, -0.05933283,  0.00727646, -0.03003154,  0.16034699,\n",
       "         0.06628537, -0.60112652, -0.75068875,  0.01677876],\n",
       "       [-0.07948854, -0.70730269, -0.24983051,  0.59218953,  0.09556237,\n",
       "         0.10463252,  0.01848639,  0.02882643,  0.24299776],\n",
       "       [-0.68274306, -0.01419742,  0.07249683, -0.02894642,  0.35262369,\n",
       "        -0.01153775, -0.50466425,  0.29335267, -0.24969636],\n",
       "       [ 0.3275418 , -0.12308207,  0.11308797,  0.09903717,  0.61298247,\n",
       "        -0.02523614,  0.29403981, -0.02633585, -0.62564572]])"
      ]
     },
     "execution_count": 12,
     "metadata": {},
     "output_type": "execute_result"
    }
   ],
   "source": [
    "# Checking the PCA Components\n",
    "\n",
    "pca.components_"
   ]
  },
  {
   "cell_type": "markdown",
   "metadata": {},
   "source": [
    "### Checking the variance ratios  \n"
   ]
  },
  {
   "cell_type": "code",
   "execution_count": 13,
   "metadata": {},
   "outputs": [
    {
     "data": {
      "text/plain": [
       "array([0.4595174 , 0.17181626, 0.13004259, 0.11053162, 0.07340211,\n",
       "       0.02484235, 0.0126043 , 0.00981282, 0.00743056])"
      ]
     },
     "execution_count": 13,
     "metadata": {},
     "output_type": "execute_result"
    }
   ],
   "source": [
    "# analysing that how many components are actually explaining majoritydata.\n",
    "\n",
    "pca.explained_variance_ratio_"
   ]
  },
  {
   "cell_type": "markdown",
   "metadata": {},
   "source": [
    "## Plotting the sckree plot."
   ]
  },
  {
   "cell_type": "code",
   "execution_count": 14,
   "metadata": {},
   "outputs": [
    {
     "data": {
      "image/png": "[encoded data removed]",
      "text/plain": [
       "<Figure size 1152x720 with 1 Axes>"
      ]
     },
     "metadata": {
      "needs_background": "light"
     },
     "output_type": "display_data"
    }
   ],
   "source": [
    "# Deciding how many clusters should be form\n",
    "# lets see how many components will explained 95% variance of the given data by plotting.\n",
    "\n",
    "\n",
    "fig = plt.figure(figsize = (16,10))\n",
    "plt.plot(np.cumsum(pca.explained_variance_ratio_))\n",
    "plt.xlabel('no._of_the_components')\n",
    "plt.ylabel('cumulative_explaination_of_the_variance')\n",
    "plt.show()"
   ]
  },
  {
   "cell_type": "markdown",
   "metadata": {},
   "source": [
    "#### 5 Principle components are explaining more than 95% variance of data."
   ]
  },
  {
   "cell_type": "code",
   "execution_count": 15,
   "metadata": {},
   "outputs": [
    {
     "data": {
      "text/plain": [
       "(167, 5)"
      ]
     },
     "execution_count": 15,
     "metadata": {},
     "output_type": "execute_result"
    }
   ],
   "source": [
    "# Here we are selecting 5 principal components \n",
    "\n",
    "pcomponents = PCA(n_components=5, random_state=42)\n",
    "pcomponents2 = pcomponents.fit_transform(x)\n",
    "pcomponents2.shape"
   ]
  },
  {
   "cell_type": "markdown",
   "metadata": {},
   "source": [
    "##### making dataframe again having columns=[\"PC1\", \"PC2\",\"PC3\",\"PC4\",\"PC5\"]"
   ]
  },
  {
   "cell_type": "code",
   "execution_count": 16,
   "metadata": {},
   "outputs": [
    {
     "data": {
      "text/html": [
       "<div>\n",
       "<style scoped>\n",
       "    .dataframe tbody tr th:only-of-type {\n",
       "        vertical-align: middle;\n",
       "    }\n",
       "\n",
       "    .dataframe tbody tr th {\n",
       "        vertical-align: top;\n",
       "    }\n",
       "\n",
       "    .dataframe thead th {\n",
       "        text-align: right;\n",
       "    }\n",
       "</style>\n",
       "<table border=\"1\" class=\"dataframe\">\n",
       "  <thead>\n",
       "    <tr style=\"text-align: right;\">\n",
       "      <th></th>\n",
       "      <th>PC1</th>\n",
       "      <th>PC2</th>\n",
       "      <th>PC3</th>\n",
       "      <th>PC4</th>\n",
       "      <th>PC5</th>\n",
       "    </tr>\n",
       "  </thead>\n",
       "  <tbody>\n",
       "    <tr>\n",
       "      <th>0</th>\n",
       "      <td>-2.913025</td>\n",
       "      <td>0.095621</td>\n",
       "      <td>-0.718118</td>\n",
       "      <td>1.005255</td>\n",
       "      <td>-0.158310</td>\n",
       "    </tr>\n",
       "    <tr>\n",
       "      <th>1</th>\n",
       "      <td>0.429911</td>\n",
       "      <td>-0.588156</td>\n",
       "      <td>-0.333486</td>\n",
       "      <td>-1.161059</td>\n",
       "      <td>0.174677</td>\n",
       "    </tr>\n",
       "    <tr>\n",
       "      <th>2</th>\n",
       "      <td>-0.285225</td>\n",
       "      <td>-0.455174</td>\n",
       "      <td>1.221505</td>\n",
       "      <td>-0.868115</td>\n",
       "      <td>0.156475</td>\n",
       "    </tr>\n",
       "    <tr>\n",
       "      <th>3</th>\n",
       "      <td>-2.932423</td>\n",
       "      <td>1.695555</td>\n",
       "      <td>1.525044</td>\n",
       "      <td>0.839625</td>\n",
       "      <td>-0.273209</td>\n",
       "    </tr>\n",
       "    <tr>\n",
       "      <th>4</th>\n",
       "      <td>1.033576</td>\n",
       "      <td>0.136659</td>\n",
       "      <td>-0.225721</td>\n",
       "      <td>-0.847063</td>\n",
       "      <td>-0.193007</td>\n",
       "    </tr>\n",
       "  </tbody>\n",
       "</table>\n",
       "</div>"
      ],
      "text/plain": [
       "        PC1       PC2       PC3       PC4       PC5\n",
       "0 -2.913025  0.095621 -0.718118  1.005255 -0.158310\n",
       "1  0.429911 -0.588156 -0.333486 -1.161059  0.174677\n",
       "2 -0.285225 -0.455174  1.221505 -0.868115  0.156475\n",
       "3 -2.932423  1.695555  1.525044  0.839625 -0.273209\n",
       "4  1.033576  0.136659 -0.225721 -0.847063 -0.193007"
      ]
     },
     "execution_count": 16,
     "metadata": {},
     "output_type": "execute_result"
    }
   ],
   "source": [
    "pd.DataFrame(pca.components_[:5],index = [\"PC1\",\"PC2\",\"PC3\",\"PC4\",\"PC5\"])\n",
    "PC_df = pd.DataFrame(pcomponents2, columns=[\"PC1\", \"PC2\",\"PC3\",\"PC4\",\"PC5\"])\n",
    "PC_df.head()"
   ]
  },
  {
   "cell_type": "code",
   "execution_count": 17,
   "metadata": {},
   "outputs": [
    {
     "data": {
      "text/html": [
       "<div>\n",
       "<style scoped>\n",
       "    .dataframe tbody tr th:only-of-type {\n",
       "        vertical-align: middle;\n",
       "    }\n",
       "\n",
       "    .dataframe tbody tr th {\n",
       "        vertical-align: top;\n",
       "    }\n",
       "\n",
       "    .dataframe thead th {\n",
       "        text-align: right;\n",
       "    }\n",
       "</style>\n",
       "<table border=\"1\" class=\"dataframe\">\n",
       "  <thead>\n",
       "    <tr style=\"text-align: right;\">\n",
       "      <th></th>\n",
       "      <th>PC1</th>\n",
       "      <th>PC2</th>\n",
       "      <th>PC3</th>\n",
       "      <th>PC4</th>\n",
       "      <th>PC5</th>\n",
       "      <th>country</th>\n",
       "    </tr>\n",
       "  </thead>\n",
       "  <tbody>\n",
       "    <tr>\n",
       "      <th>0</th>\n",
       "      <td>-2.913025</td>\n",
       "      <td>0.095621</td>\n",
       "      <td>-0.718118</td>\n",
       "      <td>1.005255</td>\n",
       "      <td>-0.158310</td>\n",
       "      <td>Afghanistan</td>\n",
       "    </tr>\n",
       "    <tr>\n",
       "      <th>1</th>\n",
       "      <td>0.429911</td>\n",
       "      <td>-0.588156</td>\n",
       "      <td>-0.333486</td>\n",
       "      <td>-1.161059</td>\n",
       "      <td>0.174677</td>\n",
       "      <td>Albania</td>\n",
       "    </tr>\n",
       "    <tr>\n",
       "      <th>2</th>\n",
       "      <td>-0.285225</td>\n",
       "      <td>-0.455174</td>\n",
       "      <td>1.221505</td>\n",
       "      <td>-0.868115</td>\n",
       "      <td>0.156475</td>\n",
       "      <td>Algeria</td>\n",
       "    </tr>\n",
       "    <tr>\n",
       "      <th>3</th>\n",
       "      <td>-2.932423</td>\n",
       "      <td>1.695555</td>\n",
       "      <td>1.525044</td>\n",
       "      <td>0.839625</td>\n",
       "      <td>-0.273209</td>\n",
       "      <td>Angola</td>\n",
       "    </tr>\n",
       "    <tr>\n",
       "      <th>4</th>\n",
       "      <td>1.033576</td>\n",
       "      <td>0.136659</td>\n",
       "      <td>-0.225721</td>\n",
       "      <td>-0.847063</td>\n",
       "      <td>-0.193007</td>\n",
       "      <td>Antigua and Barbuda</td>\n",
       "    </tr>\n",
       "  </tbody>\n",
       "</table>\n",
       "</div>"
      ],
      "text/plain": [
       "        PC1       PC2       PC3       PC4       PC5              country\n",
       "0 -2.913025  0.095621 -0.718118  1.005255 -0.158310          Afghanistan\n",
       "1  0.429911 -0.588156 -0.333486 -1.161059  0.174677              Albania\n",
       "2 -0.285225 -0.455174  1.221505 -0.868115  0.156475              Algeria\n",
       "3 -2.932423  1.695555  1.525044  0.839625 -0.273209               Angola\n",
       "4  1.033576  0.136659 -0.225721 -0.847063 -0.193007  Antigua and Barbuda"
      ]
     },
     "execution_count": 17,
     "metadata": {},
     "output_type": "execute_result"
    }
   ],
   "source": [
    "# Concating the principal components dataframe and  \"country\" column dataframe\n",
    "\n",
    "PC_country = pd.concat([PC_df, y], axis=1)\n",
    "PC_country.head()"
   ]
  },
  {
   "cell_type": "markdown",
   "metadata": {},
   "source": [
    "### We are plotting scatterplots to check the spread before removing the outliers"
   ]
  },
  {
   "cell_type": "code",
   "execution_count": 18,
   "metadata": {},
   "outputs": [
    {
     "data": {
      "text/plain": [
       "<Figure size 864x432 with 0 Axes>"
      ]
     },
     "metadata": {},
     "output_type": "display_data"
    },
    {
     "data": {
      "image/png": "[encoded data removed]",
      "text/plain": [
       "<Figure size 216x216 with 1 Axes>"
      ]
     },
     "metadata": {
      "needs_background": "light"
     },
     "output_type": "display_data"
    },
    {
     "data": {
      "image/png": "[encoded data removed]",
      "text/plain": [
       "<Figure size 216x216 with 1 Axes>"
      ]
     },
     "metadata": {
      "needs_background": "light"
     },
     "output_type": "display_data"
    },
    {
     "data": {
      "image/png": "[encoded data removed]",
      "text/plain": [
       "<Figure size 216x216 with 1 Axes>"
      ]
     },
     "metadata": {
      "needs_background": "light"
     },
     "output_type": "display_data"
    },
    {
     "data": {
      "image/png": "[encoded data removed]",
      "text/plain": [
       "<Figure size 216x216 with 1 Axes>"
      ]
     },
     "metadata": {
      "needs_background": "light"
     },
     "output_type": "display_data"
    }
   ],
   "source": [
    "# plotting pairplt tosee spread of data before outlier removal\n",
    "fig = plt.figure(figsize = (12,6))\n",
    "list1=[\"PC2\",\"PC3\",\"PC4\",\"PC5\"]\n",
    "for x in list1:\n",
    "    sns.pairplot(data=PC_country, x_vars=[\"PC1\"], y_vars=[x], size=3)\n",
    "    plt.plot()"
   ]
  },
  {
   "cell_type": "markdown",
   "metadata": {},
   "source": [
    "\n",
    "## Performing the outlier analysis on the data."
   ]
  },
  {
   "cell_type": "code",
   "execution_count": 19,
   "metadata": {},
   "outputs": [
    {
     "data": {
      "text/plain": [
       "[]"
      ]
     },
     "execution_count": 19,
     "metadata": {},
     "output_type": "execute_result"
    },
    {
     "data": {
      "image/png": "[encoded data removed]",
      "text/plain": [
       "<Figure size 288x504 with 1 Axes>"
      ]
     },
     "metadata": {
      "needs_background": "light"
     },
     "output_type": "display_data"
    }
   ],
   "source": [
    "# Plotting the box=plot in order to check for outliers in the data.\n",
    "\n",
    "fig = plt.figure(figsize = (4,7))\n",
    "sns.boxplot(x=PC_country[\"PC1\"],orient=\"v\")\n",
    "plt.plot()"
   ]
  },
  {
   "cell_type": "code",
   "execution_count": 20,
   "metadata": {},
   "outputs": [
    {
     "data": {
      "text/plain": [
       "[]"
      ]
     },
     "execution_count": 20,
     "metadata": {},
     "output_type": "execute_result"
    },
    {
     "data": {
      "image/png": "[encoded data removed]",
      "text/plain": [
       "<Figure size 288x504 with 1 Axes>"
      ]
     },
     "metadata": {
      "needs_background": "light"
     },
     "output_type": "display_data"
    }
   ],
   "source": [
    "fig = plt.figure(figsize = (4,7))\n",
    "sns.boxplot(x=PC_country[\"PC2\"],orient=\"v\")\n",
    "plt.plot()"
   ]
  },
  {
   "cell_type": "code",
   "execution_count": 21,
   "metadata": {},
   "outputs": [
    {
     "data": {
      "text/plain": [
       "[]"
      ]
     },
     "execution_count": 21,
     "metadata": {},
     "output_type": "execute_result"
    },
    {
     "data": {
      "image/png": "[encoded data removed]",
      "text/plain": [
       "<Figure size 288x504 with 1 Axes>"
      ]
     },
     "metadata": {
      "needs_background": "light"
     },
     "output_type": "display_data"
    }
   ],
   "source": [
    "fig = plt.figure(figsize = (4,7))\n",
    "sns.boxplot(x=PC_country[\"PC3\"],orient=\"v\")\n",
    "plt.plot()"
   ]
  },
  {
   "cell_type": "code",
   "execution_count": 22,
   "metadata": {},
   "outputs": [
    {
     "data": {
      "text/plain": [
       "[]"
      ]
     },
     "execution_count": 22,
     "metadata": {},
     "output_type": "execute_result"
    },
    {
     "data": {
      "image/png": "[encoded data removed]",
      "text/plain": [
       "<Figure size 288x504 with 1 Axes>"
      ]
     },
     "metadata": {
      "needs_background": "light"
     },
     "output_type": "display_data"
    }
   ],
   "source": [
    "fig = plt.figure(figsize = (4,7))\n",
    "sns.boxplot(x=PC_country[\"PC4\"],orient=\"v\")\n",
    "plt.plot()"
   ]
  },
  {
   "cell_type": "code",
   "execution_count": 23,
   "metadata": {},
   "outputs": [
    {
     "data": {
      "text/plain": [
       "[]"
      ]
     },
     "execution_count": 23,
     "metadata": {},
     "output_type": "execute_result"
    },
    {
     "data": {
      "image/png": "[encoded data removed]",
      "text/plain": [
       "<Figure size 288x504 with 1 Axes>"
      ]
     },
     "metadata": {
      "needs_background": "light"
     },
     "output_type": "display_data"
    }
   ],
   "source": [
    "fig = plt.figure(figsize = (4,7))\n",
    "sns.boxplot(x=PC_country[\"PC5\"],orient=\"v\")\n",
    "plt.plot()"
   ]
  },
  {
   "cell_type": "markdown",
   "metadata": {},
   "source": [
    "## Performing operation to remove outliers that are above 95% of quantile value."
   ]
  },
  {
   "cell_type": "markdown",
   "metadata": {},
   "source": [
    "#### As can be seen above there are a lot of outliers in PC2, PC3, PC5 hence removing outliers that are above 95% of quantile value as it will result in unreliable outcome and we have to find the countries that are struggling we dont need to know the countries that are performing well."
   ]
  },
  {
   "cell_type": "code",
   "execution_count": 24,
   "metadata": {},
   "outputs": [
    {
     "data": {
      "text/html": [
       "<div>\n",
       "<style scoped>\n",
       "    .dataframe tbody tr th:only-of-type {\n",
       "        vertical-align: middle;\n",
       "    }\n",
       "\n",
       "    .dataframe tbody tr th {\n",
       "        vertical-align: top;\n",
       "    }\n",
       "\n",
       "    .dataframe thead th {\n",
       "        text-align: right;\n",
       "    }\n",
       "</style>\n",
       "<table border=\"1\" class=\"dataframe\">\n",
       "  <thead>\n",
       "    <tr style=\"text-align: right;\">\n",
       "      <th></th>\n",
       "      <th>PC1</th>\n",
       "      <th>PC2</th>\n",
       "      <th>PC3</th>\n",
       "      <th>PC4</th>\n",
       "      <th>PC5</th>\n",
       "    </tr>\n",
       "  </thead>\n",
       "  <tbody>\n",
       "    <tr>\n",
       "      <th>0</th>\n",
       "      <td>-2.913025</td>\n",
       "      <td>0.095621</td>\n",
       "      <td>-0.718118</td>\n",
       "      <td>1.005255</td>\n",
       "      <td>-0.158310</td>\n",
       "    </tr>\n",
       "    <tr>\n",
       "      <th>1</th>\n",
       "      <td>0.429911</td>\n",
       "      <td>-0.588156</td>\n",
       "      <td>-0.333486</td>\n",
       "      <td>-1.161059</td>\n",
       "      <td>0.174677</td>\n",
       "    </tr>\n",
       "    <tr>\n",
       "      <th>2</th>\n",
       "      <td>-0.285225</td>\n",
       "      <td>-0.455174</td>\n",
       "      <td>1.221505</td>\n",
       "      <td>-0.868115</td>\n",
       "      <td>0.156475</td>\n",
       "    </tr>\n",
       "    <tr>\n",
       "      <th>3</th>\n",
       "      <td>-2.932423</td>\n",
       "      <td>1.695555</td>\n",
       "      <td>1.525044</td>\n",
       "      <td>0.839625</td>\n",
       "      <td>-0.273209</td>\n",
       "    </tr>\n",
       "    <tr>\n",
       "      <th>4</th>\n",
       "      <td>1.033576</td>\n",
       "      <td>0.136659</td>\n",
       "      <td>-0.225721</td>\n",
       "      <td>-0.847063</td>\n",
       "      <td>-0.193007</td>\n",
       "    </tr>\n",
       "  </tbody>\n",
       "</table>\n",
       "</div>"
      ],
      "text/plain": [
       "        PC1       PC2       PC3       PC4       PC5\n",
       "0 -2.913025  0.095621 -0.718118  1.005255 -0.158310\n",
       "1  0.429911 -0.588156 -0.333486 -1.161059  0.174677\n",
       "2 -0.285225 -0.455174  1.221505 -0.868115  0.156475\n",
       "3 -2.932423  1.695555  1.525044  0.839625 -0.273209\n",
       "4  1.033576  0.136659 -0.225721 -0.847063 -0.193007"
      ]
     },
     "execution_count": 24,
     "metadata": {},
     "output_type": "execute_result"
    }
   ],
   "source": [
    "PC_df_2 = PC_df\n",
    "PC_df_2.head()"
   ]
  },
  {
   "cell_type": "code",
   "execution_count": 25,
   "metadata": {},
   "outputs": [
    {
     "data": {
      "text/plain": [
       "{'whiskers': [<matplotlib.lines.Line2D at 0x1e8622fe668>,\n",
       "  <matplotlib.lines.Line2D at 0x1e8622fe9b0>],\n",
       " 'caps': [<matplotlib.lines.Line2D at 0x1e8622fecf8>,\n",
       "  <matplotlib.lines.Line2D at 0x1e8622fedd8>],\n",
       " 'boxes': [<matplotlib.lines.Line2D at 0x1e8622fe278>],\n",
       " 'medians': [<matplotlib.lines.Line2D at 0x1e86231a3c8>],\n",
       " 'fliers': [<matplotlib.lines.Line2D at 0x1e86231a710>],\n",
       " 'means': []}"
      ]
     },
     "execution_count": 25,
     "metadata": {},
     "output_type": "execute_result"
    },
    {
     "data": {
      "image/png": "[encoded data removed]",
      "text/plain": [
       "<Figure size 432x288 with 1 Axes>"
      ]
     },
     "metadata": {
      "needs_background": "light"
     },
     "output_type": "display_data"
    }
   ],
   "source": [
    "# Removing the high values(outliers) from  data set(PC3)\n",
    "\n",
    "Q1 = PC_df_2.PC3.quantile(0.05)\n",
    "Q3 = PC_df_2.PC3.quantile(0.95)\n",
    "IQR = Q3 - Q1\n",
    "PC_df_2 = PC_df_2[(PC_df_2.PC3 <= Q3)]\n",
    "plt.boxplot(PC_df_2.PC3)"
   ]
  },
  {
   "cell_type": "code",
   "execution_count": 26,
   "metadata": {},
   "outputs": [
    {
     "data": {
      "text/plain": [
       "{'whiskers': [<matplotlib.lines.Line2D at 0x1e862213be0>,\n",
       "  <matplotlib.lines.Line2D at 0x1e862213f98>],\n",
       " 'caps': [<matplotlib.lines.Line2D at 0x1e862213f28>,\n",
       "  <matplotlib.lines.Line2D at 0x1e862471668>],\n",
       " 'boxes': [<matplotlib.lines.Line2D at 0x1e8622137f0>],\n",
       " 'medians': [<matplotlib.lines.Line2D at 0x1e8624719b0>],\n",
       " 'fliers': [<matplotlib.lines.Line2D at 0x1e862471cf8>],\n",
       " 'means': []}"
      ]
     },
     "execution_count": 26,
     "metadata": {},
     "output_type": "execute_result"
    },
    {
     "data": {
      "image/png": "[encoded data removed]",
      "text/plain": [
       "<Figure size 432x288 with 1 Axes>"
      ]
     },
     "metadata": {
      "needs_background": "light"
     },
     "output_type": "display_data"
    }
   ],
   "source": [
    "# Removing the high values(outliers) from data set(PC5)\n",
    "\n",
    "Q1 = PC_df_2.PC5.quantile(0.05)\n",
    "Q3 = PC_df_2.PC5.quantile(0.95)\n",
    "IQR = Q3 - Q1\n",
    "PC_df_2 = PC_df_2[(PC_df_2.PC5 <= Q3)]\n",
    "plt.boxplot(PC_df_2.PC5)"
   ]
  },
  {
   "cell_type": "code",
   "execution_count": 27,
   "metadata": {},
   "outputs": [
    {
     "data": {
      "text/plain": [
       "{'whiskers': [<matplotlib.lines.Line2D at 0x1e8623be8d0>,\n",
       "  <matplotlib.lines.Line2D at 0x1e8623bec88>],\n",
       " 'caps': [<matplotlib.lines.Line2D at 0x1e8623befd0>,\n",
       "  <matplotlib.lines.Line2D at 0x1e8623bef60>],\n",
       " 'boxes': [<matplotlib.lines.Line2D at 0x1e8623be4e0>],\n",
       " 'medians': [<matplotlib.lines.Line2D at 0x1e8623d46a0>],\n",
       " 'fliers': [<matplotlib.lines.Line2D at 0x1e8623d49e8>],\n",
       " 'means': []}"
      ]
     },
     "execution_count": 27,
     "metadata": {},
     "output_type": "execute_result"
    },
    {
     "data": {
      "image/png": "[encoded data removed]",
      "text/plain": [
       "<Figure size 432x288 with 1 Axes>"
      ]
     },
     "metadata": {
      "needs_background": "light"
     },
     "output_type": "display_data"
    }
   ],
   "source": [
    "#Removing the high values(outliers) from data set(PC2)\n",
    "Q1 = PC_df_2.PC2.quantile(0.05)\n",
    "Q3 = PC_df_2.PC2.quantile(0.95)\n",
    "IQR = Q3 - Q1\n",
    "PC_df_2= PC_df_2[(PC_df_2.PC2 <= Q3)]\n",
    "plt.boxplot(PC_df_2.PC5)"
   ]
  },
  {
   "cell_type": "markdown",
   "metadata": {},
   "source": [
    "### We are plotting scatterplots to check the spread after removing the outliers"
   ]
  },
  {
   "cell_type": "code",
   "execution_count": 28,
   "metadata": {},
   "outputs": [
    {
     "data": {
      "text/plain": [
       "<Figure size 864x432 with 0 Axes>"
      ]
     },
     "metadata": {},
     "output_type": "display_data"
    },
    {
     "data": {
      "image/png": "[encoded data removed]",
      "text/plain": [
       "<Figure size 216x216 with 1 Axes>"
      ]
     },
     "metadata": {
      "needs_background": "light"
     },
     "output_type": "display_data"
    },
    {
     "data": {
      "image/png": "[encoded data removed]",
      "text/plain": [
       "<Figure size 216x216 with 1 Axes>"
      ]
     },
     "metadata": {
      "needs_background": "light"
     },
     "output_type": "display_data"
    },
    {
     "data": {
      "image/png": "[encoded data removed]",
      "text/plain": [
       "<Figure size 216x216 with 1 Axes>"
      ]
     },
     "metadata": {
      "needs_background": "light"
     },
     "output_type": "display_data"
    },
    {
     "data": {
      "image/png": "[encoded data removed]",
      "text/plain": [
       "<Figure size 216x216 with 1 Axes>"
      ]
     },
     "metadata": {
      "needs_background": "light"
     },
     "output_type": "display_data"
    }
   ],
   "source": [
    "# plotting pairplt tosee spread of data after outlier removal\n",
    "fig = plt.figure(figsize = (12,6))\n",
    "list1=[\"PC2\",\"PC3\",\"PC4\",\"PC5\"]\n",
    "for x in list1:\n",
    "    sns.pairplot(data=PC_country, x_vars=[\"PC1\"], y_vars=[x], size=3)\n",
    "    plt.plot()"
   ]
  },
  {
   "cell_type": "markdown",
   "metadata": {},
   "source": [
    "### even after removing the outliers there is no significance change in the scatter plots of the data and hence this shows that maximum variance is explained by the pca"
   ]
  },
  {
   "cell_type": "code",
   "execution_count": 29,
   "metadata": {},
   "outputs": [
    {
     "data": {
      "text/plain": [
       "(142, 5)"
      ]
     },
     "execution_count": 29,
     "metadata": {},
     "output_type": "execute_result"
    }
   ],
   "source": [
    "PC_df_2.shape"
   ]
  },
  {
   "cell_type": "markdown",
   "metadata": {},
   "source": [
    "##### Here we are left with countries having within 95 percentage of  colun values . after this we are left with some 142 country data insted of the 167 countries that we have previously."
   ]
  },
  {
   "cell_type": "markdown",
   "metadata": {},
   "source": [
    "## Performing K-Means clustering on the data."
   ]
  },
  {
   "cell_type": "code",
   "execution_count": 30,
   "metadata": {},
   "outputs": [],
   "source": [
    "# From SKlearn we are import kmeans\n",
    "from sklearn.cluster import KMeans"
   ]
  },
  {
   "cell_type": "markdown",
   "metadata": {},
   "source": [
    "### Calculating  Hopkins statistics"
   ]
  },
  {
   "cell_type": "code",
   "execution_count": 31,
   "metadata": {},
   "outputs": [],
   "source": [
    "# code for calculating Hopkins statistics\n",
    "import numpy as np\n",
    "from numpy.random import uniform\n",
    "from sklearn.neighbors import NearestNeighbors\n",
    "from math import isnan\n",
    "from random import sample\n",
    "\n",
    " \n",
    "def hopkins(X):\n",
    "    d = X.shape[1]\n",
    "    n = len(X) \n",
    "    m = int(0.1 * n)\n",
    "    \n",
    "    nbrs = NearestNeighbors(n_neighbors=1).fit(X.values)\n",
    " \n",
    "    rand_X = sample(range(0, n, 4), m)\n",
    " \n",
    "    ujd = []\n",
    "    wjd = []\n",
    "    \n",
    "    for j in range(0, m):\n",
    "        u_dist, _ = nbrs.kneighbors(uniform(np.amin(X,axis=0),np.amax(X,axis=0),d).reshape(1, -1), 2, return_distance=True)\n",
    "        ujd.append(u_dist[0][1])\n",
    "        w_dist, _ = nbrs.kneighbors(X.iloc[rand_X[j]].values.reshape(1, -1), 2, return_distance=True)\n",
    "        wjd.append(w_dist[0][1])\n",
    " \n",
    "    H = sum(ujd) / (sum(ujd) + sum(wjd))\n",
    "    \n",
    "    if isnan(H):\n",
    "        print(ujd, wjd)\n",
    "        H = 0\n",
    " \n",
    "    return H"
   ]
  },
  {
   "cell_type": "code",
   "execution_count": 32,
   "metadata": {},
   "outputs": [
    {
     "data": {
      "text/plain": [
       "0.7339878138099712"
      ]
     },
     "execution_count": 32,
     "metadata": {},
     "output_type": "execute_result"
    }
   ],
   "source": [
    "# Calculating hopkinsscore for the PC_df_2\n",
    "hopkins(PC_df_2)"
   ]
  },
  {
   "cell_type": "markdown",
   "metadata": {},
   "source": [
    "### The calculated hopkins_score is above .50 and is  good score.\n",
    "### According to this obtained score we can observe that  the data is having  tendency to form the clusters."
   ]
  },
  {
   "cell_type": "markdown",
   "metadata": {},
   "source": [
    "##  Silhouette score analysis"
   ]
  },
  {
   "cell_type": "code",
   "execution_count": 33,
   "metadata": {},
   "outputs": [],
   "source": [
    "# importing silhouette_score from sklearn.metrics\n",
    "PC_df_3=PC_df_2\n",
    "from sklearn.metrics import silhouette_score\n",
    "list1= []\n",
    "for x in range(2, 10):\n",
    "    kmeans = KMeans(n_clusters=x).fit(PC_df_3)\n",
    "    list1.append([x, silhouette_score(PC_df_3, kmeans.labels_)])"
   ]
  },
  {
   "cell_type": "markdown",
   "metadata": {},
   "source": [
    "### Plotting Silhouette coeff curve"
   ]
  },
  {
   "cell_type": "code",
   "execution_count": 34,
   "metadata": {},
   "outputs": [
    {
     "data": {
      "text/plain": [
       "[<matplotlib.lines.Line2D at 0x1e862f1e7b8>]"
      ]
     },
     "execution_count": 34,
     "metadata": {},
     "output_type": "execute_result"
    },
    {
     "data": {
      "image/png": "[encoded data removed]",
      "text/plain": [
       "<Figure size 864x432 with 1 Axes>"
      ]
     },
     "metadata": {
      "needs_background": "light"
     },
     "output_type": "display_data"
    }
   ],
   "source": [
    "# graph b/w the Silhouette_coeff & no._of_clusters  \n",
    "fig = plt.figure(figsize = (12,6))\n",
    "plt.plot(pd.DataFrame(list1)[0], pd.DataFrame(list1)[1])"
   ]
  },
  {
   "cell_type": "markdown",
   "metadata": {},
   "source": [
    "#### By analysing we find that at K = 3 the number of clusters that can be formed by using KMEANS algorith."
   ]
  },
  {
   "cell_type": "code",
   "execution_count": 35,
   "metadata": {},
   "outputs": [
    {
     "data": {
      "text/plain": [
       "[<matplotlib.lines.Line2D at 0x1e862b348d0>]"
      ]
     },
     "execution_count": 35,
     "metadata": {},
     "output_type": "execute_result"
    },
    {
     "data": {
      "image/png": "[encoded data removed]",
      "text/plain": [
       "<Figure size 864x432 with 1 Axes>"
      ]
     },
     "metadata": {
      "needs_background": "light"
     },
     "output_type": "display_data"
    }
   ],
   "source": [
    "fig = plt.figure(figsize = (12,6))\n",
    "list2= []\n",
    "for num_clusters in list(range(1,10)):\n",
    "    clust = KMeans(n_clusters = num_clusters, max_iter=50)\n",
    "    clust.fit(PC_df_3)\n",
    "    list2.append(clust.inertia_)\n",
    "plt.plot(list2)"
   ]
  },
  {
   "cell_type": "markdown",
   "metadata": {},
   "source": [
    "#### By using elbow curve method we observe that there is a  distinct bend at approx. 3 clusters.\n",
    "#### For this reason we choose K = 3\n",
    "#### By taking three clusters & performing the KMeans algooritm."
   ]
  },
  {
   "cell_type": "code",
   "execution_count": 36,
   "metadata": {},
   "outputs": [
    {
     "data": {
      "text/plain": [
       "KMeans(algorithm='auto', copy_x=True, init='k-means++', max_iter=50,\n",
       "       n_clusters=3, n_init=10, n_jobs=None, precompute_distances='auto',\n",
       "       random_state=47, tol=0.0001, verbose=0)"
      ]
     },
     "execution_count": 36,
     "metadata": {},
     "output_type": "execute_result"
    }
   ],
   "source": [
    "clusters_3 = KMeans(n_clusters = 3, max_iter=50,random_state = 47)\n",
    "clusters_3.fit(PC_df_3)"
   ]
  },
  {
   "cell_type": "code",
   "execution_count": 37,
   "metadata": {
    "scrolled": true
   },
   "outputs": [
    {
     "data": {
      "text/html": [
       "<div>\n",
       "<style scoped>\n",
       "    .dataframe tbody tr th:only-of-type {\n",
       "        vertical-align: middle;\n",
       "    }\n",
       "\n",
       "    .dataframe tbody tr th {\n",
       "        vertical-align: top;\n",
       "    }\n",
       "\n",
       "    .dataframe thead th {\n",
       "        text-align: right;\n",
       "    }\n",
       "</style>\n",
       "<table border=\"1\" class=\"dataframe\">\n",
       "  <thead>\n",
       "    <tr style=\"text-align: right;\">\n",
       "      <th></th>\n",
       "      <th>PC1</th>\n",
       "      <th>PC2</th>\n",
       "      <th>PC3</th>\n",
       "      <th>PC4</th>\n",
       "      <th>PC5</th>\n",
       "      <th>Clusters</th>\n",
       "    </tr>\n",
       "  </thead>\n",
       "  <tbody>\n",
       "    <tr>\n",
       "      <th>0</th>\n",
       "      <td>-2.913025</td>\n",
       "      <td>0.095621</td>\n",
       "      <td>-0.718118</td>\n",
       "      <td>1.005255</td>\n",
       "      <td>-0.158310</td>\n",
       "      <td>0</td>\n",
       "    </tr>\n",
       "    <tr>\n",
       "      <th>1</th>\n",
       "      <td>0.429911</td>\n",
       "      <td>-0.588156</td>\n",
       "      <td>-0.333486</td>\n",
       "      <td>-1.161059</td>\n",
       "      <td>0.174677</td>\n",
       "      <td>1</td>\n",
       "    </tr>\n",
       "    <tr>\n",
       "      <th>2</th>\n",
       "      <td>-0.285225</td>\n",
       "      <td>-0.455174</td>\n",
       "      <td>1.221505</td>\n",
       "      <td>-0.868115</td>\n",
       "      <td>0.156475</td>\n",
       "      <td>1</td>\n",
       "    </tr>\n",
       "    <tr>\n",
       "      <th>3</th>\n",
       "      <td>-2.932423</td>\n",
       "      <td>1.695555</td>\n",
       "      <td>1.525044</td>\n",
       "      <td>0.839625</td>\n",
       "      <td>-0.273209</td>\n",
       "      <td>0</td>\n",
       "    </tr>\n",
       "    <tr>\n",
       "      <th>4</th>\n",
       "      <td>1.033576</td>\n",
       "      <td>0.136659</td>\n",
       "      <td>-0.225721</td>\n",
       "      <td>-0.847063</td>\n",
       "      <td>-0.193007</td>\n",
       "      <td>1</td>\n",
       "    </tr>\n",
       "  </tbody>\n",
       "</table>\n",
       "</div>"
      ],
      "text/plain": [
       "        PC1       PC2       PC3       PC4       PC5  Clusters\n",
       "0 -2.913025  0.095621 -0.718118  1.005255 -0.158310         0\n",
       "1  0.429911 -0.588156 -0.333486 -1.161059  0.174677         1\n",
       "2 -0.285225 -0.455174  1.221505 -0.868115  0.156475         1\n",
       "3 -2.932423  1.695555  1.525044  0.839625 -0.273209         0\n",
       "4  1.033576  0.136659 -0.225721 -0.847063 -0.193007         1"
      ]
     },
     "execution_count": 37,
     "metadata": {},
     "output_type": "execute_result"
    }
   ],
   "source": [
    "# here we add the cluster label column on right side\n",
    "\n",
    "PC_df_4=PC_df_2\n",
    "PC_df_4.index = pd.RangeIndex(len(PC_df_4.index))\n",
    "PC_df_KM = pd.concat([PC_df_4, pd.Series(clusters_3.labels_)], axis=1)\n",
    "PC_df_KM.columns = ['PC1', 'PC2','PC3','PC4','PC5','Clusters']\n",
    "PC_df_KM.head()"
   ]
  },
  {
   "cell_type": "markdown",
   "metadata": {},
   "source": [
    "#### observing and countingthe no. members in each clusters"
   ]
  },
  {
   "cell_type": "code",
   "execution_count": 38,
   "metadata": {},
   "outputs": [
    {
     "data": {
      "text/plain": [
       "1    78\n",
       "0    41\n",
       "2    23\n",
       "Name: Clusters, dtype: int64"
      ]
     },
     "execution_count": 38,
     "metadata": {},
     "output_type": "execute_result"
    }
   ],
   "source": [
    "PC_df_KM['Clusters'].value_counts()"
   ]
  },
  {
   "cell_type": "code",
   "execution_count": 39,
   "metadata": {},
   "outputs": [
    {
     "data": {
      "text/plain": [
       "[]"
      ]
     },
     "execution_count": 39,
     "metadata": {},
     "output_type": "execute_result"
    },
    {
     "data": {
      "image/png": "[encoded data removed]",
      "text/plain": [
       "<Figure size 432x288 with 1 Axes>"
      ]
     },
     "metadata": {
      "needs_background": "light"
     },
     "output_type": "display_data"
    }
   ],
   "source": [
    "# Scatter plot to check the formation of the clusters\n",
    "\n",
    "sns.scatterplot(x='PC1',y='PC2',hue='Clusters',legend='full',data=PC_df_KM)\n",
    "plt.plot()"
   ]
  },
  {
   "cell_type": "code",
   "execution_count": 40,
   "metadata": {},
   "outputs": [
    {
     "data": {
      "text/plain": [
       "[]"
      ]
     },
     "execution_count": 40,
     "metadata": {},
     "output_type": "execute_result"
    },
    {
     "data": {
      "image/png": "[encoded data removed]",
      "text/plain": [
       "<Figure size 432x288 with 1 Axes>"
      ]
     },
     "metadata": {
      "needs_background": "light"
     },
     "output_type": "display_data"
    }
   ],
   "source": [
    "sns.scatterplot(x='PC1',y='PC3',hue='Clusters',legend='full',data=PC_df_KM)\n",
    "plt.plot()"
   ]
  },
  {
   "cell_type": "code",
   "execution_count": 41,
   "metadata": {},
   "outputs": [
    {
     "data": {
      "text/plain": [
       "[]"
      ]
     },
     "execution_count": 41,
     "metadata": {},
     "output_type": "execute_result"
    },
    {
     "data": {
      "image/png": "[encoded data removed]",
      "text/plain": [
       "<Figure size 432x288 with 1 Axes>"
      ]
     },
     "metadata": {
      "needs_background": "light"
     },
     "output_type": "display_data"
    }
   ],
   "source": [
    "sns.scatterplot(x='PC1',y='PC4',hue='Clusters',legend='full',data=PC_df_KM)\n",
    "plt.plot()"
   ]
  },
  {
   "cell_type": "code",
   "execution_count": 42,
   "metadata": {},
   "outputs": [
    {
     "data": {
      "text/plain": [
       "[]"
      ]
     },
     "execution_count": 42,
     "metadata": {},
     "output_type": "execute_result"
    },
    {
     "data": {
      "image/png": "[encoded data removed]",
      "text/plain": [
       "<Figure size 432x288 with 1 Axes>"
      ]
     },
     "metadata": {
      "needs_background": "light"
     },
     "output_type": "display_data"
    }
   ],
   "source": [
    "sns.scatterplot(x='PC1',y='PC5',hue='Clusters',legend='full',data=PC_df_KM)\n",
    "plt.plot()"
   ]
  },
  {
   "cell_type": "markdown",
   "metadata": {},
   "source": [
    "####  There are various types of clusters are formed for further analysis we take the first scatter plot for further analysis"
   ]
  },
  {
   "cell_type": "code",
   "execution_count": 43,
   "metadata": {},
   "outputs": [
    {
     "data": {
      "image/png": "[encoded data removed]",
      "text/plain": [
       "<Figure size 432x288 with 1 Axes>"
      ]
     },
     "metadata": {
      "needs_background": "light"
     },
     "output_type": "display_data"
    }
   ],
   "source": [
    "# Observing the clustercenters formed \n",
    "kmeans = KMeans(n_clusters=3, init='k-means++', max_iter=300, n_init=10, random_state=0)\n",
    "pred_y = kmeans.fit_predict(PC_df_KM)\n",
    "plt.scatter(PC_df_KM.PC1,PC_df_KM.PC2)\n",
    "plt.scatter(kmeans.cluster_centers_[:, 0], kmeans.cluster_centers_[:, 1], s=300, c='red')\n",
    "plt.show()"
   ]
  },
  {
   "cell_type": "markdown",
   "metadata": {},
   "source": [
    "### By taking four clusters & performing the KMeans algooritm"
   ]
  },
  {
   "cell_type": "code",
   "execution_count": 44,
   "metadata": {},
   "outputs": [
    {
     "data": {
      "text/plain": [
       "KMeans(algorithm='auto', copy_x=True, init='k-means++', max_iter=50,\n",
       "       n_clusters=4, n_init=10, n_jobs=None, precompute_distances='auto',\n",
       "       random_state=47, tol=0.0001, verbose=0)"
      ]
     },
     "execution_count": 44,
     "metadata": {},
     "output_type": "execute_result"
    }
   ],
   "source": [
    "clusters_4= KMeans(n_clusters = 4, max_iter=50,random_state = 47)\n",
    "clusters_4.fit(PC_df_3)"
   ]
  },
  {
   "cell_type": "code",
   "execution_count": 45,
   "metadata": {
    "scrolled": true
   },
   "outputs": [
    {
     "data": {
      "text/html": [
       "<div>\n",
       "<style scoped>\n",
       "    .dataframe tbody tr th:only-of-type {\n",
       "        vertical-align: middle;\n",
       "    }\n",
       "\n",
       "    .dataframe tbody tr th {\n",
       "        vertical-align: top;\n",
       "    }\n",
       "\n",
       "    .dataframe thead th {\n",
       "        text-align: right;\n",
       "    }\n",
       "</style>\n",
       "<table border=\"1\" class=\"dataframe\">\n",
       "  <thead>\n",
       "    <tr style=\"text-align: right;\">\n",
       "      <th></th>\n",
       "      <th>PC1</th>\n",
       "      <th>PC2</th>\n",
       "      <th>PC3</th>\n",
       "      <th>PC4</th>\n",
       "      <th>PC5</th>\n",
       "      <th>Clusters</th>\n",
       "    </tr>\n",
       "  </thead>\n",
       "  <tbody>\n",
       "    <tr>\n",
       "      <th>0</th>\n",
       "      <td>-2.913025</td>\n",
       "      <td>0.095621</td>\n",
       "      <td>-0.718118</td>\n",
       "      <td>1.005255</td>\n",
       "      <td>-0.158310</td>\n",
       "      <td>1</td>\n",
       "    </tr>\n",
       "    <tr>\n",
       "      <th>1</th>\n",
       "      <td>0.429911</td>\n",
       "      <td>-0.588156</td>\n",
       "      <td>-0.333486</td>\n",
       "      <td>-1.161059</td>\n",
       "      <td>0.174677</td>\n",
       "      <td>3</td>\n",
       "    </tr>\n",
       "    <tr>\n",
       "      <th>2</th>\n",
       "      <td>-0.285225</td>\n",
       "      <td>-0.455174</td>\n",
       "      <td>1.221505</td>\n",
       "      <td>-0.868115</td>\n",
       "      <td>0.156475</td>\n",
       "      <td>2</td>\n",
       "    </tr>\n",
       "    <tr>\n",
       "      <th>3</th>\n",
       "      <td>-2.932423</td>\n",
       "      <td>1.695555</td>\n",
       "      <td>1.525044</td>\n",
       "      <td>0.839625</td>\n",
       "      <td>-0.273209</td>\n",
       "      <td>1</td>\n",
       "    </tr>\n",
       "    <tr>\n",
       "      <th>4</th>\n",
       "      <td>1.033576</td>\n",
       "      <td>0.136659</td>\n",
       "      <td>-0.225721</td>\n",
       "      <td>-0.847063</td>\n",
       "      <td>-0.193007</td>\n",
       "      <td>3</td>\n",
       "    </tr>\n",
       "  </tbody>\n",
       "</table>\n",
       "</div>"
      ],
      "text/plain": [
       "        PC1       PC2       PC3       PC4       PC5  Clusters\n",
       "0 -2.913025  0.095621 -0.718118  1.005255 -0.158310         1\n",
       "1  0.429911 -0.588156 -0.333486 -1.161059  0.174677         3\n",
       "2 -0.285225 -0.455174  1.221505 -0.868115  0.156475         2\n",
       "3 -2.932423  1.695555  1.525044  0.839625 -0.273209         1\n",
       "4  1.033576  0.136659 -0.225721 -0.847063 -0.193007         3"
      ]
     },
     "execution_count": 45,
     "metadata": {},
     "output_type": "execute_result"
    }
   ],
   "source": [
    "# here we add the cluster label column on right side\n",
    "\n",
    "PC_df_5=PC_df_2\n",
    "PC_df_5.index = pd.RangeIndex(len(PC_df_5.index))\n",
    "PC_df_6 = pd.concat([PC_df_5, pd.Series(clusters_4.labels_)], axis=1)\n",
    "PC_df_6.columns = ['PC1', 'PC2','PC3','PC4','PC5','Clusters']\n",
    "PC_df_6.head()"
   ]
  },
  {
   "cell_type": "markdown",
   "metadata": {},
   "source": [
    "#### observing and countingthe no. members in each clusters\n"
   ]
  },
  {
   "cell_type": "code",
   "execution_count": 46,
   "metadata": {},
   "outputs": [
    {
     "data": {
      "text/plain": [
       "2    41\n",
       "3    40\n",
       "1    39\n",
       "0    22\n",
       "Name: Clusters, dtype: int64"
      ]
     },
     "execution_count": 46,
     "metadata": {},
     "output_type": "execute_result"
    }
   ],
   "source": [
    "PC_df_6['Clusters'].value_counts()"
   ]
  },
  {
   "cell_type": "markdown",
   "metadata": {},
   "source": [
    "#### Scatterplot for cluster formations"
   ]
  },
  {
   "cell_type": "code",
   "execution_count": 47,
   "metadata": {},
   "outputs": [],
   "source": [
    "# Scatter plot to check the formation of various clusters "
   ]
  },
  {
   "cell_type": "code",
   "execution_count": 48,
   "metadata": {},
   "outputs": [
    {
     "data": {
      "text/plain": [
       "<matplotlib.axes._subplots.AxesSubplot at 0x1e86262eef0>"
      ]
     },
     "execution_count": 48,
     "metadata": {},
     "output_type": "execute_result"
    },
    {
     "data": {
      "image/png": "[encoded data removed]",
      "text/plain": [
       "<Figure size 432x288 with 1 Axes>"
      ]
     },
     "metadata": {
      "needs_background": "light"
     },
     "output_type": "display_data"
    }
   ],
   "source": [
    "sns.scatterplot(x='PC1',y='PC2',hue='Clusters',legend='full',data=PC_df_6)"
   ]
  },
  {
   "cell_type": "code",
   "execution_count": 49,
   "metadata": {},
   "outputs": [
    {
     "data": {
      "text/plain": [
       "<matplotlib.axes._subplots.AxesSubplot at 0x1e862d2b278>"
      ]
     },
     "execution_count": 49,
     "metadata": {},
     "output_type": "execute_result"
    },
    {
     "data": {
      "image/png": "[encoded data removed]",
      "text/plain": [
       "<Figure size 432x288 with 1 Axes>"
      ]
     },
     "metadata": {
      "needs_background": "light"
     },
     "output_type": "display_data"
    }
   ],
   "source": [
    "sns.scatterplot(x='PC1',y='PC3',hue='Clusters',legend='full',data=PC_df_6)"
   ]
  },
  {
   "cell_type": "code",
   "execution_count": 50,
   "metadata": {},
   "outputs": [
    {
     "data": {
      "text/plain": [
       "<matplotlib.axes._subplots.AxesSubplot at 0x1e862dab908>"
      ]
     },
     "execution_count": 50,
     "metadata": {},
     "output_type": "execute_result"
    },
    {
     "data": {
      "image/png": "[encoded data removed]",
      "text/plain": [
       "<Figure size 432x288 with 1 Axes>"
      ]
     },
     "metadata": {
      "needs_background": "light"
     },
     "output_type": "display_data"
    }
   ],
   "source": [
    "sns.scatterplot(x='PC1',y='PC4',hue='Clusters',legend='full',data=PC_df_6)"
   ]
  },
  {
   "cell_type": "code",
   "execution_count": 51,
   "metadata": {},
   "outputs": [
    {
     "data": {
      "text/plain": [
       "<matplotlib.axes._subplots.AxesSubplot at 0x1e862e34198>"
      ]
     },
     "execution_count": 51,
     "metadata": {},
     "output_type": "execute_result"
    },
    {
     "data": {
      "image/png": "[encoded data removed]",
      "text/plain": [
       "<Figure size 432x288 with 1 Axes>"
      ]
     },
     "metadata": {
      "needs_background": "light"
     },
     "output_type": "display_data"
    }
   ],
   "source": [
    "sns.scatterplot(x='PC1',y='PC5',hue='Clusters',legend='full',data=PC_df_6)"
   ]
  },
  {
   "cell_type": "markdown",
   "metadata": {},
   "source": [
    "#### Here you can observe in the scatter plots when we try to form the four clusters then in the first scatter plot it forms perfectly but in the rest the of the plots the clusters are not clearly visible. \n",
    "\n",
    "####  There are various types of clusters are formed for further analysis we take the first scatter plot for further analysis"
   ]
  },
  {
   "cell_type": "code",
   "execution_count": 52,
   "metadata": {},
   "outputs": [
    {
     "data": {
      "image/png": "[encoded data removed]",
      "text/plain": [
       "<Figure size 432x288 with 1 Axes>"
      ]
     },
     "metadata": {
      "needs_background": "light"
     },
     "output_type": "display_data"
    }
   ],
   "source": [
    "# Observing the clustercenters formed \n",
    "kmeans = KMeans(n_clusters=4, init='k-means++', max_iter=300, n_init=10, random_state=0)\n",
    "pred_y2 = kmeans.fit_predict(PC_df_KM)\n",
    "plt.scatter(PC_df_6.PC1,PC_df_6.PC2)\n",
    "plt.scatter(kmeans.cluster_centers_[:, 0], kmeans.cluster_centers_[:, 1], s=300, c='red')\n",
    "plt.show()"
   ]
  },
  {
   "cell_type": "markdown",
   "metadata": {},
   "source": [
    "## Performing hierarchical clustering"
   ]
  },
  {
   "cell_type": "markdown",
   "metadata": {},
   "source": [
    "#### here we are performing singlelinkage"
   ]
  },
  {
   "cell_type": "code",
   "execution_count": 53,
   "metadata": {
    "scrolled": true
   },
   "outputs": [
    {
     "data": {
      "image/png": "[encoded data removed]",
      "text/plain": [
       "<Figure size 1296x432 with 1 Axes>"
      ]
     },
     "metadata": {
      "needs_background": "light"
     },
     "output_type": "display_data"
    }
   ],
   "source": [
    "fig = plt.figure(figsize = (18,6))\n",
    "x = linkage(PC_df_2, method=\"single\", metric='euclidean')\n",
    "dendrogram(x)\n",
    "\n",
    "plt.show()"
   ]
  },
  {
   "cell_type": "markdown",
   "metadata": {},
   "source": [
    "### In the above figure the clusters are not form properly .i.e observe the red and green branches the proportion is not good hence the clustering process not perform well with the help of the single linkage\n",
    "\n",
    "#### here we are performing complete linkage"
   ]
  },
  {
   "cell_type": "code",
   "execution_count": 54,
   "metadata": {},
   "outputs": [
    {
     "data": {
      "image/png": "[encoded data removed]",
      "text/plain": [
       "<Figure size 1440x432 with 1 Axes>"
      ]
     },
     "metadata": {
      "needs_background": "light"
     },
     "output_type": "display_data"
    }
   ],
   "source": [
    "fig = plt.figure(figsize = (20,6))\n",
    "x = linkage(PC_df_2, method=\"complete\", metric='euclidean')\n",
    "dendrogram(x)\n",
    "\n",
    "plt.show()"
   ]
  },
  {
   "cell_type": "markdown",
   "metadata": {},
   "source": [
    "#### Now we are selecting three clusters based on the above dendogram \n"
   ]
  },
  {
   "cell_type": "code",
   "execution_count": 55,
   "metadata": {},
   "outputs": [
    {
     "data": {
      "text/plain": [
       "array([0, 1, 1, 0, 1, 1, 1, 2, 2, 1, 1, 1, 1, 1, 1, 2, 1, 0, 1, 1, 1, 1,\n",
       "       1, 1, 0, 0, 1, 0, 2, 1, 0, 0, 1, 1, 1, 0, 0, 1, 0, 1, 1, 1, 2, 1,\n",
       "       1, 1, 1, 1, 1, 1, 2, 2, 1, 0, 2, 1, 2, 1, 1, 0, 0, 1, 1, 2, 1, 1,\n",
       "       1, 1, 1, 2, 1, 2, 1, 1, 0, 0, 1, 1, 1, 1, 0, 1, 1, 1, 1, 0, 1, 1,\n",
       "       0, 0, 1, 1, 1, 0, 1, 1, 1, 2, 2, 0, 2, 1, 1, 1, 1, 1, 1, 2, 1, 1,\n",
       "       0, 1, 0, 1, 1, 1, 1, 0, 1, 2, 1, 1, 1, 1, 2, 2, 1, 0, 1, 0, 1, 1,\n",
       "       1, 1, 0, 2, 2, 1, 1, 1, 1, 0])"
      ]
     },
     "execution_count": 55,
     "metadata": {},
     "output_type": "execute_result"
    }
   ],
   "source": [
    "labelfor_cluster = cut_tree(x, n_clusters=3).reshape(-1, )\n",
    "labelfor_cluster"
   ]
  },
  {
   "cell_type": "code",
   "execution_count": 56,
   "metadata": {},
   "outputs": [
    {
     "data": {
      "text/html": [
       "<div>\n",
       "<style scoped>\n",
       "    .dataframe tbody tr th:only-of-type {\n",
       "        vertical-align: middle;\n",
       "    }\n",
       "\n",
       "    .dataframe tbody tr th {\n",
       "        vertical-align: top;\n",
       "    }\n",
       "\n",
       "    .dataframe thead th {\n",
       "        text-align: right;\n",
       "    }\n",
       "</style>\n",
       "<table border=\"1\" class=\"dataframe\">\n",
       "  <thead>\n",
       "    <tr style=\"text-align: right;\">\n",
       "      <th></th>\n",
       "      <th>PC1</th>\n",
       "      <th>PC2</th>\n",
       "      <th>PC3</th>\n",
       "      <th>PC4</th>\n",
       "      <th>PC5</th>\n",
       "      <th>labelfor_cluster</th>\n",
       "    </tr>\n",
       "  </thead>\n",
       "  <tbody>\n",
       "    <tr>\n",
       "      <th>0</th>\n",
       "      <td>-2.913025</td>\n",
       "      <td>0.095621</td>\n",
       "      <td>-0.718118</td>\n",
       "      <td>1.005255</td>\n",
       "      <td>-0.158310</td>\n",
       "      <td>0</td>\n",
       "    </tr>\n",
       "    <tr>\n",
       "      <th>1</th>\n",
       "      <td>0.429911</td>\n",
       "      <td>-0.588156</td>\n",
       "      <td>-0.333486</td>\n",
       "      <td>-1.161059</td>\n",
       "      <td>0.174677</td>\n",
       "      <td>1</td>\n",
       "    </tr>\n",
       "    <tr>\n",
       "      <th>2</th>\n",
       "      <td>-0.285225</td>\n",
       "      <td>-0.455174</td>\n",
       "      <td>1.221505</td>\n",
       "      <td>-0.868115</td>\n",
       "      <td>0.156475</td>\n",
       "      <td>1</td>\n",
       "    </tr>\n",
       "    <tr>\n",
       "      <th>3</th>\n",
       "      <td>-2.932423</td>\n",
       "      <td>1.695555</td>\n",
       "      <td>1.525044</td>\n",
       "      <td>0.839625</td>\n",
       "      <td>-0.273209</td>\n",
       "      <td>0</td>\n",
       "    </tr>\n",
       "    <tr>\n",
       "      <th>4</th>\n",
       "      <td>1.033576</td>\n",
       "      <td>0.136659</td>\n",
       "      <td>-0.225721</td>\n",
       "      <td>-0.847063</td>\n",
       "      <td>-0.193007</td>\n",
       "      <td>1</td>\n",
       "    </tr>\n",
       "  </tbody>\n",
       "</table>\n",
       "</div>"
      ],
      "text/plain": [
       "        PC1       PC2       PC3       PC4       PC5  labelfor_cluster\n",
       "0 -2.913025  0.095621 -0.718118  1.005255 -0.158310                 0\n",
       "1  0.429911 -0.588156 -0.333486 -1.161059  0.174677                 1\n",
       "2 -0.285225 -0.455174  1.221505 -0.868115  0.156475                 1\n",
       "3 -2.932423  1.695555  1.525044  0.839625 -0.273209                 0\n",
       "4  1.033576  0.136659 -0.225721 -0.847063 -0.193007                 1"
      ]
     },
     "execution_count": 56,
     "metadata": {},
     "output_type": "execute_result"
    }
   ],
   "source": [
    "# cgiving labels for the cluster (as a colun)\n",
    "\n",
    "PC_df_2['labelfor_cluster'] = labelfor_cluster\n",
    "PC_df_2.head()"
   ]
  },
  {
   "cell_type": "markdown",
   "metadata": {},
   "source": [
    "#### observing and countingthe no. members in each clusters\n"
   ]
  },
  {
   "cell_type": "code",
   "execution_count": 57,
   "metadata": {},
   "outputs": [
    {
     "data": {
      "text/plain": [
       "1    92\n",
       "0    29\n",
       "2    21\n",
       "Name: labelfor_cluster, dtype: int64"
      ]
     },
     "execution_count": 57,
     "metadata": {},
     "output_type": "execute_result"
    }
   ],
   "source": [
    "PC_df_2['labelfor_cluster'].value_counts()"
   ]
  },
  {
   "cell_type": "markdown",
   "metadata": {},
   "source": [
    "### cluster belongs to label-1 is having most of the datapoints."
   ]
  },
  {
   "cell_type": "markdown",
   "metadata": {},
   "source": [
    "#### here we are plotting of PC1 v/s PC2 having labelfor_cluster hue "
   ]
  },
  {
   "cell_type": "code",
   "execution_count": 58,
   "metadata": {},
   "outputs": [
    {
     "data": {
      "text/plain": [
       "<matplotlib.axes._subplots.AxesSubplot at 0x1e8624b14a8>"
      ]
     },
     "execution_count": 58,
     "metadata": {},
     "output_type": "execute_result"
    },
    {
     "data": {
      "image/png": "[encoded data removed]",
      "text/plain": [
       "<Figure size 432x288 with 1 Axes>"
      ]
     },
     "metadata": {
      "needs_background": "light"
     },
     "output_type": "display_data"
    }
   ],
   "source": [
    "# checking the formation of cluster\n",
    "sns.scatterplot(x='PC1',y='PC2',hue='labelfor_cluster',legend='full',data=PC_df_2)"
   ]
  },
  {
   "cell_type": "markdown",
   "metadata": {},
   "source": [
    "### here we observe the formation of cluster clearly."
   ]
  },
  {
   "cell_type": "code",
   "execution_count": 59,
   "metadata": {},
   "outputs": [
    {
     "data": {
      "text/html": [
       "<div>\n",
       "<style scoped>\n",
       "    .dataframe tbody tr th:only-of-type {\n",
       "        vertical-align: middle;\n",
       "    }\n",
       "\n",
       "    .dataframe tbody tr th {\n",
       "        vertical-align: top;\n",
       "    }\n",
       "\n",
       "    .dataframe thead th {\n",
       "        text-align: right;\n",
       "    }\n",
       "</style>\n",
       "<table border=\"1\" class=\"dataframe\">\n",
       "  <thead>\n",
       "    <tr style=\"text-align: right;\">\n",
       "      <th></th>\n",
       "      <th>child_mort</th>\n",
       "      <th>exports</th>\n",
       "      <th>health</th>\n",
       "      <th>imports</th>\n",
       "      <th>income</th>\n",
       "      <th>inflation</th>\n",
       "      <th>life_expec</th>\n",
       "      <th>total_fer</th>\n",
       "      <th>gdpp</th>\n",
       "      <th>PC1</th>\n",
       "      <th>PC2</th>\n",
       "      <th>PC3</th>\n",
       "      <th>PC4</th>\n",
       "      <th>PC5</th>\n",
       "      <th>labelfor_cluster</th>\n",
       "      <th>country</th>\n",
       "    </tr>\n",
       "  </thead>\n",
       "  <tbody>\n",
       "    <tr>\n",
       "      <th>0</th>\n",
       "      <td>90.2</td>\n",
       "      <td>10.0</td>\n",
       "      <td>7.58</td>\n",
       "      <td>44.9</td>\n",
       "      <td>1610</td>\n",
       "      <td>9.44</td>\n",
       "      <td>56.2</td>\n",
       "      <td>5.82</td>\n",
       "      <td>553</td>\n",
       "      <td>-2.913025</td>\n",
       "      <td>0.095621</td>\n",
       "      <td>-0.718118</td>\n",
       "      <td>1.005255</td>\n",
       "      <td>-0.158310</td>\n",
       "      <td>0.0</td>\n",
       "      <td>Afghanistan</td>\n",
       "    </tr>\n",
       "    <tr>\n",
       "      <th>1</th>\n",
       "      <td>16.6</td>\n",
       "      <td>28.0</td>\n",
       "      <td>6.55</td>\n",
       "      <td>48.6</td>\n",
       "      <td>9930</td>\n",
       "      <td>4.49</td>\n",
       "      <td>76.3</td>\n",
       "      <td>1.65</td>\n",
       "      <td>4090</td>\n",
       "      <td>0.429911</td>\n",
       "      <td>-0.588156</td>\n",
       "      <td>-0.333486</td>\n",
       "      <td>-1.161059</td>\n",
       "      <td>0.174677</td>\n",
       "      <td>1.0</td>\n",
       "      <td>Albania</td>\n",
       "    </tr>\n",
       "    <tr>\n",
       "      <th>2</th>\n",
       "      <td>27.3</td>\n",
       "      <td>38.4</td>\n",
       "      <td>4.17</td>\n",
       "      <td>31.4</td>\n",
       "      <td>12900</td>\n",
       "      <td>16.10</td>\n",
       "      <td>76.5</td>\n",
       "      <td>2.89</td>\n",
       "      <td>4460</td>\n",
       "      <td>-0.285225</td>\n",
       "      <td>-0.455174</td>\n",
       "      <td>1.221505</td>\n",
       "      <td>-0.868115</td>\n",
       "      <td>0.156475</td>\n",
       "      <td>1.0</td>\n",
       "      <td>Algeria</td>\n",
       "    </tr>\n",
       "    <tr>\n",
       "      <th>3</th>\n",
       "      <td>119.0</td>\n",
       "      <td>62.3</td>\n",
       "      <td>2.85</td>\n",
       "      <td>42.9</td>\n",
       "      <td>5900</td>\n",
       "      <td>22.40</td>\n",
       "      <td>60.1</td>\n",
       "      <td>6.16</td>\n",
       "      <td>3530</td>\n",
       "      <td>-2.932423</td>\n",
       "      <td>1.695555</td>\n",
       "      <td>1.525044</td>\n",
       "      <td>0.839625</td>\n",
       "      <td>-0.273209</td>\n",
       "      <td>0.0</td>\n",
       "      <td>Angola</td>\n",
       "    </tr>\n",
       "    <tr>\n",
       "      <th>4</th>\n",
       "      <td>10.3</td>\n",
       "      <td>45.5</td>\n",
       "      <td>6.03</td>\n",
       "      <td>58.9</td>\n",
       "      <td>19100</td>\n",
       "      <td>1.44</td>\n",
       "      <td>76.8</td>\n",
       "      <td>2.13</td>\n",
       "      <td>12200</td>\n",
       "      <td>1.033576</td>\n",
       "      <td>0.136659</td>\n",
       "      <td>-0.225721</td>\n",
       "      <td>-0.847063</td>\n",
       "      <td>-0.193007</td>\n",
       "      <td>1.0</td>\n",
       "      <td>Antigua and Barbuda</td>\n",
       "    </tr>\n",
       "  </tbody>\n",
       "</table>\n",
       "</div>"
      ],
      "text/plain": [
       "   child_mort  exports  health  imports  income  inflation  life_expec  \\\n",
       "0        90.2     10.0    7.58     44.9    1610       9.44        56.2   \n",
       "1        16.6     28.0    6.55     48.6    9930       4.49        76.3   \n",
       "2        27.3     38.4    4.17     31.4   12900      16.10        76.5   \n",
       "3       119.0     62.3    2.85     42.9    5900      22.40        60.1   \n",
       "4        10.3     45.5    6.03     58.9   19100       1.44        76.8   \n",
       "\n",
       "   total_fer   gdpp       PC1       PC2       PC3       PC4       PC5  \\\n",
       "0       5.82    553 -2.913025  0.095621 -0.718118  1.005255 -0.158310   \n",
       "1       1.65   4090  0.429911 -0.588156 -0.333486 -1.161059  0.174677   \n",
       "2       2.89   4460 -0.285225 -0.455174  1.221505 -0.868115  0.156475   \n",
       "3       6.16   3530 -2.932423  1.695555  1.525044  0.839625 -0.273209   \n",
       "4       2.13  12200  1.033576  0.136659 -0.225721 -0.847063 -0.193007   \n",
       "\n",
       "   labelfor_cluster              country  \n",
       "0               0.0          Afghanistan  \n",
       "1               1.0              Albania  \n",
       "2               1.0              Algeria  \n",
       "3               0.0               Angola  \n",
       "4               1.0  Antigua and Barbuda  "
      ]
     },
     "execution_count": 59,
     "metadata": {},
     "output_type": "execute_result"
    }
   ],
   "source": [
    "# Concate previous dataframe in order to perform further analysis\n",
    "\n",
    "main_df = pd.concat([country_data,PC_df_2], axis=1)\n",
    "main_df = pd.concat([main_df,y], axis=1)\n",
    "main_df.head()"
   ]
  },
  {
   "cell_type": "code",
   "execution_count": 60,
   "metadata": {},
   "outputs": [
    {
     "data": {
      "text/plain": [
       "<matplotlib.axes._subplots.AxesSubplot at 0x1e862cce5f8>"
      ]
     },
     "execution_count": 60,
     "metadata": {},
     "output_type": "execute_result"
    },
    {
     "data": {
      "image/png": "[encoded data removed]",
      "text/plain": [
       "<Figure size 432x288 with 1 Axes>"
      ]
     },
     "metadata": {
      "needs_background": "light"
     },
     "output_type": "display_data"
    }
   ],
   "source": [
    "# scatter plot Income v/s GDP \n",
    "# In this graph we are taking hue of 'labelfor_cluster'\n",
    "sns.scatterplot(x='income',y='gdpp',hue='labelfor_cluster',legend='full',data=main_df)"
   ]
  },
  {
   "cell_type": "markdown",
   "metadata": {},
   "source": [
    "###### By observing the above graph we observe that the income & GDP of people are  very positively coorelated variables \n",
    "##### This the very common relationship as GDP of  country is high then  income of people of  country will also high."
   ]
  },
  {
   "cell_type": "code",
   "execution_count": 61,
   "metadata": {},
   "outputs": [
    {
     "data": {
      "text/plain": [
       "<matplotlib.axes._subplots.AxesSubplot at 0x1e864c722b0>"
      ]
     },
     "execution_count": 61,
     "metadata": {},
     "output_type": "execute_result"
    },
    {
     "data": {
      "image/png": "[encoded data removed]",
      "text/plain": [
       "<Figure size 432x288 with 1 Axes>"
      ]
     },
     "metadata": {
      "needs_background": "light"
     },
     "output_type": "display_data"
    }
   ],
   "source": [
    "# scatter income v/s child mortality\n",
    "# In this graph we are taking hue of 'labelfor_cluster'\n",
    "\n",
    "sns.scatterplot(x='income',y='child_mort',hue='labelfor_cluster',legend='full',data=main_df)"
   ]
  },
  {
   "cell_type": "markdown",
   "metadata": {},
   "source": [
    "###### By observing the above graph we observe that the income & childmortality are  not positively coorelated variables. \n",
    "\n",
    "##### In this the childmortality is low in a country then  income of people of  country will  high and vice versa."
   ]
  },
  {
   "cell_type": "code",
   "execution_count": 62,
   "metadata": {},
   "outputs": [
    {
     "data": {
      "text/plain": [
       "<matplotlib.axes._subplots.AxesSubplot at 0x1e8625cea20>"
      ]
     },
     "execution_count": 62,
     "metadata": {},
     "output_type": "execute_result"
    },
    {
     "data": {
      "image/png": "[encoded data removed]",
      "text/plain": [
       "<Figure size 432x288 with 1 Axes>"
      ]
     },
     "metadata": {
      "needs_background": "light"
     },
     "output_type": "display_data"
    }
   ],
   "source": [
    "# scatter income v/s life_expec\n",
    "# In this graph we are taking hue of 'labelfor_cluster'\n",
    "\n",
    "sns.scatterplot(x='income',y='life_expec',hue='labelfor_cluster',legend='full',data=main_df)"
   ]
  },
  {
   "cell_type": "markdown",
   "metadata": {},
   "source": [
    "###### By observing the above graph we observe the relation among the income &  life expentacy variables. \n",
    "##### as the income is low then the life expentacy is relatively low but when we increase the income from about 10000 then life expetecy will increase significantly and become constant as the income increases."
   ]
  },
  {
   "cell_type": "code",
   "execution_count": 63,
   "metadata": {},
   "outputs": [
    {
     "data": {
      "text/plain": [
       "<matplotlib.axes._subplots.AxesSubplot at 0x1e864ce5e80>"
      ]
     },
     "execution_count": 63,
     "metadata": {},
     "output_type": "execute_result"
    },
    {
     "data": {
      "image/png": "[encoded data removed]",
      "text/plain": [
       "<Figure size 432x288 with 1 Axes>"
      ]
     },
     "metadata": {
      "needs_background": "light"
     },
     "output_type": "display_data"
    }
   ],
   "source": [
    "# scatter income v/s total_fer\n",
    "# In this graph we are taking hue of 'labelfor_cluster'\n",
    "\n",
    "sns.scatterplot(x='income',y='total_fer',hue='labelfor_cluster',legend='full',data=main_df)"
   ]
  },
  {
   "cell_type": "markdown",
   "metadata": {},
   "source": [
    "###### By observing the above graph we observe that the income & total fertility are  not positively coorelated variables. \n",
    "##### In this the totalfertility is low in a country then income of people of  country will  high and vice versa.\n"
   ]
  },
  {
   "cell_type": "markdown",
   "metadata": {},
   "source": [
    "## Here we will use \"main_df\" dataframe which is obtain after further processing of the dataframe obtained after performing Hierarchical clustering."
   ]
  },
  {
   "cell_type": "code",
   "execution_count": 64,
   "metadata": {
    "scrolled": true
   },
   "outputs": [
    {
     "data": {
      "text/plain": [
       "<matplotlib.axes._subplots.AxesSubplot at 0x1e864cdae80>"
      ]
     },
     "execution_count": 64,
     "metadata": {},
     "output_type": "execute_result"
    },
    {
     "data": {
      "image/png": "[encoded data removed]",
      "text/plain": [
       "<Figure size 720x288 with 1 Axes>"
      ]
     },
     "metadata": {
      "needs_background": "light"
     },
     "output_type": "display_data"
    }
   ],
   "source": [
    "# boxplot for analysisng the income & clusters \n",
    "# based on Hierarchical clustering\n",
    "\n",
    "fig = plt.figure(figsize = (10,4))\n",
    "sns.boxplot(x='labelfor_cluster', y='income', data=main_df)"
   ]
  },
  {
   "cell_type": "markdown",
   "metadata": {},
   "source": [
    "#### according to the box plot the avg income for label cluster-2 is comparitively more than other clusters"
   ]
  },
  {
   "cell_type": "code",
   "execution_count": 65,
   "metadata": {},
   "outputs": [
    {
     "data": {
      "text/plain": [
       "<matplotlib.axes._subplots.AxesSubplot at 0x1e864fb5550>"
      ]
     },
     "execution_count": 65,
     "metadata": {},
     "output_type": "execute_result"
    },
    {
     "data": {
      "image/png": "[encoded data removed]",
      "text/plain": [
       "<Figure size 720x288 with 1 Axes>"
      ]
     },
     "metadata": {
      "needs_background": "light"
     },
     "output_type": "display_data"
    }
   ],
   "source": [
    "# boxplot for analysisng the childmortality & clusters \n",
    "# based on Hierarchical clustering\n",
    "fig = plt.figure(figsize = (10,4))\n",
    "sns.boxplot(x='labelfor_cluster', y='child_mort', data=main_df)"
   ]
  },
  {
   "cell_type": "markdown",
   "metadata": {},
   "source": [
    "#### according to the box plot the avg child mortality for label cluster-0 is comparitively more than other clusters"
   ]
  },
  {
   "cell_type": "code",
   "execution_count": 66,
   "metadata": {},
   "outputs": [
    {
     "data": {
      "text/plain": [
       "<matplotlib.axes._subplots.AxesSubplot at 0x1e862ccb0f0>"
      ]
     },
     "execution_count": 66,
     "metadata": {},
     "output_type": "execute_result"
    },
    {
     "data": {
      "image/png": "[encoded data removed]",
      "text/plain": [
       "<Figure size 720x288 with 1 Axes>"
      ]
     },
     "metadata": {
      "needs_background": "light"
     },
     "output_type": "display_data"
    }
   ],
   "source": [
    "# boxplot for analysisng the gdp & clusters \n",
    "# based on Hierarchical clustering\n",
    "\n",
    "fig = plt.figure(figsize = (10,4))\n",
    "sns.boxplot(x='labelfor_cluster', y='gdpp', data=main_df)"
   ]
  },
  {
   "cell_type": "markdown",
   "metadata": {},
   "source": [
    "#### according to the box plot the avg gdp for label cluster-2 is comparitively more than other clusters"
   ]
  },
  {
   "cell_type": "code",
   "execution_count": 67,
   "metadata": {},
   "outputs": [
    {
     "data": {
      "text/plain": [
       "<matplotlib.axes._subplots.AxesSubplot at 0x1e8650a7518>"
      ]
     },
     "execution_count": 67,
     "metadata": {},
     "output_type": "execute_result"
    },
    {
     "data": {
      "image/png": "[encoded data removed]",
      "text/plain": [
       "<Figure size 720x288 with 1 Axes>"
      ]
     },
     "metadata": {
      "needs_background": "light"
     },
     "output_type": "display_data"
    }
   ],
   "source": [
    "# boxplot for analysisng the health & clusters \n",
    "# based on Hierarchical clustering\n",
    "\n",
    "fig = plt.figure(figsize = (10,4))\n",
    "sns.boxplot(x='labelfor_cluster', y='health', data=main_df)"
   ]
  },
  {
   "cell_type": "markdown",
   "metadata": {},
   "source": [
    "#### according to the box plot the avg health for label cluster-2 is comparitively more than other clusters"
   ]
  },
  {
   "cell_type": "code",
   "execution_count": 68,
   "metadata": {},
   "outputs": [
    {
     "data": {
      "text/plain": [
       "<matplotlib.axes._subplots.AxesSubplot at 0x1e8623eb080>"
      ]
     },
     "execution_count": 68,
     "metadata": {},
     "output_type": "execute_result"
    },
    {
     "data": {
      "image/png": "[encoded data removed]",
      "text/plain": [
       "<Figure size 720x288 with 1 Axes>"
      ]
     },
     "metadata": {
      "needs_background": "light"
     },
     "output_type": "display_data"
    }
   ],
   "source": [
    "# boxplot for analysisng the imports & clusters \n",
    "# based on Hierarchical clustering\n",
    "\n",
    "fig = plt.figure(figsize = (10,4))\n",
    "sns.boxplot(x='labelfor_cluster', y='imports', data=main_df)"
   ]
  },
  {
   "cell_type": "markdown",
   "metadata": {},
   "source": [
    "#### according to the box plot the avg imports for all label clusters is comparitively same but for label cluster-1 the over all imports are more due to present of outliers. "
   ]
  },
  {
   "cell_type": "markdown",
   "metadata": {},
   "source": [
    "## Here we will use \"PC_df_KM\" dataframe which is obtain after further processing of the dataframe obtained after performing KMeans clustering."
   ]
  },
  {
   "cell_type": "code",
   "execution_count": 69,
   "metadata": {},
   "outputs": [
    {
     "data": {
      "text/html": [
       "<div>\n",
       "<style scoped>\n",
       "    .dataframe tbody tr th:only-of-type {\n",
       "        vertical-align: middle;\n",
       "    }\n",
       "\n",
       "    .dataframe tbody tr th {\n",
       "        vertical-align: top;\n",
       "    }\n",
       "\n",
       "    .dataframe thead th {\n",
       "        text-align: right;\n",
       "    }\n",
       "</style>\n",
       "<table border=\"1\" class=\"dataframe\">\n",
       "  <thead>\n",
       "    <tr style=\"text-align: right;\">\n",
       "      <th></th>\n",
       "      <th>PC1</th>\n",
       "      <th>PC2</th>\n",
       "      <th>PC3</th>\n",
       "      <th>PC4</th>\n",
       "      <th>PC5</th>\n",
       "      <th>Clusters</th>\n",
       "      <th>country</th>\n",
       "      <th>child_mort</th>\n",
       "      <th>exports</th>\n",
       "      <th>health</th>\n",
       "      <th>imports</th>\n",
       "      <th>income</th>\n",
       "      <th>inflation</th>\n",
       "      <th>life_expec</th>\n",
       "      <th>total_fer</th>\n",
       "      <th>gdpp</th>\n",
       "    </tr>\n",
       "  </thead>\n",
       "  <tbody>\n",
       "    <tr>\n",
       "      <th>0</th>\n",
       "      <td>-2.913025</td>\n",
       "      <td>0.095621</td>\n",
       "      <td>-0.718118</td>\n",
       "      <td>1.005255</td>\n",
       "      <td>-0.158310</td>\n",
       "      <td>0.0</td>\n",
       "      <td>Afghanistan</td>\n",
       "      <td>90.2</td>\n",
       "      <td>10.0</td>\n",
       "      <td>7.58</td>\n",
       "      <td>44.9</td>\n",
       "      <td>1610</td>\n",
       "      <td>9.44</td>\n",
       "      <td>56.2</td>\n",
       "      <td>5.82</td>\n",
       "      <td>553</td>\n",
       "    </tr>\n",
       "    <tr>\n",
       "      <th>1</th>\n",
       "      <td>0.429911</td>\n",
       "      <td>-0.588156</td>\n",
       "      <td>-0.333486</td>\n",
       "      <td>-1.161059</td>\n",
       "      <td>0.174677</td>\n",
       "      <td>1.0</td>\n",
       "      <td>Albania</td>\n",
       "      <td>16.6</td>\n",
       "      <td>28.0</td>\n",
       "      <td>6.55</td>\n",
       "      <td>48.6</td>\n",
       "      <td>9930</td>\n",
       "      <td>4.49</td>\n",
       "      <td>76.3</td>\n",
       "      <td>1.65</td>\n",
       "      <td>4090</td>\n",
       "    </tr>\n",
       "    <tr>\n",
       "      <th>2</th>\n",
       "      <td>-0.285225</td>\n",
       "      <td>-0.455174</td>\n",
       "      <td>1.221505</td>\n",
       "      <td>-0.868115</td>\n",
       "      <td>0.156475</td>\n",
       "      <td>1.0</td>\n",
       "      <td>Algeria</td>\n",
       "      <td>27.3</td>\n",
       "      <td>38.4</td>\n",
       "      <td>4.17</td>\n",
       "      <td>31.4</td>\n",
       "      <td>12900</td>\n",
       "      <td>16.10</td>\n",
       "      <td>76.5</td>\n",
       "      <td>2.89</td>\n",
       "      <td>4460</td>\n",
       "    </tr>\n",
       "    <tr>\n",
       "      <th>3</th>\n",
       "      <td>-2.932423</td>\n",
       "      <td>1.695555</td>\n",
       "      <td>1.525044</td>\n",
       "      <td>0.839625</td>\n",
       "      <td>-0.273209</td>\n",
       "      <td>0.0</td>\n",
       "      <td>Angola</td>\n",
       "      <td>119.0</td>\n",
       "      <td>62.3</td>\n",
       "      <td>2.85</td>\n",
       "      <td>42.9</td>\n",
       "      <td>5900</td>\n",
       "      <td>22.40</td>\n",
       "      <td>60.1</td>\n",
       "      <td>6.16</td>\n",
       "      <td>3530</td>\n",
       "    </tr>\n",
       "    <tr>\n",
       "      <th>4</th>\n",
       "      <td>1.033576</td>\n",
       "      <td>0.136659</td>\n",
       "      <td>-0.225721</td>\n",
       "      <td>-0.847063</td>\n",
       "      <td>-0.193007</td>\n",
       "      <td>1.0</td>\n",
       "      <td>Antigua and Barbuda</td>\n",
       "      <td>10.3</td>\n",
       "      <td>45.5</td>\n",
       "      <td>6.03</td>\n",
       "      <td>58.9</td>\n",
       "      <td>19100</td>\n",
       "      <td>1.44</td>\n",
       "      <td>76.8</td>\n",
       "      <td>2.13</td>\n",
       "      <td>12200</td>\n",
       "    </tr>\n",
       "  </tbody>\n",
       "</table>\n",
       "</div>"
      ],
      "text/plain": [
       "        PC1       PC2       PC3       PC4       PC5  Clusters  \\\n",
       "0 -2.913025  0.095621 -0.718118  1.005255 -0.158310       0.0   \n",
       "1  0.429911 -0.588156 -0.333486 -1.161059  0.174677       1.0   \n",
       "2 -0.285225 -0.455174  1.221505 -0.868115  0.156475       1.0   \n",
       "3 -2.932423  1.695555  1.525044  0.839625 -0.273209       0.0   \n",
       "4  1.033576  0.136659 -0.225721 -0.847063 -0.193007       1.0   \n",
       "\n",
       "               country  child_mort  exports  health  imports  income  \\\n",
       "0          Afghanistan        90.2     10.0    7.58     44.9    1610   \n",
       "1              Albania        16.6     28.0    6.55     48.6    9930   \n",
       "2              Algeria        27.3     38.4    4.17     31.4   12900   \n",
       "3               Angola       119.0     62.3    2.85     42.9    5900   \n",
       "4  Antigua and Barbuda        10.3     45.5    6.03     58.9   19100   \n",
       "\n",
       "   inflation  life_expec  total_fer   gdpp  \n",
       "0       9.44        56.2       5.82    553  \n",
       "1       4.49        76.3       1.65   4090  \n",
       "2      16.10        76.5       2.89   4460  \n",
       "3      22.40        60.1       6.16   3530  \n",
       "4       1.44        76.8       2.13  12200  "
      ]
     },
     "execution_count": 69,
     "metadata": {},
     "output_type": "execute_result"
    }
   ],
   "source": [
    "# creating combine data frame using country df concatinating with df obtain after doing kmean clustring.\n",
    "km_df_country = pd.concat([PC_df_KM,y], axis=1)\n",
    "\n",
    "# creating combine data frame using km_df_country dataframe and restof the datframe\n",
    "km_df_country = pd.concat([km_df_country, country_data], axis = 1)\n",
    "km_df_country.head()"
   ]
  },
  {
   "cell_type": "code",
   "execution_count": 70,
   "metadata": {},
   "outputs": [
    {
     "data": {
      "text/plain": [
       "<matplotlib.axes._subplots.AxesSubplot at 0x1e8651c7898>"
      ]
     },
     "execution_count": 70,
     "metadata": {},
     "output_type": "execute_result"
    },
    {
     "data": {
      "image/png": "[encoded data removed]",
      "text/plain": [
       "<Figure size 720x288 with 1 Axes>"
      ]
     },
     "metadata": {
      "needs_background": "light"
     },
     "output_type": "display_data"
    }
   ],
   "source": [
    "# boxplot for analysisng the child mortality & clusters \n",
    "# based on KMeanclustering\n",
    "fig = plt.figure(figsize = (10,4))\n",
    "sns.boxplot(x='Clusters',y='child_mort',data=km_df_country)"
   ]
  },
  {
   "cell_type": "markdown",
   "metadata": {},
   "source": [
    "#### according to the box plot the avg childmortality for cluster-0 is comparitively more than other clusters"
   ]
  },
  {
   "cell_type": "code",
   "execution_count": 71,
   "metadata": {},
   "outputs": [
    {
     "data": {
      "text/plain": [
       "<matplotlib.axes._subplots.AxesSubplot at 0x1e8650526a0>"
      ]
     },
     "execution_count": 71,
     "metadata": {},
     "output_type": "execute_result"
    },
    {
     "data": {
      "image/png": "[encoded data removed]",
      "text/plain": [
       "<Figure size 720x288 with 1 Axes>"
      ]
     },
     "metadata": {
      "needs_background": "light"
     },
     "output_type": "display_data"
    }
   ],
   "source": [
    "# boxplot for analysisng the gdp & clusters \n",
    "# based on KMeanclustering\n",
    "fig = plt.figure(figsize = (10,4))\n",
    "sns.boxplot(x='Clusters', y='gdpp', data=km_df_country)"
   ]
  },
  {
   "cell_type": "markdown",
   "metadata": {},
   "source": [
    "#### according to the box plot the avg gdp for cluster-2 is comparitively more than other clusters"
   ]
  },
  {
   "cell_type": "code",
   "execution_count": 72,
   "metadata": {},
   "outputs": [
    {
     "data": {
      "text/plain": [
       "<matplotlib.axes._subplots.AxesSubplot at 0x1e8652ce470>"
      ]
     },
     "execution_count": 72,
     "metadata": {},
     "output_type": "execute_result"
    },
    {
     "data": {
      "image/png": "[encoded data removed]",
      "text/plain": [
       "<Figure size 720x288 with 1 Axes>"
      ]
     },
     "metadata": {
      "needs_background": "light"
     },
     "output_type": "display_data"
    }
   ],
   "source": [
    "# boxplot for analysisng the imports & clusters \n",
    "# based on KMeanclustering\n",
    "\n",
    "fig = plt.figure(figsize = (10,4))\n",
    "sns.boxplot(x='Clusters', y='imports', data=km_df_country)"
   ]
  },
  {
   "cell_type": "markdown",
   "metadata": {
    "scrolled": true
   },
   "source": [
    "#### according to the box plot the avg imports for all clusters is comparitively same."
   ]
  },
  {
   "cell_type": "code",
   "execution_count": 73,
   "metadata": {},
   "outputs": [
    {
     "data": {
      "text/plain": [
       "<matplotlib.axes._subplots.AxesSubplot at 0x1e862b0ad30>"
      ]
     },
     "execution_count": 73,
     "metadata": {},
     "output_type": "execute_result"
    },
    {
     "data": {
      "image/png": "[encoded data removed]",
      "text/plain": [
       "<Figure size 720x288 with 1 Axes>"
      ]
     },
     "metadata": {
      "needs_background": "light"
     },
     "output_type": "display_data"
    }
   ],
   "source": [
    "# boxplot for analysisng the health & clusters \n",
    "# based on KMeanclustering\n",
    "\n",
    "fig = plt.figure(figsize = (10,4))\n",
    "sns.boxplot(x='Clusters', y='health', data=km_df_country)"
   ]
  },
  {
   "cell_type": "markdown",
   "metadata": {
    "scrolled": true
   },
   "source": [
    "#### according to the box plot the avg health for label cluster-1 is comparitively more than other clusters"
   ]
  },
  {
   "cell_type": "code",
   "execution_count": 74,
   "metadata": {
    "scrolled": true
   },
   "outputs": [
    {
     "data": {
      "text/html": [
       "<div>\n",
       "<style scoped>\n",
       "    .dataframe tbody tr th:only-of-type {\n",
       "        vertical-align: middle;\n",
       "    }\n",
       "\n",
       "    .dataframe tbody tr th {\n",
       "        vertical-align: top;\n",
       "    }\n",
       "\n",
       "    .dataframe thead th {\n",
       "        text-align: right;\n",
       "    }\n",
       "</style>\n",
       "<table border=\"1\" class=\"dataframe\">\n",
       "  <thead>\n",
       "    <tr style=\"text-align: right;\">\n",
       "      <th></th>\n",
       "      <th>child_mort</th>\n",
       "      <th>exports</th>\n",
       "      <th>health</th>\n",
       "      <th>imports</th>\n",
       "      <th>income</th>\n",
       "      <th>inflation</th>\n",
       "      <th>life_expec</th>\n",
       "      <th>total_fer</th>\n",
       "      <th>gdpp</th>\n",
       "      <th>PC1</th>\n",
       "      <th>PC2</th>\n",
       "      <th>PC3</th>\n",
       "      <th>PC4</th>\n",
       "      <th>PC5</th>\n",
       "      <th>labelfor_cluster</th>\n",
       "      <th>country</th>\n",
       "    </tr>\n",
       "  </thead>\n",
       "  <tbody>\n",
       "    <tr>\n",
       "      <th>0</th>\n",
       "      <td>90.2</td>\n",
       "      <td>10.0</td>\n",
       "      <td>7.58</td>\n",
       "      <td>44.9</td>\n",
       "      <td>1610</td>\n",
       "      <td>9.440</td>\n",
       "      <td>56.2</td>\n",
       "      <td>5.82</td>\n",
       "      <td>553</td>\n",
       "      <td>-2.913025</td>\n",
       "      <td>0.095621</td>\n",
       "      <td>-0.718118</td>\n",
       "      <td>1.005255</td>\n",
       "      <td>-0.158310</td>\n",
       "      <td>0.0</td>\n",
       "      <td>Afghanistan</td>\n",
       "    </tr>\n",
       "    <tr>\n",
       "      <th>3</th>\n",
       "      <td>119.0</td>\n",
       "      <td>62.3</td>\n",
       "      <td>2.85</td>\n",
       "      <td>42.9</td>\n",
       "      <td>5900</td>\n",
       "      <td>22.400</td>\n",
       "      <td>60.1</td>\n",
       "      <td>6.16</td>\n",
       "      <td>3530</td>\n",
       "      <td>-2.932423</td>\n",
       "      <td>1.695555</td>\n",
       "      <td>1.525044</td>\n",
       "      <td>0.839625</td>\n",
       "      <td>-0.273209</td>\n",
       "      <td>0.0</td>\n",
       "      <td>Angola</td>\n",
       "    </tr>\n",
       "    <tr>\n",
       "      <th>17</th>\n",
       "      <td>111.0</td>\n",
       "      <td>23.8</td>\n",
       "      <td>4.10</td>\n",
       "      <td>37.2</td>\n",
       "      <td>1820</td>\n",
       "      <td>0.885</td>\n",
       "      <td>61.8</td>\n",
       "      <td>5.36</td>\n",
       "      <td>758</td>\n",
       "      <td>-2.672314</td>\n",
       "      <td>0.418172</td>\n",
       "      <td>-0.257368</td>\n",
       "      <td>0.278672</td>\n",
       "      <td>-1.431768</td>\n",
       "      <td>0.0</td>\n",
       "      <td>Benin</td>\n",
       "    </tr>\n",
       "    <tr>\n",
       "      <th>24</th>\n",
       "      <td>10.8</td>\n",
       "      <td>50.2</td>\n",
       "      <td>6.87</td>\n",
       "      <td>53.0</td>\n",
       "      <td>15300</td>\n",
       "      <td>1.110</td>\n",
       "      <td>73.9</td>\n",
       "      <td>1.57</td>\n",
       "      <td>6840</td>\n",
       "      <td>-3.122053</td>\n",
       "      <td>0.038775</td>\n",
       "      <td>-0.455751</td>\n",
       "      <td>1.080918</td>\n",
       "      <td>-0.728128</td>\n",
       "      <td>0.0</td>\n",
       "      <td>Bulgaria</td>\n",
       "    </tr>\n",
       "    <tr>\n",
       "      <th>25</th>\n",
       "      <td>116.0</td>\n",
       "      <td>19.2</td>\n",
       "      <td>6.74</td>\n",
       "      <td>29.6</td>\n",
       "      <td>1430</td>\n",
       "      <td>6.810</td>\n",
       "      <td>57.9</td>\n",
       "      <td>5.87</td>\n",
       "      <td>575</td>\n",
       "      <td>-2.898971</td>\n",
       "      <td>-0.422663</td>\n",
       "      <td>-1.347413</td>\n",
       "      <td>1.821474</td>\n",
       "      <td>0.712117</td>\n",
       "      <td>0.0</td>\n",
       "      <td>Burkina Faso</td>\n",
       "    </tr>\n",
       "    <tr>\n",
       "      <th>27</th>\n",
       "      <td>44.4</td>\n",
       "      <td>54.1</td>\n",
       "      <td>5.68</td>\n",
       "      <td>59.5</td>\n",
       "      <td>2520</td>\n",
       "      <td>3.120</td>\n",
       "      <td>66.1</td>\n",
       "      <td>2.88</td>\n",
       "      <td>786</td>\n",
       "      <td>-2.807909</td>\n",
       "      <td>0.078649</td>\n",
       "      <td>-0.342961</td>\n",
       "      <td>0.543557</td>\n",
       "      <td>-1.314868</td>\n",
       "      <td>0.0</td>\n",
       "      <td>Cambodia</td>\n",
       "    </tr>\n",
       "    <tr>\n",
       "      <th>30</th>\n",
       "      <td>26.5</td>\n",
       "      <td>32.7</td>\n",
       "      <td>4.09</td>\n",
       "      <td>61.8</td>\n",
       "      <td>5830</td>\n",
       "      <td>0.505</td>\n",
       "      <td>72.5</td>\n",
       "      <td>2.67</td>\n",
       "      <td>3310</td>\n",
       "      <td>-3.964964</td>\n",
       "      <td>0.386619</td>\n",
       "      <td>-0.323557</td>\n",
       "      <td>0.918301</td>\n",
       "      <td>-1.822389</td>\n",
       "      <td>0.0</td>\n",
       "      <td>Cape Verde</td>\n",
       "    </tr>\n",
       "    <tr>\n",
       "      <th>31</th>\n",
       "      <td>149.0</td>\n",
       "      <td>11.8</td>\n",
       "      <td>3.98</td>\n",
       "      <td>26.5</td>\n",
       "      <td>888</td>\n",
       "      <td>2.010</td>\n",
       "      <td>47.5</td>\n",
       "      <td>5.21</td>\n",
       "      <td>446</td>\n",
       "      <td>-3.557555</td>\n",
       "      <td>1.289128</td>\n",
       "      <td>-0.103015</td>\n",
       "      <td>1.208406</td>\n",
       "      <td>-1.224562</td>\n",
       "      <td>0.0</td>\n",
       "      <td>Central African Republic</td>\n",
       "    </tr>\n",
       "    <tr>\n",
       "      <th>35</th>\n",
       "      <td>18.6</td>\n",
       "      <td>15.9</td>\n",
       "      <td>7.59</td>\n",
       "      <td>17.8</td>\n",
       "      <td>10900</td>\n",
       "      <td>3.860</td>\n",
       "      <td>76.4</td>\n",
       "      <td>2.01</td>\n",
       "      <td>6250</td>\n",
       "      <td>-2.093556</td>\n",
       "      <td>0.343601</td>\n",
       "      <td>-0.328381</td>\n",
       "      <td>-0.118947</td>\n",
       "      <td>-0.808030</td>\n",
       "      <td>0.0</td>\n",
       "      <td>Colombia</td>\n",
       "    </tr>\n",
       "    <tr>\n",
       "      <th>36</th>\n",
       "      <td>88.2</td>\n",
       "      <td>16.5</td>\n",
       "      <td>4.51</td>\n",
       "      <td>51.7</td>\n",
       "      <td>1410</td>\n",
       "      <td>3.870</td>\n",
       "      <td>65.9</td>\n",
       "      <td>4.75</td>\n",
       "      <td>769</td>\n",
       "      <td>-3.173370</td>\n",
       "      <td>1.050382</td>\n",
       "      <td>-0.001219</td>\n",
       "      <td>1.574210</td>\n",
       "      <td>0.647909</td>\n",
       "      <td>0.0</td>\n",
       "      <td>Comoros</td>\n",
       "    </tr>\n",
       "    <tr>\n",
       "      <th>38</th>\n",
       "      <td>63.9</td>\n",
       "      <td>85.1</td>\n",
       "      <td>2.46</td>\n",
       "      <td>54.7</td>\n",
       "      <td>5190</td>\n",
       "      <td>20.700</td>\n",
       "      <td>60.4</td>\n",
       "      <td>4.95</td>\n",
       "      <td>2740</td>\n",
       "      <td>-2.581706</td>\n",
       "      <td>1.207873</td>\n",
       "      <td>-0.233066</td>\n",
       "      <td>0.665293</td>\n",
       "      <td>-0.852981</td>\n",
       "      <td>0.0</td>\n",
       "      <td>Congo, Rep.</td>\n",
       "    </tr>\n",
       "    <tr>\n",
       "      <th>53</th>\n",
       "      <td>3.0</td>\n",
       "      <td>38.7</td>\n",
       "      <td>8.95</td>\n",
       "      <td>37.4</td>\n",
       "      <td>39800</td>\n",
       "      <td>0.351</td>\n",
       "      <td>80.0</td>\n",
       "      <td>1.87</td>\n",
       "      <td>46200</td>\n",
       "      <td>-2.213670</td>\n",
       "      <td>0.223496</td>\n",
       "      <td>-0.393111</td>\n",
       "      <td>0.289914</td>\n",
       "      <td>-0.694393</td>\n",
       "      <td>0.0</td>\n",
       "      <td>Finland</td>\n",
       "    </tr>\n",
       "    <tr>\n",
       "      <th>59</th>\n",
       "      <td>74.7</td>\n",
       "      <td>29.5</td>\n",
       "      <td>5.22</td>\n",
       "      <td>45.9</td>\n",
       "      <td>3060</td>\n",
       "      <td>16.600</td>\n",
       "      <td>62.2</td>\n",
       "      <td>4.27</td>\n",
       "      <td>1310</td>\n",
       "      <td>-2.969529</td>\n",
       "      <td>0.728534</td>\n",
       "      <td>0.391039</td>\n",
       "      <td>0.666549</td>\n",
       "      <td>-0.192543</td>\n",
       "      <td>0.0</td>\n",
       "      <td>Ghana</td>\n",
       "    </tr>\n",
       "    <tr>\n",
       "      <th>60</th>\n",
       "      <td>3.9</td>\n",
       "      <td>22.1</td>\n",
       "      <td>10.30</td>\n",
       "      <td>30.7</td>\n",
       "      <td>28700</td>\n",
       "      <td>0.673</td>\n",
       "      <td>80.4</td>\n",
       "      <td>1.48</td>\n",
       "      <td>26900</td>\n",
       "      <td>-2.833616</td>\n",
       "      <td>-0.091128</td>\n",
       "      <td>-1.205174</td>\n",
       "      <td>1.133045</td>\n",
       "      <td>-0.550904</td>\n",
       "      <td>0.0</td>\n",
       "      <td>Greece</td>\n",
       "    </tr>\n",
       "    <tr>\n",
       "      <th>74</th>\n",
       "      <td>4.6</td>\n",
       "      <td>35.0</td>\n",
       "      <td>7.63</td>\n",
       "      <td>32.9</td>\n",
       "      <td>29600</td>\n",
       "      <td>1.770</td>\n",
       "      <td>81.4</td>\n",
       "      <td>3.03</td>\n",
       "      <td>30600</td>\n",
       "      <td>-1.874702</td>\n",
       "      <td>-0.171030</td>\n",
       "      <td>-0.249557</td>\n",
       "      <td>-0.285555</td>\n",
       "      <td>-0.976253</td>\n",
       "      <td>0.0</td>\n",
       "      <td>Israel</td>\n",
       "    </tr>\n",
       "    <tr>\n",
       "      <th>75</th>\n",
       "      <td>4.0</td>\n",
       "      <td>25.2</td>\n",
       "      <td>9.53</td>\n",
       "      <td>27.2</td>\n",
       "      <td>36200</td>\n",
       "      <td>0.319</td>\n",
       "      <td>81.7</td>\n",
       "      <td>1.46</td>\n",
       "      <td>35800</td>\n",
       "      <td>-1.239217</td>\n",
       "      <td>0.369138</td>\n",
       "      <td>-2.368274</td>\n",
       "      <td>0.592231</td>\n",
       "      <td>0.722521</td>\n",
       "      <td>0.0</td>\n",
       "      <td>Italy</td>\n",
       "    </tr>\n",
       "    <tr>\n",
       "      <th>80</th>\n",
       "      <td>62.2</td>\n",
       "      <td>20.7</td>\n",
       "      <td>4.75</td>\n",
       "      <td>33.6</td>\n",
       "      <td>2480</td>\n",
       "      <td>2.090</td>\n",
       "      <td>62.8</td>\n",
       "      <td>4.37</td>\n",
       "      <td>967</td>\n",
       "      <td>-1.773580</td>\n",
       "      <td>1.053399</td>\n",
       "      <td>-2.390440</td>\n",
       "      <td>1.179569</td>\n",
       "      <td>1.040022</td>\n",
       "      <td>0.0</td>\n",
       "      <td>Kenya</td>\n",
       "    </tr>\n",
       "    <tr>\n",
       "      <th>85</th>\n",
       "      <td>7.8</td>\n",
       "      <td>53.7</td>\n",
       "      <td>6.68</td>\n",
       "      <td>55.1</td>\n",
       "      <td>18300</td>\n",
       "      <td>-0.812</td>\n",
       "      <td>73.1</td>\n",
       "      <td>1.36</td>\n",
       "      <td>11300</td>\n",
       "      <td>-2.979885</td>\n",
       "      <td>0.216622</td>\n",
       "      <td>-0.204596</td>\n",
       "      <td>0.839108</td>\n",
       "      <td>-0.228962</td>\n",
       "      <td>0.0</td>\n",
       "      <td>Latvia</td>\n",
       "    </tr>\n",
       "    <tr>\n",
       "      <th>88</th>\n",
       "      <td>89.3</td>\n",
       "      <td>19.1</td>\n",
       "      <td>11.80</td>\n",
       "      <td>92.6</td>\n",
       "      <td>700</td>\n",
       "      <td>5.470</td>\n",
       "      <td>60.8</td>\n",
       "      <td>5.02</td>\n",
       "      <td>327</td>\n",
       "      <td>-3.412255</td>\n",
       "      <td>0.561469</td>\n",
       "      <td>-0.248615</td>\n",
       "      <td>1.073364</td>\n",
       "      <td>-1.297386</td>\n",
       "      <td>0.0</td>\n",
       "      <td>Liberia</td>\n",
       "    </tr>\n",
       "    <tr>\n",
       "      <th>89</th>\n",
       "      <td>16.6</td>\n",
       "      <td>65.6</td>\n",
       "      <td>3.88</td>\n",
       "      <td>42.1</td>\n",
       "      <td>29600</td>\n",
       "      <td>14.200</td>\n",
       "      <td>76.1</td>\n",
       "      <td>2.41</td>\n",
       "      <td>12100</td>\n",
       "      <td>-1.953927</td>\n",
       "      <td>1.383385</td>\n",
       "      <td>0.731462</td>\n",
       "      <td>0.195413</td>\n",
       "      <td>0.305152</td>\n",
       "      <td>0.0</td>\n",
       "      <td>Libya</td>\n",
       "    </tr>\n",
       "    <tr>\n",
       "      <th>93</th>\n",
       "      <td>62.2</td>\n",
       "      <td>25.0</td>\n",
       "      <td>3.77</td>\n",
       "      <td>43.0</td>\n",
       "      <td>1390</td>\n",
       "      <td>8.790</td>\n",
       "      <td>60.8</td>\n",
       "      <td>4.60</td>\n",
       "      <td>413</td>\n",
       "      <td>-2.920541</td>\n",
       "      <td>0.893270</td>\n",
       "      <td>-0.258704</td>\n",
       "      <td>0.633835</td>\n",
       "      <td>-0.702221</td>\n",
       "      <td>0.0</td>\n",
       "      <td>Madagascar</td>\n",
       "    </tr>\n",
       "    <tr>\n",
       "      <th>99</th>\n",
       "      <td>97.4</td>\n",
       "      <td>50.7</td>\n",
       "      <td>4.41</td>\n",
       "      <td>61.2</td>\n",
       "      <td>3320</td>\n",
       "      <td>18.900</td>\n",
       "      <td>68.2</td>\n",
       "      <td>4.98</td>\n",
       "      <td>1200</td>\n",
       "      <td>-3.450168</td>\n",
       "      <td>0.969922</td>\n",
       "      <td>-0.581452</td>\n",
       "      <td>1.126581</td>\n",
       "      <td>-1.256756</td>\n",
       "      <td>0.0</td>\n",
       "      <td>Mauritania</td>\n",
       "    </tr>\n",
       "    <tr>\n",
       "      <th>110</th>\n",
       "      <td>4.5</td>\n",
       "      <td>72.0</td>\n",
       "      <td>11.90</td>\n",
       "      <td>63.6</td>\n",
       "      <td>45500</td>\n",
       "      <td>0.848</td>\n",
       "      <td>80.7</td>\n",
       "      <td>1.79</td>\n",
       "      <td>50300</td>\n",
       "      <td>-1.679704</td>\n",
       "      <td>-1.001629</td>\n",
       "      <td>-1.468436</td>\n",
       "      <td>0.673221</td>\n",
       "      <td>0.112242</td>\n",
       "      <td>0.0</td>\n",
       "      <td>Netherlands</td>\n",
       "    </tr>\n",
       "    <tr>\n",
       "      <th>112</th>\n",
       "      <td>123.0</td>\n",
       "      <td>22.2</td>\n",
       "      <td>5.16</td>\n",
       "      <td>49.1</td>\n",
       "      <td>814</td>\n",
       "      <td>2.550</td>\n",
       "      <td>58.8</td>\n",
       "      <td>7.49</td>\n",
       "      <td>348</td>\n",
       "      <td>-1.912170</td>\n",
       "      <td>0.091560</td>\n",
       "      <td>-0.506959</td>\n",
       "      <td>0.027625</td>\n",
       "      <td>-0.803655</td>\n",
       "      <td>0.0</td>\n",
       "      <td>Niger</td>\n",
       "    </tr>\n",
       "    <tr>\n",
       "      <th>117</th>\n",
       "      <td>19.7</td>\n",
       "      <td>70.0</td>\n",
       "      <td>8.10</td>\n",
       "      <td>78.2</td>\n",
       "      <td>15400</td>\n",
       "      <td>2.590</td>\n",
       "      <td>77.8</td>\n",
       "      <td>2.62</td>\n",
       "      <td>8080</td>\n",
       "      <td>-1.191837</td>\n",
       "      <td>-0.556757</td>\n",
       "      <td>-0.717966</td>\n",
       "      <td>0.550206</td>\n",
       "      <td>-0.036871</td>\n",
       "      <td>0.0</td>\n",
       "      <td>Panama</td>\n",
       "    </tr>\n",
       "    <tr>\n",
       "      <th>127</th>\n",
       "      <td>18.9</td>\n",
       "      <td>29.2</td>\n",
       "      <td>6.47</td>\n",
       "      <td>53.1</td>\n",
       "      <td>5400</td>\n",
       "      <td>1.720</td>\n",
       "      <td>71.5</td>\n",
       "      <td>4.34</td>\n",
       "      <td>3450</td>\n",
       "      <td>-2.554049</td>\n",
       "      <td>-0.215028</td>\n",
       "      <td>-0.088490</td>\n",
       "      <td>0.462226</td>\n",
       "      <td>-0.474937</td>\n",
       "      <td>0.0</td>\n",
       "      <td>Samoa</td>\n",
       "    </tr>\n",
       "    <tr>\n",
       "      <th>129</th>\n",
       "      <td>66.8</td>\n",
       "      <td>24.9</td>\n",
       "      <td>5.66</td>\n",
       "      <td>40.3</td>\n",
       "      <td>2180</td>\n",
       "      <td>1.850</td>\n",
       "      <td>64.0</td>\n",
       "      <td>5.06</td>\n",
       "      <td>1000</td>\n",
       "      <td>-1.997642</td>\n",
       "      <td>0.958362</td>\n",
       "      <td>-1.218037</td>\n",
       "      <td>0.560917</td>\n",
       "      <td>-0.389474</td>\n",
       "      <td>0.0</td>\n",
       "      <td>Senegal</td>\n",
       "    </tr>\n",
       "    <tr>\n",
       "      <th>134</th>\n",
       "      <td>7.0</td>\n",
       "      <td>76.3</td>\n",
       "      <td>8.79</td>\n",
       "      <td>77.8</td>\n",
       "      <td>25200</td>\n",
       "      <td>0.485</td>\n",
       "      <td>75.5</td>\n",
       "      <td>1.43</td>\n",
       "      <td>16600</td>\n",
       "      <td>-2.854836</td>\n",
       "      <td>-0.352082</td>\n",
       "      <td>-0.700859</td>\n",
       "      <td>1.296271</td>\n",
       "      <td>0.050261</td>\n",
       "      <td>0.0</td>\n",
       "      <td>Slovak Republic</td>\n",
       "    </tr>\n",
       "    <tr>\n",
       "      <th>141</th>\n",
       "      <td>20.7</td>\n",
       "      <td>26.9</td>\n",
       "      <td>4.47</td>\n",
       "      <td>57.1</td>\n",
       "      <td>9920</td>\n",
       "      <td>4.440</td>\n",
       "      <td>71.6</td>\n",
       "      <td>2.07</td>\n",
       "      <td>6230</td>\n",
       "      <td>-2.864064</td>\n",
       "      <td>0.485998</td>\n",
       "      <td>0.223167</td>\n",
       "      <td>0.816364</td>\n",
       "      <td>-0.274068</td>\n",
       "      <td>0.0</td>\n",
       "      <td>St. Vincent and the Grenadines</td>\n",
       "    </tr>\n",
       "  </tbody>\n",
       "</table>\n",
       "</div>"
      ],
      "text/plain": [
       "     child_mort  exports  health  imports  income  inflation  life_expec  \\\n",
       "0          90.2     10.0    7.58     44.9    1610      9.440        56.2   \n",
       "3         119.0     62.3    2.85     42.9    5900     22.400        60.1   \n",
       "17        111.0     23.8    4.10     37.2    1820      0.885        61.8   \n",
       "24         10.8     50.2    6.87     53.0   15300      1.110        73.9   \n",
       "25        116.0     19.2    6.74     29.6    1430      6.810        57.9   \n",
       "27         44.4     54.1    5.68     59.5    2520      3.120        66.1   \n",
       "30         26.5     32.7    4.09     61.8    5830      0.505        72.5   \n",
       "31        149.0     11.8    3.98     26.5     888      2.010        47.5   \n",
       "35         18.6     15.9    7.59     17.8   10900      3.860        76.4   \n",
       "36         88.2     16.5    4.51     51.7    1410      3.870        65.9   \n",
       "38         63.9     85.1    2.46     54.7    5190     20.700        60.4   \n",
       "53          3.0     38.7    8.95     37.4   39800      0.351        80.0   \n",
       "59         74.7     29.5    5.22     45.9    3060     16.600        62.2   \n",
       "60          3.9     22.1   10.30     30.7   28700      0.673        80.4   \n",
       "74          4.6     35.0    7.63     32.9   29600      1.770        81.4   \n",
       "75          4.0     25.2    9.53     27.2   36200      0.319        81.7   \n",
       "80         62.2     20.7    4.75     33.6    2480      2.090        62.8   \n",
       "85          7.8     53.7    6.68     55.1   18300     -0.812        73.1   \n",
       "88         89.3     19.1   11.80     92.6     700      5.470        60.8   \n",
       "89         16.6     65.6    3.88     42.1   29600     14.200        76.1   \n",
       "93         62.2     25.0    3.77     43.0    1390      8.790        60.8   \n",
       "99         97.4     50.7    4.41     61.2    3320     18.900        68.2   \n",
       "110         4.5     72.0   11.90     63.6   45500      0.848        80.7   \n",
       "112       123.0     22.2    5.16     49.1     814      2.550        58.8   \n",
       "117        19.7     70.0    8.10     78.2   15400      2.590        77.8   \n",
       "127        18.9     29.2    6.47     53.1    5400      1.720        71.5   \n",
       "129        66.8     24.9    5.66     40.3    2180      1.850        64.0   \n",
       "134         7.0     76.3    8.79     77.8   25200      0.485        75.5   \n",
       "141        20.7     26.9    4.47     57.1    9920      4.440        71.6   \n",
       "\n",
       "     total_fer   gdpp       PC1       PC2       PC3       PC4       PC5  \\\n",
       "0         5.82    553 -2.913025  0.095621 -0.718118  1.005255 -0.158310   \n",
       "3         6.16   3530 -2.932423  1.695555  1.525044  0.839625 -0.273209   \n",
       "17        5.36    758 -2.672314  0.418172 -0.257368  0.278672 -1.431768   \n",
       "24        1.57   6840 -3.122053  0.038775 -0.455751  1.080918 -0.728128   \n",
       "25        5.87    575 -2.898971 -0.422663 -1.347413  1.821474  0.712117   \n",
       "27        2.88    786 -2.807909  0.078649 -0.342961  0.543557 -1.314868   \n",
       "30        2.67   3310 -3.964964  0.386619 -0.323557  0.918301 -1.822389   \n",
       "31        5.21    446 -3.557555  1.289128 -0.103015  1.208406 -1.224562   \n",
       "35        2.01   6250 -2.093556  0.343601 -0.328381 -0.118947 -0.808030   \n",
       "36        4.75    769 -3.173370  1.050382 -0.001219  1.574210  0.647909   \n",
       "38        4.95   2740 -2.581706  1.207873 -0.233066  0.665293 -0.852981   \n",
       "53        1.87  46200 -2.213670  0.223496 -0.393111  0.289914 -0.694393   \n",
       "59        4.27   1310 -2.969529  0.728534  0.391039  0.666549 -0.192543   \n",
       "60        1.48  26900 -2.833616 -0.091128 -1.205174  1.133045 -0.550904   \n",
       "74        3.03  30600 -1.874702 -0.171030 -0.249557 -0.285555 -0.976253   \n",
       "75        1.46  35800 -1.239217  0.369138 -2.368274  0.592231  0.722521   \n",
       "80        4.37    967 -1.773580  1.053399 -2.390440  1.179569  1.040022   \n",
       "85        1.36  11300 -2.979885  0.216622 -0.204596  0.839108 -0.228962   \n",
       "88        5.02    327 -3.412255  0.561469 -0.248615  1.073364 -1.297386   \n",
       "89        2.41  12100 -1.953927  1.383385  0.731462  0.195413  0.305152   \n",
       "93        4.60    413 -2.920541  0.893270 -0.258704  0.633835 -0.702221   \n",
       "99        4.98   1200 -3.450168  0.969922 -0.581452  1.126581 -1.256756   \n",
       "110       1.79  50300 -1.679704 -1.001629 -1.468436  0.673221  0.112242   \n",
       "112       7.49    348 -1.912170  0.091560 -0.506959  0.027625 -0.803655   \n",
       "117       2.62   8080 -1.191837 -0.556757 -0.717966  0.550206 -0.036871   \n",
       "127       4.34   3450 -2.554049 -0.215028 -0.088490  0.462226 -0.474937   \n",
       "129       5.06   1000 -1.997642  0.958362 -1.218037  0.560917 -0.389474   \n",
       "134       1.43  16600 -2.854836 -0.352082 -0.700859  1.296271  0.050261   \n",
       "141       2.07   6230 -2.864064  0.485998  0.223167  0.816364 -0.274068   \n",
       "\n",
       "     labelfor_cluster                         country  \n",
       "0                 0.0                     Afghanistan  \n",
       "3                 0.0                          Angola  \n",
       "17                0.0                           Benin  \n",
       "24                0.0                        Bulgaria  \n",
       "25                0.0                    Burkina Faso  \n",
       "27                0.0                        Cambodia  \n",
       "30                0.0                      Cape Verde  \n",
       "31                0.0        Central African Republic  \n",
       "35                0.0                        Colombia  \n",
       "36                0.0                         Comoros  \n",
       "38                0.0                     Congo, Rep.  \n",
       "53                0.0                         Finland  \n",
       "59                0.0                           Ghana  \n",
       "60                0.0                          Greece  \n",
       "74                0.0                          Israel  \n",
       "75                0.0                           Italy  \n",
       "80                0.0                           Kenya  \n",
       "85                0.0                          Latvia  \n",
       "88                0.0                         Liberia  \n",
       "89                0.0                           Libya  \n",
       "93                0.0                      Madagascar  \n",
       "99                0.0                      Mauritania  \n",
       "110               0.0                     Netherlands  \n",
       "112               0.0                           Niger  \n",
       "117               0.0                          Panama  \n",
       "127               0.0                           Samoa  \n",
       "129               0.0                         Senegal  \n",
       "134               0.0                 Slovak Republic  \n",
       "141               0.0  St. Vincent and the Grenadines  "
      ]
     },
     "execution_count": 74,
     "metadata": {},
     "output_type": "execute_result"
    }
   ],
   "source": [
    "# analyzing countries present in cluster-0 (hierrahealclustering)\n",
    "y =  main_df['labelfor_cluster']==0.0\n",
    "main_df[y]"
   ]
  },
  {
   "cell_type": "code",
   "execution_count": 75,
   "metadata": {
    "scrolled": true
   },
   "outputs": [
    {
     "data": {
      "text/html": [
       "<div>\n",
       "<style scoped>\n",
       "    .dataframe tbody tr th:only-of-type {\n",
       "        vertical-align: middle;\n",
       "    }\n",
       "\n",
       "    .dataframe tbody tr th {\n",
       "        vertical-align: top;\n",
       "    }\n",
       "\n",
       "    .dataframe thead th {\n",
       "        text-align: right;\n",
       "    }\n",
       "</style>\n",
       "<table border=\"1\" class=\"dataframe\">\n",
       "  <thead>\n",
       "    <tr style=\"text-align: right;\">\n",
       "      <th></th>\n",
       "      <th>child_mort</th>\n",
       "      <th>exports</th>\n",
       "      <th>health</th>\n",
       "      <th>imports</th>\n",
       "      <th>income</th>\n",
       "      <th>inflation</th>\n",
       "      <th>life_expec</th>\n",
       "      <th>total_fer</th>\n",
       "      <th>gdpp</th>\n",
       "      <th>PC1</th>\n",
       "      <th>PC2</th>\n",
       "      <th>PC3</th>\n",
       "      <th>PC4</th>\n",
       "      <th>PC5</th>\n",
       "      <th>labelfor_cluster</th>\n",
       "      <th>country</th>\n",
       "    </tr>\n",
       "  </thead>\n",
       "  <tbody>\n",
       "    <tr>\n",
       "      <th>1</th>\n",
       "      <td>16.6</td>\n",
       "      <td>28.00</td>\n",
       "      <td>6.55</td>\n",
       "      <td>48.6</td>\n",
       "      <td>9930</td>\n",
       "      <td>4.490</td>\n",
       "      <td>76.3</td>\n",
       "      <td>1.65</td>\n",
       "      <td>4090</td>\n",
       "      <td>0.429911</td>\n",
       "      <td>-0.588156</td>\n",
       "      <td>-0.333486</td>\n",
       "      <td>-1.161059</td>\n",
       "      <td>0.174677</td>\n",
       "      <td>1.0</td>\n",
       "      <td>Albania</td>\n",
       "    </tr>\n",
       "    <tr>\n",
       "      <th>2</th>\n",
       "      <td>27.3</td>\n",
       "      <td>38.40</td>\n",
       "      <td>4.17</td>\n",
       "      <td>31.4</td>\n",
       "      <td>12900</td>\n",
       "      <td>16.100</td>\n",
       "      <td>76.5</td>\n",
       "      <td>2.89</td>\n",
       "      <td>4460</td>\n",
       "      <td>-0.285225</td>\n",
       "      <td>-0.455174</td>\n",
       "      <td>1.221505</td>\n",
       "      <td>-0.868115</td>\n",
       "      <td>0.156475</td>\n",
       "      <td>1.0</td>\n",
       "      <td>Algeria</td>\n",
       "    </tr>\n",
       "    <tr>\n",
       "      <th>4</th>\n",
       "      <td>10.3</td>\n",
       "      <td>45.50</td>\n",
       "      <td>6.03</td>\n",
       "      <td>58.9</td>\n",
       "      <td>19100</td>\n",
       "      <td>1.440</td>\n",
       "      <td>76.8</td>\n",
       "      <td>2.13</td>\n",
       "      <td>12200</td>\n",
       "      <td>1.033576</td>\n",
       "      <td>0.136659</td>\n",
       "      <td>-0.225721</td>\n",
       "      <td>-0.847063</td>\n",
       "      <td>-0.193007</td>\n",
       "      <td>1.0</td>\n",
       "      <td>Antigua and Barbuda</td>\n",
       "    </tr>\n",
       "    <tr>\n",
       "      <th>5</th>\n",
       "      <td>14.5</td>\n",
       "      <td>18.90</td>\n",
       "      <td>8.10</td>\n",
       "      <td>16.0</td>\n",
       "      <td>18700</td>\n",
       "      <td>20.900</td>\n",
       "      <td>75.8</td>\n",
       "      <td>2.37</td>\n",
       "      <td>10300</td>\n",
       "      <td>0.022407</td>\n",
       "      <td>-1.779187</td>\n",
       "      <td>0.869997</td>\n",
       "      <td>-0.036967</td>\n",
       "      <td>0.981057</td>\n",
       "      <td>1.0</td>\n",
       "      <td>Argentina</td>\n",
       "    </tr>\n",
       "    <tr>\n",
       "      <th>6</th>\n",
       "      <td>18.1</td>\n",
       "      <td>20.80</td>\n",
       "      <td>4.40</td>\n",
       "      <td>45.3</td>\n",
       "      <td>6700</td>\n",
       "      <td>7.770</td>\n",
       "      <td>73.3</td>\n",
       "      <td>1.69</td>\n",
       "      <td>3220</td>\n",
       "      <td>-0.101584</td>\n",
       "      <td>-0.568252</td>\n",
       "      <td>0.242092</td>\n",
       "      <td>-1.466266</td>\n",
       "      <td>-0.055992</td>\n",
       "      <td>1.0</td>\n",
       "      <td>Armenia</td>\n",
       "    </tr>\n",
       "    <tr>\n",
       "      <th>9</th>\n",
       "      <td>39.2</td>\n",
       "      <td>54.30</td>\n",
       "      <td>5.88</td>\n",
       "      <td>20.7</td>\n",
       "      <td>16000</td>\n",
       "      <td>13.800</td>\n",
       "      <td>69.1</td>\n",
       "      <td>1.92</td>\n",
       "      <td>5840</td>\n",
       "      <td>-0.181487</td>\n",
       "      <td>-0.402866</td>\n",
       "      <td>0.867459</td>\n",
       "      <td>-0.438773</td>\n",
       "      <td>0.137350</td>\n",
       "      <td>1.0</td>\n",
       "      <td>Azerbaijan</td>\n",
       "    </tr>\n",
       "    <tr>\n",
       "      <th>10</th>\n",
       "      <td>13.8</td>\n",
       "      <td>35.00</td>\n",
       "      <td>7.89</td>\n",
       "      <td>43.7</td>\n",
       "      <td>22900</td>\n",
       "      <td>-0.393</td>\n",
       "      <td>73.8</td>\n",
       "      <td>1.86</td>\n",
       "      <td>28000</td>\n",
       "      <td>1.268744</td>\n",
       "      <td>-0.656588</td>\n",
       "      <td>-0.488098</td>\n",
       "      <td>0.055634</td>\n",
       "      <td>-0.380250</td>\n",
       "      <td>1.0</td>\n",
       "      <td>Bahamas</td>\n",
       "    </tr>\n",
       "    <tr>\n",
       "      <th>11</th>\n",
       "      <td>8.6</td>\n",
       "      <td>69.50</td>\n",
       "      <td>4.97</td>\n",
       "      <td>50.9</td>\n",
       "      <td>41100</td>\n",
       "      <td>7.440</td>\n",
       "      <td>76.0</td>\n",
       "      <td>2.16</td>\n",
       "      <td>20700</td>\n",
       "      <td>1.670996</td>\n",
       "      <td>0.561162</td>\n",
       "      <td>0.991258</td>\n",
       "      <td>-0.207080</td>\n",
       "      <td>-0.392572</td>\n",
       "      <td>1.0</td>\n",
       "      <td>Bahrain</td>\n",
       "    </tr>\n",
       "    <tr>\n",
       "      <th>12</th>\n",
       "      <td>49.4</td>\n",
       "      <td>16.00</td>\n",
       "      <td>3.52</td>\n",
       "      <td>21.8</td>\n",
       "      <td>2440</td>\n",
       "      <td>7.140</td>\n",
       "      <td>70.4</td>\n",
       "      <td>2.33</td>\n",
       "      <td>758</td>\n",
       "      <td>-1.123851</td>\n",
       "      <td>-0.961397</td>\n",
       "      <td>0.526615</td>\n",
       "      <td>-1.197201</td>\n",
       "      <td>-0.669166</td>\n",
       "      <td>1.0</td>\n",
       "      <td>Bangladesh</td>\n",
       "    </tr>\n",
       "    <tr>\n",
       "      <th>13</th>\n",
       "      <td>14.2</td>\n",
       "      <td>39.50</td>\n",
       "      <td>7.97</td>\n",
       "      <td>48.7</td>\n",
       "      <td>15300</td>\n",
       "      <td>0.321</td>\n",
       "      <td>76.7</td>\n",
       "      <td>1.78</td>\n",
       "      <td>16000</td>\n",
       "      <td>1.081374</td>\n",
       "      <td>-0.481970</td>\n",
       "      <td>-0.664355</td>\n",
       "      <td>-0.522505</td>\n",
       "      <td>0.002624</td>\n",
       "      <td>1.0</td>\n",
       "      <td>Barbados</td>\n",
       "    </tr>\n",
       "    <tr>\n",
       "      <th>14</th>\n",
       "      <td>5.5</td>\n",
       "      <td>51.40</td>\n",
       "      <td>5.61</td>\n",
       "      <td>64.5</td>\n",
       "      <td>16200</td>\n",
       "      <td>15.100</td>\n",
       "      <td>70.4</td>\n",
       "      <td>1.49</td>\n",
       "      <td>6030</td>\n",
       "      <td>0.580025</td>\n",
       "      <td>0.535327</td>\n",
       "      <td>0.486228</td>\n",
       "      <td>-1.035275</td>\n",
       "      <td>0.823342</td>\n",
       "      <td>1.0</td>\n",
       "      <td>Belarus</td>\n",
       "    </tr>\n",
       "    <tr>\n",
       "      <th>16</th>\n",
       "      <td>18.8</td>\n",
       "      <td>58.20</td>\n",
       "      <td>5.20</td>\n",
       "      <td>57.5</td>\n",
       "      <td>7880</td>\n",
       "      <td>1.140</td>\n",
       "      <td>71.4</td>\n",
       "      <td>2.71</td>\n",
       "      <td>4340</td>\n",
       "      <td>0.211255</td>\n",
       "      <td>0.699243</td>\n",
       "      <td>-0.275561</td>\n",
       "      <td>-1.095627</td>\n",
       "      <td>-0.290226</td>\n",
       "      <td>1.0</td>\n",
       "      <td>Belize</td>\n",
       "    </tr>\n",
       "    <tr>\n",
       "      <th>18</th>\n",
       "      <td>42.7</td>\n",
       "      <td>42.50</td>\n",
       "      <td>5.20</td>\n",
       "      <td>70.7</td>\n",
       "      <td>6420</td>\n",
       "      <td>5.990</td>\n",
       "      <td>72.1</td>\n",
       "      <td>2.38</td>\n",
       "      <td>2180</td>\n",
       "      <td>-0.156571</td>\n",
       "      <td>0.777396</td>\n",
       "      <td>-0.277344</td>\n",
       "      <td>-1.038650</td>\n",
       "      <td>0.123066</td>\n",
       "      <td>1.0</td>\n",
       "      <td>Bhutan</td>\n",
       "    </tr>\n",
       "    <tr>\n",
       "      <th>19</th>\n",
       "      <td>46.6</td>\n",
       "      <td>41.20</td>\n",
       "      <td>4.84</td>\n",
       "      <td>34.3</td>\n",
       "      <td>5410</td>\n",
       "      <td>8.780</td>\n",
       "      <td>71.6</td>\n",
       "      <td>3.20</td>\n",
       "      <td>1980</td>\n",
       "      <td>-0.793852</td>\n",
       "      <td>-0.120261</td>\n",
       "      <td>0.400741</td>\n",
       "      <td>-0.724703</td>\n",
       "      <td>-0.224663</td>\n",
       "      <td>1.0</td>\n",
       "      <td>Bolivia</td>\n",
       "    </tr>\n",
       "    <tr>\n",
       "      <th>20</th>\n",
       "      <td>6.9</td>\n",
       "      <td>29.70</td>\n",
       "      <td>11.10</td>\n",
       "      <td>51.3</td>\n",
       "      <td>9720</td>\n",
       "      <td>1.400</td>\n",
       "      <td>76.8</td>\n",
       "      <td>1.31</td>\n",
       "      <td>4610</td>\n",
       "      <td>0.995867</td>\n",
       "      <td>-0.971888</td>\n",
       "      <td>-1.528328</td>\n",
       "      <td>-0.620885</td>\n",
       "      <td>0.932763</td>\n",
       "      <td>1.0</td>\n",
       "      <td>Bosnia and Herzegovina</td>\n",
       "    </tr>\n",
       "    <tr>\n",
       "      <th>21</th>\n",
       "      <td>52.5</td>\n",
       "      <td>43.60</td>\n",
       "      <td>8.30</td>\n",
       "      <td>51.3</td>\n",
       "      <td>13300</td>\n",
       "      <td>8.920</td>\n",
       "      <td>57.1</td>\n",
       "      <td>2.88</td>\n",
       "      <td>6350</td>\n",
       "      <td>-0.882088</td>\n",
       "      <td>0.457368</td>\n",
       "      <td>-0.584633</td>\n",
       "      <td>0.406161</td>\n",
       "      <td>0.306573</td>\n",
       "      <td>1.0</td>\n",
       "      <td>Botswana</td>\n",
       "    </tr>\n",
       "    <tr>\n",
       "      <th>22</th>\n",
       "      <td>19.8</td>\n",
       "      <td>10.70</td>\n",
       "      <td>9.01</td>\n",
       "      <td>11.8</td>\n",
       "      <td>14500</td>\n",
       "      <td>8.410</td>\n",
       "      <td>74.2</td>\n",
       "      <td>1.80</td>\n",
       "      <td>11200</td>\n",
       "      <td>0.140781</td>\n",
       "      <td>-2.151077</td>\n",
       "      <td>-0.172635</td>\n",
       "      <td>-0.166920</td>\n",
       "      <td>0.298665</td>\n",
       "      <td>1.0</td>\n",
       "      <td>Brazil</td>\n",
       "    </tr>\n",
       "    <tr>\n",
       "      <th>23</th>\n",
       "      <td>10.5</td>\n",
       "      <td>67.40</td>\n",
       "      <td>2.84</td>\n",
       "      <td>28.0</td>\n",
       "      <td>80600</td>\n",
       "      <td>16.700</td>\n",
       "      <td>77.1</td>\n",
       "      <td>1.84</td>\n",
       "      <td>35300</td>\n",
       "      <td>0.906595</td>\n",
       "      <td>0.030278</td>\n",
       "      <td>-0.471204</td>\n",
       "      <td>-0.994661</td>\n",
       "      <td>0.005377</td>\n",
       "      <td>1.0</td>\n",
       "      <td>Brunei</td>\n",
       "    </tr>\n",
       "    <tr>\n",
       "      <th>26</th>\n",
       "      <td>93.6</td>\n",
       "      <td>8.92</td>\n",
       "      <td>11.60</td>\n",
       "      <td>39.2</td>\n",
       "      <td>764</td>\n",
       "      <td>12.300</td>\n",
       "      <td>57.7</td>\n",
       "      <td>6.26</td>\n",
       "      <td>231</td>\n",
       "      <td>-0.582412</td>\n",
       "      <td>0.894820</td>\n",
       "      <td>-0.498705</td>\n",
       "      <td>-0.805234</td>\n",
       "      <td>-0.136155</td>\n",
       "      <td>1.0</td>\n",
       "      <td>Burundi</td>\n",
       "    </tr>\n",
       "    <tr>\n",
       "      <th>29</th>\n",
       "      <td>5.6</td>\n",
       "      <td>29.10</td>\n",
       "      <td>11.30</td>\n",
       "      <td>31.0</td>\n",
       "      <td>40700</td>\n",
       "      <td>2.870</td>\n",
       "      <td>81.3</td>\n",
       "      <td>1.63</td>\n",
       "      <td>47400</td>\n",
       "      <td>-0.155801</td>\n",
       "      <td>0.351235</td>\n",
       "      <td>-0.292087</td>\n",
       "      <td>-1.343741</td>\n",
       "      <td>-0.530348</td>\n",
       "      <td>1.0</td>\n",
       "      <td>Canada</td>\n",
       "    </tr>\n",
       "    <tr>\n",
       "      <th>32</th>\n",
       "      <td>150.0</td>\n",
       "      <td>36.80</td>\n",
       "      <td>4.53</td>\n",
       "      <td>43.5</td>\n",
       "      <td>1930</td>\n",
       "      <td>6.390</td>\n",
       "      <td>56.5</td>\n",
       "      <td>6.59</td>\n",
       "      <td>897</td>\n",
       "      <td>0.951656</td>\n",
       "      <td>-1.076428</td>\n",
       "      <td>0.150821</td>\n",
       "      <td>-0.436634</td>\n",
       "      <td>0.420118</td>\n",
       "      <td>1.0</td>\n",
       "      <td>Chad</td>\n",
       "    </tr>\n",
       "    <tr>\n",
       "      <th>33</th>\n",
       "      <td>8.7</td>\n",
       "      <td>37.70</td>\n",
       "      <td>7.96</td>\n",
       "      <td>31.3</td>\n",
       "      <td>19400</td>\n",
       "      <td>8.960</td>\n",
       "      <td>79.1</td>\n",
       "      <td>1.88</td>\n",
       "      <td>12900</td>\n",
       "      <td>0.057482</td>\n",
       "      <td>-1.189997</td>\n",
       "      <td>0.427315</td>\n",
       "      <td>-1.277179</td>\n",
       "      <td>-0.228828</td>\n",
       "      <td>1.0</td>\n",
       "      <td>Chile</td>\n",
       "    </tr>\n",
       "    <tr>\n",
       "      <th>34</th>\n",
       "      <td>15.7</td>\n",
       "      <td>26.30</td>\n",
       "      <td>5.07</td>\n",
       "      <td>22.6</td>\n",
       "      <td>9530</td>\n",
       "      <td>6.940</td>\n",
       "      <td>74.6</td>\n",
       "      <td>1.59</td>\n",
       "      <td>4560</td>\n",
       "      <td>0.121146</td>\n",
       "      <td>-1.768909</td>\n",
       "      <td>-0.245606</td>\n",
       "      <td>-0.715209</td>\n",
       "      <td>-0.095940</td>\n",
       "      <td>1.0</td>\n",
       "      <td>China</td>\n",
       "    </tr>\n",
       "    <tr>\n",
       "      <th>37</th>\n",
       "      <td>116.0</td>\n",
       "      <td>41.10</td>\n",
       "      <td>7.91</td>\n",
       "      <td>49.6</td>\n",
       "      <td>609</td>\n",
       "      <td>20.800</td>\n",
       "      <td>57.5</td>\n",
       "      <td>6.54</td>\n",
       "      <td>334</td>\n",
       "      <td>0.937827</td>\n",
       "      <td>-1.350472</td>\n",
       "      <td>-0.821130</td>\n",
       "      <td>-0.259855</td>\n",
       "      <td>0.978371</td>\n",
       "      <td>1.0</td>\n",
       "      <td>Congo, Dem. Rep.</td>\n",
       "    </tr>\n",
       "    <tr>\n",
       "      <th>39</th>\n",
       "      <td>10.2</td>\n",
       "      <td>33.20</td>\n",
       "      <td>10.90</td>\n",
       "      <td>35.0</td>\n",
       "      <td>13000</td>\n",
       "      <td>6.570</td>\n",
       "      <td>80.4</td>\n",
       "      <td>1.92</td>\n",
       "      <td>8200</td>\n",
       "      <td>1.148863</td>\n",
       "      <td>-0.844812</td>\n",
       "      <td>-0.409713</td>\n",
       "      <td>-0.622923</td>\n",
       "      <td>-0.104121</td>\n",
       "      <td>1.0</td>\n",
       "      <td>Costa Rica</td>\n",
       "    </tr>\n",
       "    <tr>\n",
       "      <th>40</th>\n",
       "      <td>111.0</td>\n",
       "      <td>50.60</td>\n",
       "      <td>5.30</td>\n",
       "      <td>43.3</td>\n",
       "      <td>2690</td>\n",
       "      <td>5.390</td>\n",
       "      <td>56.3</td>\n",
       "      <td>5.27</td>\n",
       "      <td>1220</td>\n",
       "      <td>2.174455</td>\n",
       "      <td>-0.004510</td>\n",
       "      <td>0.257320</td>\n",
       "      <td>-0.311857</td>\n",
       "      <td>-0.414668</td>\n",
       "      <td>1.0</td>\n",
       "      <td>Cote d'Ivoire</td>\n",
       "    </tr>\n",
       "    <tr>\n",
       "      <th>41</th>\n",
       "      <td>5.5</td>\n",
       "      <td>37.60</td>\n",
       "      <td>7.76</td>\n",
       "      <td>38.1</td>\n",
       "      <td>20100</td>\n",
       "      <td>0.821</td>\n",
       "      <td>76.3</td>\n",
       "      <td>1.55</td>\n",
       "      <td>13500</td>\n",
       "      <td>2.053263</td>\n",
       "      <td>0.423198</td>\n",
       "      <td>-0.543336</td>\n",
       "      <td>-0.411736</td>\n",
       "      <td>-0.052347</td>\n",
       "      <td>1.0</td>\n",
       "      <td>Croatia</td>\n",
       "    </tr>\n",
       "    <tr>\n",
       "      <th>43</th>\n",
       "      <td>3.4</td>\n",
       "      <td>66.00</td>\n",
       "      <td>7.88</td>\n",
       "      <td>62.9</td>\n",
       "      <td>28300</td>\n",
       "      <td>-1.430</td>\n",
       "      <td>77.5</td>\n",
       "      <td>1.51</td>\n",
       "      <td>19800</td>\n",
       "      <td>-0.231103</td>\n",
       "      <td>-0.880641</td>\n",
       "      <td>-0.036736</td>\n",
       "      <td>-0.653433</td>\n",
       "      <td>-0.205497</td>\n",
       "      <td>1.0</td>\n",
       "      <td>Czech Republic</td>\n",
       "    </tr>\n",
       "    <tr>\n",
       "      <th>44</th>\n",
       "      <td>4.1</td>\n",
       "      <td>50.50</td>\n",
       "      <td>11.40</td>\n",
       "      <td>43.6</td>\n",
       "      <td>44000</td>\n",
       "      <td>3.220</td>\n",
       "      <td>79.5</td>\n",
       "      <td>1.87</td>\n",
       "      <td>58000</td>\n",
       "      <td>0.009618</td>\n",
       "      <td>-1.045221</td>\n",
       "      <td>-0.273292</td>\n",
       "      <td>-0.488514</td>\n",
       "      <td>0.371300</td>\n",
       "      <td>1.0</td>\n",
       "      <td>Denmark</td>\n",
       "    </tr>\n",
       "    <tr>\n",
       "      <th>45</th>\n",
       "      <td>34.4</td>\n",
       "      <td>22.70</td>\n",
       "      <td>6.22</td>\n",
       "      <td>33.3</td>\n",
       "      <td>11100</td>\n",
       "      <td>5.440</td>\n",
       "      <td>74.6</td>\n",
       "      <td>2.60</td>\n",
       "      <td>5450</td>\n",
       "      <td>-0.848187</td>\n",
       "      <td>-0.819819</td>\n",
       "      <td>0.583290</td>\n",
       "      <td>-0.745231</td>\n",
       "      <td>-0.294916</td>\n",
       "      <td>1.0</td>\n",
       "      <td>Dominican Republic</td>\n",
       "    </tr>\n",
       "    <tr>\n",
       "      <th>...</th>\n",
       "      <td>...</td>\n",
       "      <td>...</td>\n",
       "      <td>...</td>\n",
       "      <td>...</td>\n",
       "      <td>...</td>\n",
       "      <td>...</td>\n",
       "      <td>...</td>\n",
       "      <td>...</td>\n",
       "      <td>...</td>\n",
       "      <td>...</td>\n",
       "      <td>...</td>\n",
       "      <td>...</td>\n",
       "      <td>...</td>\n",
       "      <td>...</td>\n",
       "      <td>...</td>\n",
       "      <td>...</td>\n",
       "    </tr>\n",
       "    <tr>\n",
       "      <th>95</th>\n",
       "      <td>7.9</td>\n",
       "      <td>86.90</td>\n",
       "      <td>4.39</td>\n",
       "      <td>71.0</td>\n",
       "      <td>21100</td>\n",
       "      <td>7.270</td>\n",
       "      <td>74.5</td>\n",
       "      <td>2.15</td>\n",
       "      <td>9070</td>\n",
       "      <td>-1.043375</td>\n",
       "      <td>1.002841</td>\n",
       "      <td>-0.732535</td>\n",
       "      <td>0.091483</td>\n",
       "      <td>-0.223448</td>\n",
       "      <td>1.0</td>\n",
       "      <td>Malaysia</td>\n",
       "    </tr>\n",
       "    <tr>\n",
       "      <th>96</th>\n",
       "      <td>13.2</td>\n",
       "      <td>77.60</td>\n",
       "      <td>6.33</td>\n",
       "      <td>65.4</td>\n",
       "      <td>10500</td>\n",
       "      <td>2.880</td>\n",
       "      <td>77.9</td>\n",
       "      <td>2.23</td>\n",
       "      <td>7100</td>\n",
       "      <td>-1.307090</td>\n",
       "      <td>-0.789049</td>\n",
       "      <td>0.389811</td>\n",
       "      <td>-0.753699</td>\n",
       "      <td>0.305714</td>\n",
       "      <td>1.0</td>\n",
       "      <td>Maldives</td>\n",
       "    </tr>\n",
       "    <tr>\n",
       "      <th>101</th>\n",
       "      <td>40.0</td>\n",
       "      <td>23.50</td>\n",
       "      <td>14.20</td>\n",
       "      <td>81.0</td>\n",
       "      <td>3340</td>\n",
       "      <td>3.800</td>\n",
       "      <td>65.4</td>\n",
       "      <td>3.46</td>\n",
       "      <td>2860</td>\n",
       "      <td>-2.360347</td>\n",
       "      <td>-0.479400</td>\n",
       "      <td>1.013555</td>\n",
       "      <td>-0.421710</td>\n",
       "      <td>-1.098812</td>\n",
       "      <td>1.0</td>\n",
       "      <td>Micronesia, Fed. Sts.</td>\n",
       "    </tr>\n",
       "    <tr>\n",
       "      <th>102</th>\n",
       "      <td>17.2</td>\n",
       "      <td>39.20</td>\n",
       "      <td>11.70</td>\n",
       "      <td>78.5</td>\n",
       "      <td>3910</td>\n",
       "      <td>11.100</td>\n",
       "      <td>69.7</td>\n",
       "      <td>1.27</td>\n",
       "      <td>1630</td>\n",
       "      <td>1.163784</td>\n",
       "      <td>1.115276</td>\n",
       "      <td>-0.790119</td>\n",
       "      <td>-0.545194</td>\n",
       "      <td>0.549372</td>\n",
       "      <td>1.0</td>\n",
       "      <td>Moldova</td>\n",
       "    </tr>\n",
       "    <tr>\n",
       "      <th>103</th>\n",
       "      <td>26.1</td>\n",
       "      <td>46.70</td>\n",
       "      <td>5.44</td>\n",
       "      <td>56.7</td>\n",
       "      <td>7710</td>\n",
       "      <td>39.200</td>\n",
       "      <td>66.2</td>\n",
       "      <td>2.64</td>\n",
       "      <td>2650</td>\n",
       "      <td>0.117846</td>\n",
       "      <td>0.361031</td>\n",
       "      <td>-0.046672</td>\n",
       "      <td>-0.946839</td>\n",
       "      <td>0.130347</td>\n",
       "      <td>1.0</td>\n",
       "      <td>Mongolia</td>\n",
       "    </tr>\n",
       "    <tr>\n",
       "      <th>104</th>\n",
       "      <td>6.8</td>\n",
       "      <td>37.00</td>\n",
       "      <td>9.11</td>\n",
       "      <td>62.7</td>\n",
       "      <td>14000</td>\n",
       "      <td>1.600</td>\n",
       "      <td>76.4</td>\n",
       "      <td>1.77</td>\n",
       "      <td>6680</td>\n",
       "      <td>-0.020635</td>\n",
       "      <td>-1.086617</td>\n",
       "      <td>0.404349</td>\n",
       "      <td>-1.069622</td>\n",
       "      <td>-0.368765</td>\n",
       "      <td>1.0</td>\n",
       "      <td>Montenegro</td>\n",
       "    </tr>\n",
       "    <tr>\n",
       "      <th>105</th>\n",
       "      <td>33.5</td>\n",
       "      <td>32.20</td>\n",
       "      <td>5.20</td>\n",
       "      <td>43.0</td>\n",
       "      <td>6440</td>\n",
       "      <td>0.976</td>\n",
       "      <td>73.5</td>\n",
       "      <td>2.58</td>\n",
       "      <td>2830</td>\n",
       "      <td>-0.782746</td>\n",
       "      <td>-0.096498</td>\n",
       "      <td>0.309094</td>\n",
       "      <td>-1.082358</td>\n",
       "      <td>-0.726077</td>\n",
       "      <td>1.0</td>\n",
       "      <td>Morocco</td>\n",
       "    </tr>\n",
       "    <tr>\n",
       "      <th>106</th>\n",
       "      <td>101.0</td>\n",
       "      <td>31.50</td>\n",
       "      <td>5.21</td>\n",
       "      <td>46.2</td>\n",
       "      <td>918</td>\n",
       "      <td>7.640</td>\n",
       "      <td>54.5</td>\n",
       "      <td>5.56</td>\n",
       "      <td>419</td>\n",
       "      <td>1.217828</td>\n",
       "      <td>-0.659169</td>\n",
       "      <td>-0.311232</td>\n",
       "      <td>-0.695175</td>\n",
       "      <td>-0.058905</td>\n",
       "      <td>1.0</td>\n",
       "      <td>Mozambique</td>\n",
       "    </tr>\n",
       "    <tr>\n",
       "      <th>108</th>\n",
       "      <td>56.0</td>\n",
       "      <td>47.80</td>\n",
       "      <td>6.78</td>\n",
       "      <td>60.7</td>\n",
       "      <td>8460</td>\n",
       "      <td>3.560</td>\n",
       "      <td>58.6</td>\n",
       "      <td>3.60</td>\n",
       "      <td>5190</td>\n",
       "      <td>0.572793</td>\n",
       "      <td>-0.637385</td>\n",
       "      <td>0.086351</td>\n",
       "      <td>-1.029839</td>\n",
       "      <td>-0.314844</td>\n",
       "      <td>1.0</td>\n",
       "      <td>Namibia</td>\n",
       "    </tr>\n",
       "    <tr>\n",
       "      <th>109</th>\n",
       "      <td>47.0</td>\n",
       "      <td>9.58</td>\n",
       "      <td>5.25</td>\n",
       "      <td>36.4</td>\n",
       "      <td>1990</td>\n",
       "      <td>15.100</td>\n",
       "      <td>68.3</td>\n",
       "      <td>2.61</td>\n",
       "      <td>592</td>\n",
       "      <td>0.163762</td>\n",
       "      <td>-1.066678</td>\n",
       "      <td>1.090518</td>\n",
       "      <td>-0.644874</td>\n",
       "      <td>-0.019435</td>\n",
       "      <td>1.0</td>\n",
       "      <td>Nepal</td>\n",
       "    </tr>\n",
       "    <tr>\n",
       "      <th>111</th>\n",
       "      <td>6.2</td>\n",
       "      <td>30.30</td>\n",
       "      <td>10.10</td>\n",
       "      <td>28.0</td>\n",
       "      <td>32300</td>\n",
       "      <td>3.730</td>\n",
       "      <td>80.9</td>\n",
       "      <td>2.17</td>\n",
       "      <td>33700</td>\n",
       "      <td>-0.562898</td>\n",
       "      <td>-0.022104</td>\n",
       "      <td>-0.638391</td>\n",
       "      <td>-0.532651</td>\n",
       "      <td>-0.222970</td>\n",
       "      <td>1.0</td>\n",
       "      <td>New Zealand</td>\n",
       "    </tr>\n",
       "    <tr>\n",
       "      <th>113</th>\n",
       "      <td>130.0</td>\n",
       "      <td>25.30</td>\n",
       "      <td>5.07</td>\n",
       "      <td>17.4</td>\n",
       "      <td>5150</td>\n",
       "      <td>104.000</td>\n",
       "      <td>60.5</td>\n",
       "      <td>5.84</td>\n",
       "      <td>2330</td>\n",
       "      <td>0.832420</td>\n",
       "      <td>-0.869326</td>\n",
       "      <td>-1.017693</td>\n",
       "      <td>-0.503134</td>\n",
       "      <td>0.992169</td>\n",
       "      <td>1.0</td>\n",
       "      <td>Nigeria</td>\n",
       "    </tr>\n",
       "    <tr>\n",
       "      <th>114</th>\n",
       "      <td>3.2</td>\n",
       "      <td>39.70</td>\n",
       "      <td>9.48</td>\n",
       "      <td>28.5</td>\n",
       "      <td>62300</td>\n",
       "      <td>5.950</td>\n",
       "      <td>81.0</td>\n",
       "      <td>1.95</td>\n",
       "      <td>87800</td>\n",
       "      <td>2.029724</td>\n",
       "      <td>1.050407</td>\n",
       "      <td>-0.854978</td>\n",
       "      <td>-0.371448</td>\n",
       "      <td>0.468076</td>\n",
       "      <td>1.0</td>\n",
       "      <td>Norway</td>\n",
       "    </tr>\n",
       "    <tr>\n",
       "      <th>115</th>\n",
       "      <td>11.7</td>\n",
       "      <td>65.70</td>\n",
       "      <td>2.77</td>\n",
       "      <td>41.2</td>\n",
       "      <td>45300</td>\n",
       "      <td>15.600</td>\n",
       "      <td>76.1</td>\n",
       "      <td>2.90</td>\n",
       "      <td>19300</td>\n",
       "      <td>2.279492</td>\n",
       "      <td>0.195275</td>\n",
       "      <td>-0.801535</td>\n",
       "      <td>-0.067360</td>\n",
       "      <td>0.242751</td>\n",
       "      <td>1.0</td>\n",
       "      <td>Oman</td>\n",
       "    </tr>\n",
       "    <tr>\n",
       "      <th>116</th>\n",
       "      <td>92.1</td>\n",
       "      <td>13.50</td>\n",
       "      <td>2.20</td>\n",
       "      <td>19.4</td>\n",
       "      <td>4280</td>\n",
       "      <td>10.900</td>\n",
       "      <td>65.3</td>\n",
       "      <td>3.85</td>\n",
       "      <td>1040</td>\n",
       "      <td>-0.806209</td>\n",
       "      <td>1.303491</td>\n",
       "      <td>-1.229227</td>\n",
       "      <td>-0.042362</td>\n",
       "      <td>0.773927</td>\n",
       "      <td>1.0</td>\n",
       "      <td>Pakistan</td>\n",
       "    </tr>\n",
       "    <tr>\n",
       "      <th>118</th>\n",
       "      <td>24.1</td>\n",
       "      <td>55.10</td>\n",
       "      <td>5.87</td>\n",
       "      <td>51.5</td>\n",
       "      <td>7290</td>\n",
       "      <td>6.100</td>\n",
       "      <td>74.1</td>\n",
       "      <td>2.73</td>\n",
       "      <td>3230</td>\n",
       "      <td>1.918062</td>\n",
       "      <td>-0.427468</td>\n",
       "      <td>0.140742</td>\n",
       "      <td>-0.472253</td>\n",
       "      <td>-0.128175</td>\n",
       "      <td>1.0</td>\n",
       "      <td>Paraguay</td>\n",
       "    </tr>\n",
       "    <tr>\n",
       "      <th>120</th>\n",
       "      <td>31.9</td>\n",
       "      <td>34.80</td>\n",
       "      <td>3.61</td>\n",
       "      <td>36.6</td>\n",
       "      <td>5600</td>\n",
       "      <td>4.220</td>\n",
       "      <td>69.0</td>\n",
       "      <td>3.16</td>\n",
       "      <td>2130</td>\n",
       "      <td>-0.575572</td>\n",
       "      <td>-0.997551</td>\n",
       "      <td>1.752241</td>\n",
       "      <td>-1.378030</td>\n",
       "      <td>0.465925</td>\n",
       "      <td>1.0</td>\n",
       "      <td>Philippines</td>\n",
       "    </tr>\n",
       "    <tr>\n",
       "      <th>121</th>\n",
       "      <td>6.0</td>\n",
       "      <td>40.10</td>\n",
       "      <td>7.46</td>\n",
       "      <td>42.1</td>\n",
       "      <td>21800</td>\n",
       "      <td>1.660</td>\n",
       "      <td>76.3</td>\n",
       "      <td>1.41</td>\n",
       "      <td>12600</td>\n",
       "      <td>0.026623</td>\n",
       "      <td>-0.016064</td>\n",
       "      <td>-0.038546</td>\n",
       "      <td>-1.224842</td>\n",
       "      <td>-0.267734</td>\n",
       "      <td>1.0</td>\n",
       "      <td>Poland</td>\n",
       "    </tr>\n",
       "    <tr>\n",
       "      <th>122</th>\n",
       "      <td>3.9</td>\n",
       "      <td>29.90</td>\n",
       "      <td>11.00</td>\n",
       "      <td>37.4</td>\n",
       "      <td>27200</td>\n",
       "      <td>0.643</td>\n",
       "      <td>79.8</td>\n",
       "      <td>1.39</td>\n",
       "      <td>22500</td>\n",
       "      <td>-2.319424</td>\n",
       "      <td>-0.769407</td>\n",
       "      <td>0.732740</td>\n",
       "      <td>0.492083</td>\n",
       "      <td>0.252378</td>\n",
       "      <td>1.0</td>\n",
       "      <td>Portugal</td>\n",
       "    </tr>\n",
       "    <tr>\n",
       "      <th>123</th>\n",
       "      <td>9.0</td>\n",
       "      <td>62.30</td>\n",
       "      <td>1.81</td>\n",
       "      <td>23.8</td>\n",
       "      <td>125000</td>\n",
       "      <td>6.980</td>\n",
       "      <td>79.5</td>\n",
       "      <td>2.07</td>\n",
       "      <td>70300</td>\n",
       "      <td>0.171675</td>\n",
       "      <td>-0.094808</td>\n",
       "      <td>0.012026</td>\n",
       "      <td>-0.376834</td>\n",
       "      <td>0.110104</td>\n",
       "      <td>1.0</td>\n",
       "      <td>Qatar</td>\n",
       "    </tr>\n",
       "    <tr>\n",
       "      <th>126</th>\n",
       "      <td>63.6</td>\n",
       "      <td>12.00</td>\n",
       "      <td>10.50</td>\n",
       "      <td>30.0</td>\n",
       "      <td>1350</td>\n",
       "      <td>2.610</td>\n",
       "      <td>64.6</td>\n",
       "      <td>4.51</td>\n",
       "      <td>563</td>\n",
       "      <td>-1.244464</td>\n",
       "      <td>-0.028917</td>\n",
       "      <td>-0.148159</td>\n",
       "      <td>-0.481046</td>\n",
       "      <td>0.423065</td>\n",
       "      <td>1.0</td>\n",
       "      <td>Rwanda</td>\n",
       "    </tr>\n",
       "    <tr>\n",
       "      <th>128</th>\n",
       "      <td>15.7</td>\n",
       "      <td>49.60</td>\n",
       "      <td>4.29</td>\n",
       "      <td>33.0</td>\n",
       "      <td>45400</td>\n",
       "      <td>17.200</td>\n",
       "      <td>75.1</td>\n",
       "      <td>2.96</td>\n",
       "      <td>19300</td>\n",
       "      <td>0.926093</td>\n",
       "      <td>0.828231</td>\n",
       "      <td>0.342016</td>\n",
       "      <td>-1.595199</td>\n",
       "      <td>-0.183813</td>\n",
       "      <td>1.0</td>\n",
       "      <td>Saudi Arabia</td>\n",
       "    </tr>\n",
       "    <tr>\n",
       "      <th>130</th>\n",
       "      <td>7.6</td>\n",
       "      <td>32.90</td>\n",
       "      <td>10.40</td>\n",
       "      <td>47.9</td>\n",
       "      <td>12700</td>\n",
       "      <td>5.880</td>\n",
       "      <td>74.7</td>\n",
       "      <td>1.40</td>\n",
       "      <td>5410</td>\n",
       "      <td>-0.755009</td>\n",
       "      <td>-0.087894</td>\n",
       "      <td>-0.423288</td>\n",
       "      <td>-0.854637</td>\n",
       "      <td>-0.284342</td>\n",
       "      <td>1.0</td>\n",
       "      <td>Serbia</td>\n",
       "    </tr>\n",
       "    <tr>\n",
       "      <th>131</th>\n",
       "      <td>14.4</td>\n",
       "      <td>93.80</td>\n",
       "      <td>3.40</td>\n",
       "      <td>108.0</td>\n",
       "      <td>20400</td>\n",
       "      <td>-4.210</td>\n",
       "      <td>73.4</td>\n",
       "      <td>2.17</td>\n",
       "      <td>10800</td>\n",
       "      <td>0.602232</td>\n",
       "      <td>0.173436</td>\n",
       "      <td>-0.243158</td>\n",
       "      <td>-1.117937</td>\n",
       "      <td>0.136754</td>\n",
       "      <td>1.0</td>\n",
       "      <td>Seychelles</td>\n",
       "    </tr>\n",
       "    <tr>\n",
       "      <th>132</th>\n",
       "      <td>160.0</td>\n",
       "      <td>16.80</td>\n",
       "      <td>13.10</td>\n",
       "      <td>34.5</td>\n",
       "      <td>1220</td>\n",
       "      <td>17.200</td>\n",
       "      <td>55.0</td>\n",
       "      <td>5.20</td>\n",
       "      <td>399</td>\n",
       "      <td>0.401438</td>\n",
       "      <td>-1.411990</td>\n",
       "      <td>0.225685</td>\n",
       "      <td>-0.563295</td>\n",
       "      <td>-0.079943</td>\n",
       "      <td>1.0</td>\n",
       "      <td>Sierra Leone</td>\n",
       "    </tr>\n",
       "    <tr>\n",
       "      <th>133</th>\n",
       "      <td>2.8</td>\n",
       "      <td>200.00</td>\n",
       "      <td>3.96</td>\n",
       "      <td>174.0</td>\n",
       "      <td>72100</td>\n",
       "      <td>-0.046</td>\n",
       "      <td>82.7</td>\n",
       "      <td>1.15</td>\n",
       "      <td>46600</td>\n",
       "      <td>-0.463936</td>\n",
       "      <td>1.291873</td>\n",
       "      <td>0.599238</td>\n",
       "      <td>-0.939834</td>\n",
       "      <td>-1.083441</td>\n",
       "      <td>1.0</td>\n",
       "      <td>Singapore</td>\n",
       "    </tr>\n",
       "    <tr>\n",
       "      <th>137</th>\n",
       "      <td>53.7</td>\n",
       "      <td>28.60</td>\n",
       "      <td>8.94</td>\n",
       "      <td>27.4</td>\n",
       "      <td>12000</td>\n",
       "      <td>6.350</td>\n",
       "      <td>54.3</td>\n",
       "      <td>2.59</td>\n",
       "      <td>7280</td>\n",
       "      <td>0.617313</td>\n",
       "      <td>-1.430477</td>\n",
       "      <td>-0.244437</td>\n",
       "      <td>-0.358718</td>\n",
       "      <td>0.113286</td>\n",
       "      <td>1.0</td>\n",
       "      <td>South Africa</td>\n",
       "    </tr>\n",
       "    <tr>\n",
       "      <th>138</th>\n",
       "      <td>4.1</td>\n",
       "      <td>49.40</td>\n",
       "      <td>6.93</td>\n",
       "      <td>46.2</td>\n",
       "      <td>30400</td>\n",
       "      <td>3.160</td>\n",
       "      <td>80.1</td>\n",
       "      <td>1.23</td>\n",
       "      <td>22100</td>\n",
       "      <td>-0.853529</td>\n",
       "      <td>-0.654485</td>\n",
       "      <td>0.619885</td>\n",
       "      <td>-0.722183</td>\n",
       "      <td>0.508212</td>\n",
       "      <td>1.0</td>\n",
       "      <td>South Korea</td>\n",
       "    </tr>\n",
       "    <tr>\n",
       "      <th>139</th>\n",
       "      <td>3.8</td>\n",
       "      <td>25.50</td>\n",
       "      <td>9.54</td>\n",
       "      <td>26.8</td>\n",
       "      <td>32500</td>\n",
       "      <td>0.160</td>\n",
       "      <td>81.9</td>\n",
       "      <td>1.37</td>\n",
       "      <td>30700</td>\n",
       "      <td>-0.820631</td>\n",
       "      <td>0.639570</td>\n",
       "      <td>-0.389923</td>\n",
       "      <td>-0.706595</td>\n",
       "      <td>-0.395748</td>\n",
       "      <td>1.0</td>\n",
       "      <td>Spain</td>\n",
       "    </tr>\n",
       "    <tr>\n",
       "      <th>140</th>\n",
       "      <td>11.2</td>\n",
       "      <td>19.60</td>\n",
       "      <td>2.94</td>\n",
       "      <td>26.8</td>\n",
       "      <td>8560</td>\n",
       "      <td>22.800</td>\n",
       "      <td>74.4</td>\n",
       "      <td>2.20</td>\n",
       "      <td>2810</td>\n",
       "      <td>-1.887451</td>\n",
       "      <td>-0.109453</td>\n",
       "      <td>1.109752</td>\n",
       "      <td>0.056257</td>\n",
       "      <td>0.618365</td>\n",
       "      <td>1.0</td>\n",
       "      <td>Sri Lanka</td>\n",
       "    </tr>\n",
       "  </tbody>\n",
       "</table>\n",
       "<p>92 rows × 16 columns</p>\n",
       "</div>"
      ],
      "text/plain": [
       "     child_mort  exports  health  imports  income  inflation  life_expec  \\\n",
       "1          16.6    28.00    6.55     48.6    9930      4.490        76.3   \n",
       "2          27.3    38.40    4.17     31.4   12900     16.100        76.5   \n",
       "4          10.3    45.50    6.03     58.9   19100      1.440        76.8   \n",
       "5          14.5    18.90    8.10     16.0   18700     20.900        75.8   \n",
       "6          18.1    20.80    4.40     45.3    6700      7.770        73.3   \n",
       "9          39.2    54.30    5.88     20.7   16000     13.800        69.1   \n",
       "10         13.8    35.00    7.89     43.7   22900     -0.393        73.8   \n",
       "11          8.6    69.50    4.97     50.9   41100      7.440        76.0   \n",
       "12         49.4    16.00    3.52     21.8    2440      7.140        70.4   \n",
       "13         14.2    39.50    7.97     48.7   15300      0.321        76.7   \n",
       "14          5.5    51.40    5.61     64.5   16200     15.100        70.4   \n",
       "16         18.8    58.20    5.20     57.5    7880      1.140        71.4   \n",
       "18         42.7    42.50    5.20     70.7    6420      5.990        72.1   \n",
       "19         46.6    41.20    4.84     34.3    5410      8.780        71.6   \n",
       "20          6.9    29.70   11.10     51.3    9720      1.400        76.8   \n",
       "21         52.5    43.60    8.30     51.3   13300      8.920        57.1   \n",
       "22         19.8    10.70    9.01     11.8   14500      8.410        74.2   \n",
       "23         10.5    67.40    2.84     28.0   80600     16.700        77.1   \n",
       "26         93.6     8.92   11.60     39.2     764     12.300        57.7   \n",
       "29          5.6    29.10   11.30     31.0   40700      2.870        81.3   \n",
       "32        150.0    36.80    4.53     43.5    1930      6.390        56.5   \n",
       "33          8.7    37.70    7.96     31.3   19400      8.960        79.1   \n",
       "34         15.7    26.30    5.07     22.6    9530      6.940        74.6   \n",
       "37        116.0    41.10    7.91     49.6     609     20.800        57.5   \n",
       "39         10.2    33.20   10.90     35.0   13000      6.570        80.4   \n",
       "40        111.0    50.60    5.30     43.3    2690      5.390        56.3   \n",
       "41          5.5    37.60    7.76     38.1   20100      0.821        76.3   \n",
       "43          3.4    66.00    7.88     62.9   28300     -1.430        77.5   \n",
       "44          4.1    50.50   11.40     43.6   44000      3.220        79.5   \n",
       "45         34.4    22.70    6.22     33.3   11100      5.440        74.6   \n",
       "..          ...      ...     ...      ...     ...        ...         ...   \n",
       "95          7.9    86.90    4.39     71.0   21100      7.270        74.5   \n",
       "96         13.2    77.60    6.33     65.4   10500      2.880        77.9   \n",
       "101        40.0    23.50   14.20     81.0    3340      3.800        65.4   \n",
       "102        17.2    39.20   11.70     78.5    3910     11.100        69.7   \n",
       "103        26.1    46.70    5.44     56.7    7710     39.200        66.2   \n",
       "104         6.8    37.00    9.11     62.7   14000      1.600        76.4   \n",
       "105        33.5    32.20    5.20     43.0    6440      0.976        73.5   \n",
       "106       101.0    31.50    5.21     46.2     918      7.640        54.5   \n",
       "108        56.0    47.80    6.78     60.7    8460      3.560        58.6   \n",
       "109        47.0     9.58    5.25     36.4    1990     15.100        68.3   \n",
       "111         6.2    30.30   10.10     28.0   32300      3.730        80.9   \n",
       "113       130.0    25.30    5.07     17.4    5150    104.000        60.5   \n",
       "114         3.2    39.70    9.48     28.5   62300      5.950        81.0   \n",
       "115        11.7    65.70    2.77     41.2   45300     15.600        76.1   \n",
       "116        92.1    13.50    2.20     19.4    4280     10.900        65.3   \n",
       "118        24.1    55.10    5.87     51.5    7290      6.100        74.1   \n",
       "120        31.9    34.80    3.61     36.6    5600      4.220        69.0   \n",
       "121         6.0    40.10    7.46     42.1   21800      1.660        76.3   \n",
       "122         3.9    29.90   11.00     37.4   27200      0.643        79.8   \n",
       "123         9.0    62.30    1.81     23.8  125000      6.980        79.5   \n",
       "126        63.6    12.00   10.50     30.0    1350      2.610        64.6   \n",
       "128        15.7    49.60    4.29     33.0   45400     17.200        75.1   \n",
       "130         7.6    32.90   10.40     47.9   12700      5.880        74.7   \n",
       "131        14.4    93.80    3.40    108.0   20400     -4.210        73.4   \n",
       "132       160.0    16.80   13.10     34.5    1220     17.200        55.0   \n",
       "133         2.8   200.00    3.96    174.0   72100     -0.046        82.7   \n",
       "137        53.7    28.60    8.94     27.4   12000      6.350        54.3   \n",
       "138         4.1    49.40    6.93     46.2   30400      3.160        80.1   \n",
       "139         3.8    25.50    9.54     26.8   32500      0.160        81.9   \n",
       "140        11.2    19.60    2.94     26.8    8560     22.800        74.4   \n",
       "\n",
       "     total_fer   gdpp       PC1       PC2       PC3       PC4       PC5  \\\n",
       "1         1.65   4090  0.429911 -0.588156 -0.333486 -1.161059  0.174677   \n",
       "2         2.89   4460 -0.285225 -0.455174  1.221505 -0.868115  0.156475   \n",
       "4         2.13  12200  1.033576  0.136659 -0.225721 -0.847063 -0.193007   \n",
       "5         2.37  10300  0.022407 -1.779187  0.869997 -0.036967  0.981057   \n",
       "6         1.69   3220 -0.101584 -0.568252  0.242092 -1.466266 -0.055992   \n",
       "9         1.92   5840 -0.181487 -0.402866  0.867459 -0.438773  0.137350   \n",
       "10        1.86  28000  1.268744 -0.656588 -0.488098  0.055634 -0.380250   \n",
       "11        2.16  20700  1.670996  0.561162  0.991258 -0.207080 -0.392572   \n",
       "12        2.33    758 -1.123851 -0.961397  0.526615 -1.197201 -0.669166   \n",
       "13        1.78  16000  1.081374 -0.481970 -0.664355 -0.522505  0.002624   \n",
       "14        1.49   6030  0.580025  0.535327  0.486228 -1.035275  0.823342   \n",
       "16        2.71   4340  0.211255  0.699243 -0.275561 -1.095627 -0.290226   \n",
       "18        2.38   2180 -0.156571  0.777396 -0.277344 -1.038650  0.123066   \n",
       "19        3.20   1980 -0.793852 -0.120261  0.400741 -0.724703 -0.224663   \n",
       "20        1.31   4610  0.995867 -0.971888 -1.528328 -0.620885  0.932763   \n",
       "21        2.88   6350 -0.882088  0.457368 -0.584633  0.406161  0.306573   \n",
       "22        1.80  11200  0.140781 -2.151077 -0.172635 -0.166920  0.298665   \n",
       "23        1.84  35300  0.906595  0.030278 -0.471204 -0.994661  0.005377   \n",
       "26        6.26    231 -0.582412  0.894820 -0.498705 -0.805234 -0.136155   \n",
       "29        1.63  47400 -0.155801  0.351235 -0.292087 -1.343741 -0.530348   \n",
       "32        6.59    897  0.951656 -1.076428  0.150821 -0.436634  0.420118   \n",
       "33        1.88  12900  0.057482 -1.189997  0.427315 -1.277179 -0.228828   \n",
       "34        1.59   4560  0.121146 -1.768909 -0.245606 -0.715209 -0.095940   \n",
       "37        6.54    334  0.937827 -1.350472 -0.821130 -0.259855  0.978371   \n",
       "39        1.92   8200  1.148863 -0.844812 -0.409713 -0.622923 -0.104121   \n",
       "40        5.27   1220  2.174455 -0.004510  0.257320 -0.311857 -0.414668   \n",
       "41        1.55  13500  2.053263  0.423198 -0.543336 -0.411736 -0.052347   \n",
       "43        1.51  19800 -0.231103 -0.880641 -0.036736 -0.653433 -0.205497   \n",
       "44        1.87  58000  0.009618 -1.045221 -0.273292 -0.488514  0.371300   \n",
       "45        2.60   5450 -0.848187 -0.819819  0.583290 -0.745231 -0.294916   \n",
       "..         ...    ...       ...       ...       ...       ...       ...   \n",
       "95        2.15   9070 -1.043375  1.002841 -0.732535  0.091483 -0.223448   \n",
       "96        2.23   7100 -1.307090 -0.789049  0.389811 -0.753699  0.305714   \n",
       "101       3.46   2860 -2.360347 -0.479400  1.013555 -0.421710 -1.098812   \n",
       "102       1.27   1630  1.163784  1.115276 -0.790119 -0.545194  0.549372   \n",
       "103       2.64   2650  0.117846  0.361031 -0.046672 -0.946839  0.130347   \n",
       "104       1.77   6680 -0.020635 -1.086617  0.404349 -1.069622 -0.368765   \n",
       "105       2.58   2830 -0.782746 -0.096498  0.309094 -1.082358 -0.726077   \n",
       "106       5.56    419  1.217828 -0.659169 -0.311232 -0.695175 -0.058905   \n",
       "108       3.60   5190  0.572793 -0.637385  0.086351 -1.029839 -0.314844   \n",
       "109       2.61    592  0.163762 -1.066678  1.090518 -0.644874 -0.019435   \n",
       "111       2.17  33700 -0.562898 -0.022104 -0.638391 -0.532651 -0.222970   \n",
       "113       5.84   2330  0.832420 -0.869326 -1.017693 -0.503134  0.992169   \n",
       "114       1.95  87800  2.029724  1.050407 -0.854978 -0.371448  0.468076   \n",
       "115       2.90  19300  2.279492  0.195275 -0.801535 -0.067360  0.242751   \n",
       "116       3.85   1040 -0.806209  1.303491 -1.229227 -0.042362  0.773927   \n",
       "118       2.73   3230  1.918062 -0.427468  0.140742 -0.472253 -0.128175   \n",
       "120       3.16   2130 -0.575572 -0.997551  1.752241 -1.378030  0.465925   \n",
       "121       1.41  12600  0.026623 -0.016064 -0.038546 -1.224842 -0.267734   \n",
       "122       1.39  22500 -2.319424 -0.769407  0.732740  0.492083  0.252378   \n",
       "123       2.07  70300  0.171675 -0.094808  0.012026 -0.376834  0.110104   \n",
       "126       4.51    563 -1.244464 -0.028917 -0.148159 -0.481046  0.423065   \n",
       "128       2.96  19300  0.926093  0.828231  0.342016 -1.595199 -0.183813   \n",
       "130       1.40   5410 -0.755009 -0.087894 -0.423288 -0.854637 -0.284342   \n",
       "131       2.17  10800  0.602232  0.173436 -0.243158 -1.117937  0.136754   \n",
       "132       5.20    399  0.401438 -1.411990  0.225685 -0.563295 -0.079943   \n",
       "133       1.15  46600 -0.463936  1.291873  0.599238 -0.939834 -1.083441   \n",
       "137       2.59   7280  0.617313 -1.430477 -0.244437 -0.358718  0.113286   \n",
       "138       1.23  22100 -0.853529 -0.654485  0.619885 -0.722183  0.508212   \n",
       "139       1.37  30700 -0.820631  0.639570 -0.389923 -0.706595 -0.395748   \n",
       "140       2.20   2810 -1.887451 -0.109453  1.109752  0.056257  0.618365   \n",
       "\n",
       "     labelfor_cluster                 country  \n",
       "1                 1.0                 Albania  \n",
       "2                 1.0                 Algeria  \n",
       "4                 1.0     Antigua and Barbuda  \n",
       "5                 1.0               Argentina  \n",
       "6                 1.0                 Armenia  \n",
       "9                 1.0              Azerbaijan  \n",
       "10                1.0                 Bahamas  \n",
       "11                1.0                 Bahrain  \n",
       "12                1.0              Bangladesh  \n",
       "13                1.0                Barbados  \n",
       "14                1.0                 Belarus  \n",
       "16                1.0                  Belize  \n",
       "18                1.0                  Bhutan  \n",
       "19                1.0                 Bolivia  \n",
       "20                1.0  Bosnia and Herzegovina  \n",
       "21                1.0                Botswana  \n",
       "22                1.0                  Brazil  \n",
       "23                1.0                  Brunei  \n",
       "26                1.0                 Burundi  \n",
       "29                1.0                  Canada  \n",
       "32                1.0                    Chad  \n",
       "33                1.0                   Chile  \n",
       "34                1.0                   China  \n",
       "37                1.0        Congo, Dem. Rep.  \n",
       "39                1.0              Costa Rica  \n",
       "40                1.0           Cote d'Ivoire  \n",
       "41                1.0                 Croatia  \n",
       "43                1.0          Czech Republic  \n",
       "44                1.0                 Denmark  \n",
       "45                1.0      Dominican Republic  \n",
       "..                ...                     ...  \n",
       "95                1.0                Malaysia  \n",
       "96                1.0                Maldives  \n",
       "101               1.0   Micronesia, Fed. Sts.  \n",
       "102               1.0                 Moldova  \n",
       "103               1.0                Mongolia  \n",
       "104               1.0              Montenegro  \n",
       "105               1.0                 Morocco  \n",
       "106               1.0              Mozambique  \n",
       "108               1.0                 Namibia  \n",
       "109               1.0                   Nepal  \n",
       "111               1.0             New Zealand  \n",
       "113               1.0                 Nigeria  \n",
       "114               1.0                  Norway  \n",
       "115               1.0                    Oman  \n",
       "116               1.0                Pakistan  \n",
       "118               1.0                Paraguay  \n",
       "120               1.0             Philippines  \n",
       "121               1.0                  Poland  \n",
       "122               1.0                Portugal  \n",
       "123               1.0                   Qatar  \n",
       "126               1.0                  Rwanda  \n",
       "128               1.0            Saudi Arabia  \n",
       "130               1.0                  Serbia  \n",
       "131               1.0              Seychelles  \n",
       "132               1.0            Sierra Leone  \n",
       "133               1.0               Singapore  \n",
       "137               1.0            South Africa  \n",
       "138               1.0             South Korea  \n",
       "139               1.0                   Spain  \n",
       "140               1.0               Sri Lanka  \n",
       "\n",
       "[92 rows x 16 columns]"
      ]
     },
     "execution_count": 75,
     "metadata": {},
     "output_type": "execute_result"
    }
   ],
   "source": [
    "# analyzing countries present in cluster-1 (herarchelclustering)\n",
    "z =  main_df['labelfor_cluster']==1.0\n",
    "main_df[z]"
   ]
  },
  {
   "cell_type": "code",
   "execution_count": 76,
   "metadata": {
    "scrolled": true
   },
   "outputs": [
    {
     "data": {
      "text/html": [
       "<div>\n",
       "<style scoped>\n",
       "    .dataframe tbody tr th:only-of-type {\n",
       "        vertical-align: middle;\n",
       "    }\n",
       "\n",
       "    .dataframe tbody tr th {\n",
       "        vertical-align: top;\n",
       "    }\n",
       "\n",
       "    .dataframe thead th {\n",
       "        text-align: right;\n",
       "    }\n",
       "</style>\n",
       "<table border=\"1\" class=\"dataframe\">\n",
       "  <thead>\n",
       "    <tr style=\"text-align: right;\">\n",
       "      <th></th>\n",
       "      <th>child_mort</th>\n",
       "      <th>exports</th>\n",
       "      <th>health</th>\n",
       "      <th>imports</th>\n",
       "      <th>income</th>\n",
       "      <th>inflation</th>\n",
       "      <th>life_expec</th>\n",
       "      <th>total_fer</th>\n",
       "      <th>gdpp</th>\n",
       "      <th>PC1</th>\n",
       "      <th>PC2</th>\n",
       "      <th>PC3</th>\n",
       "      <th>PC4</th>\n",
       "      <th>PC5</th>\n",
       "      <th>labelfor_cluster</th>\n",
       "      <th>country</th>\n",
       "    </tr>\n",
       "  </thead>\n",
       "  <tbody>\n",
       "    <tr>\n",
       "      <th>7</th>\n",
       "      <td>4.8</td>\n",
       "      <td>19.800</td>\n",
       "      <td>8.73</td>\n",
       "      <td>20.9000</td>\n",
       "      <td>41400</td>\n",
       "      <td>1.160</td>\n",
       "      <td>82.0</td>\n",
       "      <td>1.93</td>\n",
       "      <td>51900</td>\n",
       "      <td>2.342165</td>\n",
       "      <td>-1.988459</td>\n",
       "      <td>0.190344</td>\n",
       "      <td>1.105038</td>\n",
       "      <td>-0.731192</td>\n",
       "      <td>2.0</td>\n",
       "      <td>Australia</td>\n",
       "    </tr>\n",
       "    <tr>\n",
       "      <th>8</th>\n",
       "      <td>4.3</td>\n",
       "      <td>51.300</td>\n",
       "      <td>11.00</td>\n",
       "      <td>47.8000</td>\n",
       "      <td>43200</td>\n",
       "      <td>0.873</td>\n",
       "      <td>80.5</td>\n",
       "      <td>1.44</td>\n",
       "      <td>46900</td>\n",
       "      <td>2.973764</td>\n",
       "      <td>-0.734689</td>\n",
       "      <td>-0.519766</td>\n",
       "      <td>1.205442</td>\n",
       "      <td>0.083580</td>\n",
       "      <td>2.0</td>\n",
       "      <td>Austria</td>\n",
       "    </tr>\n",
       "    <tr>\n",
       "      <th>15</th>\n",
       "      <td>4.5</td>\n",
       "      <td>76.400</td>\n",
       "      <td>10.70</td>\n",
       "      <td>74.7000</td>\n",
       "      <td>41100</td>\n",
       "      <td>1.880</td>\n",
       "      <td>80.0</td>\n",
       "      <td>1.86</td>\n",
       "      <td>44400</td>\n",
       "      <td>3.143786</td>\n",
       "      <td>0.663548</td>\n",
       "      <td>-0.645228</td>\n",
       "      <td>1.094898</td>\n",
       "      <td>0.439734</td>\n",
       "      <td>2.0</td>\n",
       "      <td>Belgium</td>\n",
       "    </tr>\n",
       "    <tr>\n",
       "      <th>28</th>\n",
       "      <td>108.0</td>\n",
       "      <td>22.200</td>\n",
       "      <td>5.13</td>\n",
       "      <td>27.0000</td>\n",
       "      <td>2660</td>\n",
       "      <td>1.910</td>\n",
       "      <td>57.3</td>\n",
       "      <td>5.11</td>\n",
       "      <td>1310</td>\n",
       "      <td>2.543631</td>\n",
       "      <td>-1.727095</td>\n",
       "      <td>-0.396281</td>\n",
       "      <td>1.336853</td>\n",
       "      <td>0.065723</td>\n",
       "      <td>2.0</td>\n",
       "      <td>Cameroon</td>\n",
       "    </tr>\n",
       "    <tr>\n",
       "      <th>42</th>\n",
       "      <td>3.6</td>\n",
       "      <td>50.200</td>\n",
       "      <td>5.97</td>\n",
       "      <td>57.5000</td>\n",
       "      <td>33900</td>\n",
       "      <td>2.010</td>\n",
       "      <td>79.9</td>\n",
       "      <td>1.42</td>\n",
       "      <td>30800</td>\n",
       "      <td>3.010492</td>\n",
       "      <td>-0.865549</td>\n",
       "      <td>-0.335752</td>\n",
       "      <td>1.787223</td>\n",
       "      <td>0.102687</td>\n",
       "      <td>2.0</td>\n",
       "      <td>Cyprus</td>\n",
       "    </tr>\n",
       "    <tr>\n",
       "      <th>50</th>\n",
       "      <td>55.2</td>\n",
       "      <td>4.790</td>\n",
       "      <td>2.66</td>\n",
       "      <td>23.3000</td>\n",
       "      <td>1420</td>\n",
       "      <td>11.600</td>\n",
       "      <td>61.7</td>\n",
       "      <td>4.61</td>\n",
       "      <td>482</td>\n",
       "      <td>2.458960</td>\n",
       "      <td>-1.076143</td>\n",
       "      <td>-0.100439</td>\n",
       "      <td>0.899328</td>\n",
       "      <td>-0.464733</td>\n",
       "      <td>2.0</td>\n",
       "      <td>Eritrea</td>\n",
       "    </tr>\n",
       "    <tr>\n",
       "      <th>51</th>\n",
       "      <td>4.5</td>\n",
       "      <td>75.100</td>\n",
       "      <td>6.03</td>\n",
       "      <td>68.7000</td>\n",
       "      <td>22700</td>\n",
       "      <td>1.740</td>\n",
       "      <td>76.0</td>\n",
       "      <td>1.72</td>\n",
       "      <td>14600</td>\n",
       "      <td>2.254271</td>\n",
       "      <td>-1.866638</td>\n",
       "      <td>-0.711988</td>\n",
       "      <td>1.230005</td>\n",
       "      <td>0.107391</td>\n",
       "      <td>2.0</td>\n",
       "      <td>Estonia</td>\n",
       "    </tr>\n",
       "    <tr>\n",
       "      <th>54</th>\n",
       "      <td>4.2</td>\n",
       "      <td>26.800</td>\n",
       "      <td>11.90</td>\n",
       "      <td>28.1000</td>\n",
       "      <td>36900</td>\n",
       "      <td>1.050</td>\n",
       "      <td>81.4</td>\n",
       "      <td>2.03</td>\n",
       "      <td>40600</td>\n",
       "      <td>2.671422</td>\n",
       "      <td>-1.273610</td>\n",
       "      <td>-0.656171</td>\n",
       "      <td>1.125993</td>\n",
       "      <td>0.143391</td>\n",
       "      <td>2.0</td>\n",
       "      <td>France</td>\n",
       "    </tr>\n",
       "    <tr>\n",
       "      <th>56</th>\n",
       "      <td>80.3</td>\n",
       "      <td>23.800</td>\n",
       "      <td>5.69</td>\n",
       "      <td>42.7000</td>\n",
       "      <td>1660</td>\n",
       "      <td>4.300</td>\n",
       "      <td>65.5</td>\n",
       "      <td>5.71</td>\n",
       "      <td>562</td>\n",
       "      <td>1.779493</td>\n",
       "      <td>-1.765397</td>\n",
       "      <td>-0.684198</td>\n",
       "      <td>0.262702</td>\n",
       "      <td>0.075643</td>\n",
       "      <td>2.0</td>\n",
       "      <td>Gambia</td>\n",
       "    </tr>\n",
       "    <tr>\n",
       "      <th>63</th>\n",
       "      <td>109.0</td>\n",
       "      <td>30.300</td>\n",
       "      <td>4.93</td>\n",
       "      <td>43.2000</td>\n",
       "      <td>1190</td>\n",
       "      <td>16.100</td>\n",
       "      <td>58.0</td>\n",
       "      <td>5.34</td>\n",
       "      <td>648</td>\n",
       "      <td>2.480924</td>\n",
       "      <td>-0.634702</td>\n",
       "      <td>0.103795</td>\n",
       "      <td>0.919853</td>\n",
       "      <td>0.112795</td>\n",
       "      <td>2.0</td>\n",
       "      <td>Guinea</td>\n",
       "    </tr>\n",
       "    <tr>\n",
       "      <th>69</th>\n",
       "      <td>58.8</td>\n",
       "      <td>22.600</td>\n",
       "      <td>4.05</td>\n",
       "      <td>27.1000</td>\n",
       "      <td>4410</td>\n",
       "      <td>8.980</td>\n",
       "      <td>66.2</td>\n",
       "      <td>2.60</td>\n",
       "      <td>1350</td>\n",
       "      <td>2.165810</td>\n",
       "      <td>-1.772485</td>\n",
       "      <td>-0.284184</td>\n",
       "      <td>0.516712</td>\n",
       "      <td>-0.291458</td>\n",
       "      <td>2.0</td>\n",
       "      <td>India</td>\n",
       "    </tr>\n",
       "    <tr>\n",
       "      <th>71</th>\n",
       "      <td>19.3</td>\n",
       "      <td>24.400</td>\n",
       "      <td>5.60</td>\n",
       "      <td>19.4000</td>\n",
       "      <td>17400</td>\n",
       "      <td>15.900</td>\n",
       "      <td>74.5</td>\n",
       "      <td>1.76</td>\n",
       "      <td>6530</td>\n",
       "      <td>2.265882</td>\n",
       "      <td>-2.435594</td>\n",
       "      <td>-0.229699</td>\n",
       "      <td>0.712566</td>\n",
       "      <td>-0.672507</td>\n",
       "      <td>2.0</td>\n",
       "      <td>Iran</td>\n",
       "    </tr>\n",
       "    <tr>\n",
       "      <th>97</th>\n",
       "      <td>137.0</td>\n",
       "      <td>22.800</td>\n",
       "      <td>4.98</td>\n",
       "      <td>35.1000</td>\n",
       "      <td>1870</td>\n",
       "      <td>4.370</td>\n",
       "      <td>59.5</td>\n",
       "      <td>6.55</td>\n",
       "      <td>708</td>\n",
       "      <td>3.379157</td>\n",
       "      <td>0.115702</td>\n",
       "      <td>-0.738130</td>\n",
       "      <td>1.543035</td>\n",
       "      <td>0.370062</td>\n",
       "      <td>2.0</td>\n",
       "      <td>Mali</td>\n",
       "    </tr>\n",
       "    <tr>\n",
       "      <th>98</th>\n",
       "      <td>6.8</td>\n",
       "      <td>153.000</td>\n",
       "      <td>8.65</td>\n",
       "      <td>154.0000</td>\n",
       "      <td>28300</td>\n",
       "      <td>3.830</td>\n",
       "      <td>80.3</td>\n",
       "      <td>1.36</td>\n",
       "      <td>21100</td>\n",
       "      <td>1.815747</td>\n",
       "      <td>-1.584724</td>\n",
       "      <td>-0.261355</td>\n",
       "      <td>0.735652</td>\n",
       "      <td>0.055158</td>\n",
       "      <td>2.0</td>\n",
       "      <td>Malta</td>\n",
       "    </tr>\n",
       "    <tr>\n",
       "      <th>100</th>\n",
       "      <td>15.0</td>\n",
       "      <td>51.200</td>\n",
       "      <td>6.00</td>\n",
       "      <td>62.2000</td>\n",
       "      <td>15900</td>\n",
       "      <td>1.130</td>\n",
       "      <td>73.4</td>\n",
       "      <td>1.57</td>\n",
       "      <td>8000</td>\n",
       "      <td>3.721195</td>\n",
       "      <td>-1.447255</td>\n",
       "      <td>0.888029</td>\n",
       "      <td>2.764339</td>\n",
       "      <td>-0.772032</td>\n",
       "      <td>2.0</td>\n",
       "      <td>Mauritius</td>\n",
       "    </tr>\n",
       "    <tr>\n",
       "      <th>107</th>\n",
       "      <td>64.4</td>\n",
       "      <td>0.109</td>\n",
       "      <td>1.97</td>\n",
       "      <td>0.0659</td>\n",
       "      <td>3720</td>\n",
       "      <td>7.040</td>\n",
       "      <td>66.8</td>\n",
       "      <td>2.41</td>\n",
       "      <td>988</td>\n",
       "      <td>1.814067</td>\n",
       "      <td>-1.450887</td>\n",
       "      <td>-0.942487</td>\n",
       "      <td>0.193792</td>\n",
       "      <td>0.356755</td>\n",
       "      <td>2.0</td>\n",
       "      <td>Myanmar</td>\n",
       "    </tr>\n",
       "    <tr>\n",
       "      <th>119</th>\n",
       "      <td>20.3</td>\n",
       "      <td>27.800</td>\n",
       "      <td>5.08</td>\n",
       "      <td>23.8000</td>\n",
       "      <td>9960</td>\n",
       "      <td>5.710</td>\n",
       "      <td>77.9</td>\n",
       "      <td>2.54</td>\n",
       "      <td>5020</td>\n",
       "      <td>2.019197</td>\n",
       "      <td>-1.784382</td>\n",
       "      <td>-0.380316</td>\n",
       "      <td>0.264389</td>\n",
       "      <td>-0.194744</td>\n",
       "      <td>2.0</td>\n",
       "      <td>Peru</td>\n",
       "    </tr>\n",
       "    <tr>\n",
       "      <th>124</th>\n",
       "      <td>11.5</td>\n",
       "      <td>32.600</td>\n",
       "      <td>5.58</td>\n",
       "      <td>38.8000</td>\n",
       "      <td>17800</td>\n",
       "      <td>3.530</td>\n",
       "      <td>73.7</td>\n",
       "      <td>1.59</td>\n",
       "      <td>8230</td>\n",
       "      <td>2.818323</td>\n",
       "      <td>-0.914481</td>\n",
       "      <td>-0.101807</td>\n",
       "      <td>1.242279</td>\n",
       "      <td>-0.331557</td>\n",
       "      <td>2.0</td>\n",
       "      <td>Romania</td>\n",
       "    </tr>\n",
       "    <tr>\n",
       "      <th>125</th>\n",
       "      <td>10.0</td>\n",
       "      <td>29.200</td>\n",
       "      <td>5.08</td>\n",
       "      <td>21.1000</td>\n",
       "      <td>23100</td>\n",
       "      <td>14.200</td>\n",
       "      <td>69.2</td>\n",
       "      <td>1.57</td>\n",
       "      <td>10700</td>\n",
       "      <td>4.088544</td>\n",
       "      <td>-0.429462</td>\n",
       "      <td>-0.261547</td>\n",
       "      <td>2.307087</td>\n",
       "      <td>-0.193122</td>\n",
       "      <td>2.0</td>\n",
       "      <td>Russia</td>\n",
       "    </tr>\n",
       "    <tr>\n",
       "      <th>135</th>\n",
       "      <td>3.2</td>\n",
       "      <td>64.300</td>\n",
       "      <td>9.41</td>\n",
       "      <td>62.9000</td>\n",
       "      <td>28700</td>\n",
       "      <td>-0.987</td>\n",
       "      <td>79.5</td>\n",
       "      <td>1.57</td>\n",
       "      <td>23400</td>\n",
       "      <td>2.067990</td>\n",
       "      <td>-1.535313</td>\n",
       "      <td>-0.252772</td>\n",
       "      <td>0.791524</td>\n",
       "      <td>-0.235301</td>\n",
       "      <td>2.0</td>\n",
       "      <td>Slovenia</td>\n",
       "    </tr>\n",
       "    <tr>\n",
       "      <th>136</th>\n",
       "      <td>28.1</td>\n",
       "      <td>49.300</td>\n",
       "      <td>8.55</td>\n",
       "      <td>81.2000</td>\n",
       "      <td>1780</td>\n",
       "      <td>6.810</td>\n",
       "      <td>61.7</td>\n",
       "      <td>4.24</td>\n",
       "      <td>1290</td>\n",
       "      <td>2.641206</td>\n",
       "      <td>-2.997364</td>\n",
       "      <td>-1.721878</td>\n",
       "      <td>2.827110</td>\n",
       "      <td>0.818656</td>\n",
       "      <td>2.0</td>\n",
       "      <td>Solomon Islands</td>\n",
       "    </tr>\n",
       "  </tbody>\n",
       "</table>\n",
       "</div>"
      ],
      "text/plain": [
       "     child_mort  exports  health   imports  income  inflation  life_expec  \\\n",
       "7           4.8   19.800    8.73   20.9000   41400      1.160        82.0   \n",
       "8           4.3   51.300   11.00   47.8000   43200      0.873        80.5   \n",
       "15          4.5   76.400   10.70   74.7000   41100      1.880        80.0   \n",
       "28        108.0   22.200    5.13   27.0000    2660      1.910        57.3   \n",
       "42          3.6   50.200    5.97   57.5000   33900      2.010        79.9   \n",
       "50         55.2    4.790    2.66   23.3000    1420     11.600        61.7   \n",
       "51          4.5   75.100    6.03   68.7000   22700      1.740        76.0   \n",
       "54          4.2   26.800   11.90   28.1000   36900      1.050        81.4   \n",
       "56         80.3   23.800    5.69   42.7000    1660      4.300        65.5   \n",
       "63        109.0   30.300    4.93   43.2000    1190     16.100        58.0   \n",
       "69         58.8   22.600    4.05   27.1000    4410      8.980        66.2   \n",
       "71         19.3   24.400    5.60   19.4000   17400     15.900        74.5   \n",
       "97        137.0   22.800    4.98   35.1000    1870      4.370        59.5   \n",
       "98          6.8  153.000    8.65  154.0000   28300      3.830        80.3   \n",
       "100        15.0   51.200    6.00   62.2000   15900      1.130        73.4   \n",
       "107        64.4    0.109    1.97    0.0659    3720      7.040        66.8   \n",
       "119        20.3   27.800    5.08   23.8000    9960      5.710        77.9   \n",
       "124        11.5   32.600    5.58   38.8000   17800      3.530        73.7   \n",
       "125        10.0   29.200    5.08   21.1000   23100     14.200        69.2   \n",
       "135         3.2   64.300    9.41   62.9000   28700     -0.987        79.5   \n",
       "136        28.1   49.300    8.55   81.2000    1780      6.810        61.7   \n",
       "\n",
       "     total_fer   gdpp       PC1       PC2       PC3       PC4       PC5  \\\n",
       "7         1.93  51900  2.342165 -1.988459  0.190344  1.105038 -0.731192   \n",
       "8         1.44  46900  2.973764 -0.734689 -0.519766  1.205442  0.083580   \n",
       "15        1.86  44400  3.143786  0.663548 -0.645228  1.094898  0.439734   \n",
       "28        5.11   1310  2.543631 -1.727095 -0.396281  1.336853  0.065723   \n",
       "42        1.42  30800  3.010492 -0.865549 -0.335752  1.787223  0.102687   \n",
       "50        4.61    482  2.458960 -1.076143 -0.100439  0.899328 -0.464733   \n",
       "51        1.72  14600  2.254271 -1.866638 -0.711988  1.230005  0.107391   \n",
       "54        2.03  40600  2.671422 -1.273610 -0.656171  1.125993  0.143391   \n",
       "56        5.71    562  1.779493 -1.765397 -0.684198  0.262702  0.075643   \n",
       "63        5.34    648  2.480924 -0.634702  0.103795  0.919853  0.112795   \n",
       "69        2.60   1350  2.165810 -1.772485 -0.284184  0.516712 -0.291458   \n",
       "71        1.76   6530  2.265882 -2.435594 -0.229699  0.712566 -0.672507   \n",
       "97        6.55    708  3.379157  0.115702 -0.738130  1.543035  0.370062   \n",
       "98        1.36  21100  1.815747 -1.584724 -0.261355  0.735652  0.055158   \n",
       "100       1.57   8000  3.721195 -1.447255  0.888029  2.764339 -0.772032   \n",
       "107       2.41    988  1.814067 -1.450887 -0.942487  0.193792  0.356755   \n",
       "119       2.54   5020  2.019197 -1.784382 -0.380316  0.264389 -0.194744   \n",
       "124       1.59   8230  2.818323 -0.914481 -0.101807  1.242279 -0.331557   \n",
       "125       1.57  10700  4.088544 -0.429462 -0.261547  2.307087 -0.193122   \n",
       "135       1.57  23400  2.067990 -1.535313 -0.252772  0.791524 -0.235301   \n",
       "136       4.24   1290  2.641206 -2.997364 -1.721878  2.827110  0.818656   \n",
       "\n",
       "     labelfor_cluster          country  \n",
       "7                 2.0        Australia  \n",
       "8                 2.0          Austria  \n",
       "15                2.0          Belgium  \n",
       "28                2.0         Cameroon  \n",
       "42                2.0           Cyprus  \n",
       "50                2.0          Eritrea  \n",
       "51                2.0          Estonia  \n",
       "54                2.0           France  \n",
       "56                2.0           Gambia  \n",
       "63                2.0           Guinea  \n",
       "69                2.0            India  \n",
       "71                2.0             Iran  \n",
       "97                2.0             Mali  \n",
       "98                2.0            Malta  \n",
       "100               2.0        Mauritius  \n",
       "107               2.0          Myanmar  \n",
       "119               2.0             Peru  \n",
       "124               2.0          Romania  \n",
       "125               2.0           Russia  \n",
       "135               2.0         Slovenia  \n",
       "136               2.0  Solomon Islands  "
      ]
     },
     "execution_count": 76,
     "metadata": {},
     "output_type": "execute_result"
    }
   ],
   "source": [
    "# analyzing countries present in cluster-2 (herarchelclustering)\n",
    "x = main_df['labelfor_cluster']==2.0\n",
    "main_df[x]"
   ]
  },
  {
   "cell_type": "markdown",
   "metadata": {},
   "source": [
    "### After analysis of data & applying KMeans & Hierarchical clustering we observe slightly different results as mension below :\n",
    "\n",
    "#### After performing KMeans clustering we get\n",
    "\n",
    "- 41 no. of countries are present in cluster-0\n",
    "\n",
    "- 78 no. of countries are present in cluster-1\n",
    "\n",
    "- 23 no. of countries are present in cluster-2\n",
    "\n",
    "#### After performing Hierarchical clustering we get :\n",
    "\n",
    "- 29 no. of countries are present in cluster-0\n",
    "\n",
    "- 92 no. of countries are present in cluster-1\n",
    "\n",
    "- 21 no. of countries are present in cluster-2\n",
    "\n",
    "\n",
    "### After analysis we are opting for the hierarchial clustering method as there is comparitively low data points in the cluster_0 as compare to Kmeans clustering. In the problem statement it is mentioned that we have to do analysis by considering some features only soch as GDP, INCOME & CHILD MORTALITY RATE. So I will now group the countries acoording to the child mortality rate, GDP and income of the country."
   ]
  },
  {
   "cell_type": "markdown",
   "metadata": {},
   "source": [
    "### According to the above tables for cluster-0 (hierarrichal clustering) the top five countries that require dire need aid are:\n",
    "- Central Afrian Republic (having 149 child mortality)\n",
    "- Niger                   (having 123 child mortality)\n",
    "- Angola                  (having 119 child mortality)\n",
    "- Burkina Faso            (having 116 child mortality)\n",
    "- Benin                   (having 111 child mortality)\n",
    "\n"
   ]
  },
  {
   "cell_type": "markdown",
   "metadata": {},
   "source": [
    "### According  to the above tables for cluster-1 (hierarrichal clustering) the top five countries that require dire need aid are:\n",
    "- Sierra Leone            (having 160 child mortality)\n",
    "- Chad                    (having 150 child mortality)\n",
    "- Nigerria                (having 130 child mortality)\n",
    "- Congo demo rep          (having 116 child mortality)\n",
    "- Cote d Ivoire           (having 111 child mortality)\n",
    "\n",
    "\n",
    "\n",
    "\n",
    "\n"
   ]
  },
  {
   "cell_type": "markdown",
   "metadata": {},
   "source": [
    "### According  to the above tables for cluster-2 (hierarrichal clustering) the top five countries that require dire need aid are:\n",
    "- Malli                   (having 137 child mortality)\n",
    "- Guinea                  (having 109 child mortality)\n",
    "- Cameron                 (having 108 child mortality)\n",
    "- Gambia                  (having 80  child mortality)\n",
    "- Myanmar                 (having 64  child mortality)\n",
    "\n"
   ]
  },
  {
   "cell_type": "markdown",
   "metadata": {},
   "source": [
    "### These are the top countries that are in dire need of aid are:\n",
    "    \n",
    "- Chad (having 150 child mortality)\n",
    "- Sierra Leone (having 160 child mortality)\n",
    "- Central Afrian Republic (having 149 child mortality)\n",
    "- Malli (having 137 child mortality)\n",
    "- Nigerria (having 130 child mortality)\n",
    "- Niger (having 123 child mortality)\n",
    "- Angola (having 119 child mortality)\n",
    "- Burkina Faso (having 116 child mortality)\n",
    "- Congo demo rep (having 116 child mortality)\n",
    "- Benin (having 111 child mortality)\n",
    "- Cote d Ivoire (having 111 child mortality)\n",
    "- Guinea (having 109 child mortality)\n",
    "- Cameron (having 108 child mortality)\n",
    "- Gambia (having 80 child mortality)\n",
    "- Myanmar (having 64 child mortality)\n",
    "\n",
    "\n",
    "\n"
   ]
  },
  {
   "cell_type": "markdown",
   "metadata": {},
   "source": [
    "### OBSERVATION: Here the child mortality rate is very high  on the other hand GDP, income of  people is very low this will definately play an important role for the high child mortality rate. These countries seriously need financial aid so that they bring down the child mortality rate."
   ]
  },
  {
   "cell_type": "code",
   "execution_count": null,
   "metadata": {},
   "outputs": [],
   "source": []
  }
 ],
 "metadata": {
  "kernelspec": {
   "display_name": "Python 3",
   "language": "python",
   "name": "python3"
  },
  "language_info": {
   "codemirror_mode": {
    "name": "ipython",
    "version": 3
   },
   "file_extension": ".py",
   "mimetype": "text/x-python",
   "name": "python",
   "nbconvert_exporter": "python",
   "pygments_lexer": "ipython3",
   "version": "3.7.3"
  }
 },
 "nbformat": 4,
 "nbformat_minor": 2
}
